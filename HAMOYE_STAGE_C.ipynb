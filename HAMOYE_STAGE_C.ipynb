{
  "nbformat": 4,
  "nbformat_minor": 0,
  "metadata": {
    "colab": {
      "name": "HAMOYE STAGE-C.ipynb",
      "provenance": [],
      "collapsed_sections": [],
      "authorship_tag": "ABX9TyOeGFnL3dcV/LjxAdBkm+Fo",
      "include_colab_link": true
    },
    "kernelspec": {
      "name": "python3",
      "display_name": "Python 3"
    }
  },
  "cells": [
    {
      "cell_type": "markdown",
      "metadata": {
        "id": "view-in-github",
        "colab_type": "text"
      },
      "source": [
        "<a href=\"https://colab.research.google.com/github/gogzicole/Hamoye-Data-science/blob/master/HAMOYE_STAGE_C.ipynb\" target=\"_parent\"><img src=\"https://colab.research.google.com/assets/colab-badge.svg\" alt=\"Open In Colab\"/></a>"
      ]
    },
    {
      "cell_type": "code",
      "metadata": {
        "id": "RQ5lmLWwnRiy",
        "colab_type": "code",
        "colab": {}
      },
      "source": [
        "import pandas as pd\n",
        "import numpy as np\n",
        "from pandas import Series, DataFrame"
      ],
      "execution_count": 2,
      "outputs": []
    },
    {
      "cell_type": "code",
      "metadata": {
        "id": "4jagNRfPfIJr",
        "colab_type": "code",
        "colab": {
          "base_uri": "https://localhost:8080/",
          "height": 71
        },
        "outputId": "a9954d6a-e643-4adf-bf0f-5e0f12543bbb"
      },
      "source": [
        "df = pd.read_csv('https://query.data.world/s/wh6j7rxy2hvrn4ml75ci62apk5hgae')"
      ],
      "execution_count": 3,
      "outputs": [
        {
          "output_type": "stream",
          "text": [
            "/usr/local/lib/python3.6/dist-packages/IPython/core/interactiveshell.py:2718: DtypeWarning: Columns (6) have mixed types.Specify dtype option on import or set low_memory=False.\n",
            "  interactivity=interactivity, compiler=compiler, result=result)\n"
          ],
          "name": "stderr"
        }
      ]
    },
    {
      "cell_type": "code",
      "metadata": {
        "id": "_aiBbdjlngaU",
        "colab_type": "code",
        "colab": {}
      },
      "source": [
        "df.isnull().sum()"
      ],
      "execution_count": null,
      "outputs": []
    },
    {
      "cell_type": "markdown",
      "metadata": {
        "id": "YdqpPnSC1P0C",
        "colab_type": "text"
      },
      "source": [
        "**counts the total number of values in target variable**"
      ]
    },
    {
      "cell_type": "code",
      "metadata": {
        "id": "DVFX_INOnjsF",
        "colab_type": "code",
        "colab": {
          "base_uri": "https://localhost:8080/",
          "height": 119
        },
        "outputId": "88eb7de5-74a3-4f3d-bee0-2139058caf1b"
      },
      "source": [
        "df['QScore'].value_counts()"
      ],
      "execution_count": 8,
      "outputs": [
        {
          "output_type": "execute_result",
          "data": {
            "text/plain": [
              "3A    51481\n",
              "2A    10576\n",
              "2B    10096\n",
              "1A       16\n",
              "1B       16\n",
              "Name: QScore, dtype: int64"
            ]
          },
          "metadata": {
            "tags": []
          },
          "execution_count": 8
        }
      ]
    },
    {
      "cell_type": "code",
      "metadata": {
        "id": "eU-rD1e1n4dR",
        "colab_type": "code",
        "colab": {
          "base_uri": "https://localhost:8080/",
          "height": 85
        },
        "outputId": "06dd1b05-640c-4f62-e68e-a0c672339ae4"
      },
      "source": [
        "df = df.dropna()\n",
        "df.head()\n",
        "df['QScore'].value_counts()"
      ],
      "execution_count": 9,
      "outputs": [
        {
          "output_type": "execute_result",
          "data": {
            "text/plain": [
              "3A    51473\n",
              "2A      224\n",
              "1A       16\n",
              "Name: QScore, dtype: int64"
            ]
          },
          "metadata": {
            "tags": []
          },
          "execution_count": 9
        }
      ]
    },
    {
      "cell_type": "markdown",
      "metadata": {
        "id": "XmiG7wy76F-5",
        "colab_type": "text"
      },
      "source": [
        "**converting to a binary classificatio problem by joining class 2A and 1A**"
      ]
    },
    {
      "cell_type": "code",
      "metadata": {
        "id": "qFUJOxGR1hv_",
        "colab_type": "code",
        "colab": {
          "base_uri": "https://localhost:8080/",
          "height": 68
        },
        "outputId": "fffd9d66-cc7b-43f3-d176-5b35b03ad81e"
      },
      "source": [
        "df['QScore'] = df['QScore'].replace(['1A'], '2A')\n",
        "df.QScore.value_counts()"
      ],
      "execution_count": 10,
      "outputs": [
        {
          "output_type": "execute_result",
          "data": {
            "text/plain": [
              "3A    51473\n",
              "2A      240\n",
              "Name: QScore, dtype: int64"
            ]
          },
          "metadata": {
            "tags": []
          },
          "execution_count": 10
        }
      ]
    },
    {
      "cell_type": "code",
      "metadata": {
        "id": "t0bhiiqo6res",
        "colab_type": "code",
        "colab": {
          "base_uri": "https://localhost:8080/",
          "height": 238
        },
        "outputId": "1bcb995c-a940-40c8-af6e-8048e37a42dd"
      },
      "source": [
        "df_2A = df[df.QScore=='2A']\n",
        "df_2A.count()\n"
      ],
      "execution_count": 11,
      "outputs": [
        {
          "output_type": "execute_result",
          "data": {
            "text/plain": [
              "country           240\n",
              "year              240\n",
              "country_code      240\n",
              "record            240\n",
              "crop_land         240\n",
              "grazing_land      240\n",
              "forest_land       240\n",
              "fishing_ground    240\n",
              "built_up_land     240\n",
              "carbon            240\n",
              "total             240\n",
              "QScore            240\n",
              "dtype: int64"
            ]
          },
          "metadata": {
            "tags": []
          },
          "execution_count": 11
        }
      ]
    },
    {
      "cell_type": "code",
      "metadata": {
        "id": "1aUmvByG7q_d",
        "colab_type": "code",
        "colab": {
          "base_uri": "https://localhost:8080/",
          "height": 238
        },
        "outputId": "553374f6-56ec-4e22-b46b-17e308381843"
      },
      "source": [
        "df_3A = df[df.QScore=='3A'].sample(350)\n",
        "df_3A.count()"
      ],
      "execution_count": 12,
      "outputs": [
        {
          "output_type": "execute_result",
          "data": {
            "text/plain": [
              "country           350\n",
              "year              350\n",
              "country_code      350\n",
              "record            350\n",
              "crop_land         350\n",
              "grazing_land      350\n",
              "forest_land       350\n",
              "fishing_ground    350\n",
              "built_up_land     350\n",
              "carbon            350\n",
              "total             350\n",
              "QScore            350\n",
              "dtype: int64"
            ]
          },
          "metadata": {
            "tags": []
          },
          "execution_count": 12
        }
      ]
    },
    {
      "cell_type": "code",
      "metadata": {
        "id": "B1cE3ZXU8IRo",
        "colab_type": "code",
        "colab": {
          "base_uri": "https://localhost:8080/",
          "height": 238
        },
        "outputId": "fb2b023b-d26c-462c-fcf1-8629ab3c907f"
      },
      "source": [
        "data_df = df_2A.append(df_3A)\n",
        "data_df.count()"
      ],
      "execution_count": 13,
      "outputs": [
        {
          "output_type": "execute_result",
          "data": {
            "text/plain": [
              "country           590\n",
              "year              590\n",
              "country_code      590\n",
              "record            590\n",
              "crop_land         590\n",
              "grazing_land      590\n",
              "forest_land       590\n",
              "fishing_ground    590\n",
              "built_up_land     590\n",
              "carbon            590\n",
              "total             590\n",
              "QScore            590\n",
              "dtype: int64"
            ]
          },
          "metadata": {
            "tags": []
          },
          "execution_count": 13
        }
      ]
    },
    {
      "cell_type": "markdown",
      "metadata": {
        "id": "Re_Le9-59lr0",
        "colab_type": "text"
      },
      "source": [
        "**shuffuling the dataset to randomize distribution of 2A and 3A**"
      ]
    },
    {
      "cell_type": "code",
      "metadata": {
        "id": "x8y7Q2408V6i",
        "colab_type": "code",
        "colab": {
          "base_uri": "https://localhost:8080/",
          "height": 68
        },
        "outputId": "30857bb6-59fb-4c72-8863-34f82cab9d34"
      },
      "source": [
        "import sklearn.utils\n",
        "data_df = sklearn.utils.shuffle(data_df)\n",
        "data_df = data_df.reset_index(drop=True)\n",
        "data_df.shape\n",
        "data_df['QScore'].value_counts()"
      ],
      "execution_count": 14,
      "outputs": [
        {
          "output_type": "execute_result",
          "data": {
            "text/plain": [
              "3A    350\n",
              "2A    240\n",
              "Name: QScore, dtype: int64"
            ]
          },
          "metadata": {
            "tags": []
          },
          "execution_count": 14
        }
      ]
    },
    {
      "cell_type": "markdown",
      "metadata": {
        "id": "HbxGx2TU_ljY",
        "colab_type": "text"
      },
      "source": [
        "**dropping the first 3 columns and re-assigning QScore to y and the remaining data set to x**"
      ]
    },
    {
      "cell_type": "code",
      "metadata": {
        "id": "SmiIY72f9-SD",
        "colab_type": "code",
        "colab": {}
      },
      "source": [
        "data_df = data_df.drop(columns=['country_code', 'country', 'year'])\n",
        "x = data_df.drop(columns='QScore')\n",
        "y = data_df['QScore']\n"
      ],
      "execution_count": null,
      "outputs": []
    },
    {
      "cell_type": "markdown",
      "metadata": {
        "id": "7Q2WZZ82Bbiq",
        "colab_type": "text"
      },
      "source": [
        "**splitting  data into test and split**"
      ]
    },
    {
      "cell_type": "code",
      "metadata": {
        "id": "peyQgOgHAHK6",
        "colab_type": "code",
        "colab": {}
      },
      "source": [
        "from sklearn.model_selection import train_test_split\n",
        "x_train, x_test, y_train, y_test = train_test_split(x, y, test_size=0.30, random_state=0)\n",
        "y_train.value_counts()"
      ],
      "execution_count": null,
      "outputs": []
    },
    {
      "cell_type": "markdown",
      "metadata": {
        "id": "h9NWJ-rDIONU",
        "colab_type": "text"
      },
      "source": [
        "**now we must encode categorical data**"
      ]
    },
    {
      "cell_type": "code",
      "metadata": {
        "id": "LpNokIJxIJ64",
        "colab_type": "code",
        "colab": {}
      },
      "source": [
        "from sklearn.preprocessing import LabelEncoder\n",
        "encoder = LabelEncoder()\n",
        "x_train.record = encoder.fit_transform(x_train.record)\n",
        "x_test.record = encoder.transform(x_test.record)"
      ],
      "execution_count": null,
      "outputs": []
    },
    {
      "cell_type": "markdown",
      "metadata": {
        "id": "m49RSbp8GHYH",
        "colab_type": "text"
      },
      "source": [
        "**if there is still an inbalance on the class distribution, for this we must use SMOTE to handle this, but only on the training data**"
      ]
    },
    {
      "cell_type": "code",
      "metadata": {
        "id": "qrt3-It3AIRD",
        "colab_type": "code",
        "colab": {}
      },
      "source": [
        "import imblearn\n",
        "from imblearn.over_sampling import SMOTE\n",
        "smote = SMOTE(random_state=1)\n",
        "x_train_balanced, y_balanced = smote.fit_sample(x_train, y_train)\n",
        "x_train_balanced = DataFrame(x_train_balanced, columns=x_train.columns)\n",
        "\n",
        "x_train_balanced"
      ],
      "execution_count": null,
      "outputs": []
    },
    {
      "cell_type": "markdown",
      "metadata": {
        "id": "9nyWKcNqJslt",
        "colab_type": "text"
      },
      "source": [
        "**now we perform feature scaling on the dataset**"
      ]
    },
    {
      "cell_type": "code",
      "metadata": {
        "id": "cVMONeHfGk2v",
        "colab_type": "code",
        "colab": {}
      },
      "source": [
        "from sklearn.preprocessing import MinMaxScaler\n",
        "scaler = MinMaxScaler()\n",
        "normalised_train_df = scaler.fit_transform(x_train_balanced.drop(columns=['record']))\n",
        "normalised_train_df = pd.DataFrame(normalised_train_df, columns=x_train_balanced.drop(columns=['record']).columns)\n",
        "normalised_train_df['record'] = x_train_balanced['record']\n",
        "#normalised_train_df"
      ],
      "execution_count": null,
      "outputs": []
    },
    {
      "cell_type": "code",
      "metadata": {
        "id": "1axyVPU0K5_z",
        "colab_type": "code",
        "colab": {}
      },
      "source": [
        "x_test = x_test.reset_index(drop=True)\n",
        "normalised_test_df = scaler.transform(x_test.drop(columns=['record']))\n",
        "normalised_test_df = pd.DataFrame(normalised_test_df, columns=x_test.drop(columns=['record']).columns)\n",
        "normalised_test_df['record'] = x_test['record']\n"
      ],
      "execution_count": 134,
      "outputs": []
    },
    {
      "cell_type": "markdown",
      "metadata": {
        "id": "OtHT6tDLA5c8",
        "colab_type": "text"
      },
      "source": [
        "**Logistics regression**"
      ]
    },
    {
      "cell_type": "code",
      "metadata": {
        "id": "sBSTiWIqMMwQ",
        "colab_type": "code",
        "colab": {
          "base_uri": "https://localhost:8080/",
          "height": 102
        },
        "outputId": "529f0293-e53d-4cd5-f7e1-fd7edd06630d"
      },
      "source": [
        "from sklearn.linear_model import LogisticRegression\n",
        "log_reg = LogisticRegression()\n",
        "log_reg.fit(normalised_train_df, y_balanced)"
      ],
      "execution_count": 137,
      "outputs": [
        {
          "output_type": "execute_result",
          "data": {
            "text/plain": [
              "LogisticRegression(C=1.0, class_weight=None, dual=False, fit_intercept=True,\n",
              "                   intercept_scaling=1, l1_ratio=None, max_iter=100,\n",
              "                   multi_class='auto', n_jobs=None, penalty='l2',\n",
              "                   random_state=None, solver='lbfgs', tol=0.0001, verbose=0,\n",
              "                   warm_start=False)"
            ]
          },
          "metadata": {
            "tags": []
          },
          "execution_count": 137
        }
      ]
    }
  ]
}