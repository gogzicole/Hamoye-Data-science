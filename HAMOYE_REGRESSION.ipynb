{
  "nbformat": 4,
  "nbformat_minor": 0,
  "metadata": {
    "colab": {
      "name": "HAMOYE REGRESSION.ipynb",
      "provenance": [],
      "authorship_tag": "ABX9TyNAojjxHf9Ehhi6TU67cZ47",
      "include_colab_link": true
    },
    "kernelspec": {
      "name": "python3",
      "display_name": "Python 3"
    }
  },
  "cells": [
    {
      "cell_type": "markdown",
      "metadata": {
        "id": "view-in-github",
        "colab_type": "text"
      },
      "source": [
        "<a href=\"https://colab.research.google.com/github/gogzicole/Hamoye-Data-science/blob/master/HAMOYE_REGRESSION.ipynb\" target=\"_parent\"><img src=\"https://colab.research.google.com/assets/colab-badge.svg\" alt=\"Open In Colab\"/></a>"
      ]
    },
    {
      "cell_type": "code",
      "metadata": {
        "id": "8PnvOlpih-h7",
        "colab_type": "code",
        "colab": {}
      },
      "source": [
        "import numpy as np\n",
        "import pandas as pd\n",
        "from pandas import DataFrame, Series\n",
        "import matplotlib.pyplot as plt"
      ],
      "execution_count": 47,
      "outputs": []
    },
    {
      "cell_type": "code",
      "metadata": {
        "id": "HKdDbTo4tifS",
        "colab_type": "code",
        "colab": {}
      },
      "source": [
        "url = \"https://raw.githubusercontent.com/gogzicole/Hamoye-Data-science/master/energydata_complete.csv\"\n",
        "df = pd.read_csv(url)"
      ],
      "execution_count": 34,
      "outputs": []
    },
    {
      "cell_type": "code",
      "metadata": {
        "id": "7clsgrnDi3OM",
        "colab_type": "code",
        "colab": {}
      },
      "source": [
        "df.head()"
      ],
      "execution_count": null,
      "outputs": []
    },
    {
      "cell_type": "markdown",
      "metadata": {
        "id": "DexNRts4kjTx",
        "colab_type": "text"
      },
      "source": [
        "**NORMALIZING DATASET**"
      ]
    },
    {
      "cell_type": "code",
      "metadata": {
        "id": "C2utpXR4i60f",
        "colab_type": "code",
        "colab": {}
      },
      "source": [
        "from sklearn.preprocessing import MinMaxScaler\n",
        "scaler = MinMaxScaler()\n",
        "dropped_df = df.drop(columns=['date','lights'])\n",
        "normalised_dropped_df = DataFrame(scaler.fit_transform(dropped_df),columns = dropped_df.columns)\n",
        "independent_variable = normalised_dropped_df.drop(columns=['Appliances'])\n",
        "target_variable = normalised_dropped_df['Appliances']"
      ],
      "execution_count": 41,
      "outputs": []
    },
    {
      "cell_type": "markdown",
      "metadata": {
        "id": "VbGjgIVtmO9n",
        "colab_type": "text"
      },
      "source": [
        "**TRAINING DATA SET**"
      ]
    },
    {
      "cell_type": "code",
      "metadata": {
        "id": "cjBavbmfltfw",
        "colab_type": "code",
        "colab": {}
      },
      "source": [
        "from sklearn.model_selection import train_test_split\n",
        "x_train,x_test,y_train,y_test = train_test_split(independent_variable,target_variable,test_size=0.3,random_state = 42)"
      ],
      "execution_count": 42,
      "outputs": []
    },
    {
      "cell_type": "markdown",
      "metadata": {
        "id": "q56w-tE4nd5u",
        "colab_type": "text"
      },
      "source": [
        "**SIMPLE LINEAR REGRESSION**"
      ]
    },
    {
      "cell_type": "code",
      "metadata": {
        "id": "iBu9qY5Lnb-W",
        "colab_type": "code",
        "colab": {
          "base_uri": "https://localhost:8080/",
          "height": 34
        },
        "outputId": "27f302a4-0d7b-4be1-8569-13b7eb063ddf"
      },
      "source": [
        "from sklearn.linear_model import LinearRegression\n",
        "regressor = LinearRegression()\n",
        "regressor.fit(x_train,y_train)"
      ],
      "execution_count": 46,
      "outputs": [
        {
          "output_type": "execute_result",
          "data": {
            "text/plain": [
              "LinearRegression(copy_X=True, fit_intercept=True, n_jobs=None, normalize=False)"
            ]
          },
          "metadata": {
            "tags": []
          },
          "execution_count": 46
        }
      ]
    },
    {
      "cell_type": "code",
      "metadata": {
        "id": "ojJPO1fpnK_a",
        "colab_type": "code",
        "colab": {}
      },
      "source": [
        "y_pred = regressor.predict(x_test)\n",
        "y_pred.reshape(-1,1)"
      ],
      "execution_count": null,
      "outputs": []
    },
    {
      "cell_type": "markdown",
      "metadata": {
        "id": "EmZ8Q6BZm9ZW",
        "colab_type": "text"
      },
      "source": [
        "**COMPARING THE EFFECTS OF REGULARIZATION/PENALIZATION**"
      ]
    },
    {
      "cell_type": "code",
      "metadata": {
        "id": "Y_5Myytymzr0",
        "colab_type": "code",
        "colab": {}
      },
      "source": [
        "def get_weight(model,feat,col_name):\n",
        "  weights = Series(model.coef_,feat.columns).sort_values()\n",
        "  weights = DataFrame(weights).reset_index()\n",
        "  weights.columns = [\"Features\",col_name]\n",
        "  weights[col_name].round(3)\n",
        "  return weights"
      ],
      "execution_count": 60,
      "outputs": []
    },
    {
      "cell_type": "markdown",
      "metadata": {
        "id": "qlRq9ZBSo6nA",
        "colab_type": "text"
      },
      "source": [
        "**LASSO REGRESSION**"
      ]
    },
    {
      "cell_type": "code",
      "metadata": {
        "id": "CCPhnngaozLL",
        "colab_type": "code",
        "colab": {
          "base_uri": "https://localhost:8080/",
          "height": 68
        },
        "outputId": "490825e0-0318-45ff-ac01-3d8a2d6aa0d1"
      },
      "source": [
        "from sklearn.linear_model import Lasso\n",
        "lasso_reg = Lasso(alpha = 0.001)\n",
        "lasso_reg.fit(x_train,y_train)"
      ],
      "execution_count": 53,
      "outputs": [
        {
          "output_type": "execute_result",
          "data": {
            "text/plain": [
              "Lasso(alpha=0.001, copy_X=True, fit_intercept=True, max_iter=1000,\n",
              "      normalize=False, positive=False, precompute=False, random_state=None,\n",
              "      selection='cyclic', tol=0.0001, warm_start=False)"
            ]
          },
          "metadata": {
            "tags": []
          },
          "execution_count": 53
        }
      ]
    },
    {
      "cell_type": "markdown",
      "metadata": {
        "id": "fpv4dPRBplNx",
        "colab_type": "text"
      },
      "source": [
        "**RIDGE REGRESSION**"
      ]
    },
    {
      "cell_type": "code",
      "metadata": {
        "id": "uPTLx5JBpE4W",
        "colab_type": "code",
        "colab": {
          "base_uri": "https://localhost:8080/",
          "height": 51
        },
        "outputId": "22f07c5d-b86c-4152-9aee-c55b1ac3b9b3"
      },
      "source": [
        "from sklearn.linear_model import Ridge\n",
        "ridge_reg = Ridge(alpha = 0.5)\n",
        "ridge_reg.fit(x_train,y_train)"
      ],
      "execution_count": 54,
      "outputs": [
        {
          "output_type": "execute_result",
          "data": {
            "text/plain": [
              "Ridge(alpha=0.5, copy_X=True, fit_intercept=True, max_iter=None,\n",
              "      normalize=False, random_state=None, solver='auto', tol=0.001)"
            ]
          },
          "metadata": {
            "tags": []
          },
          "execution_count": 54
        }
      ]
    },
    {
      "cell_type": "markdown",
      "metadata": {
        "id": "s7C7Qyjsp9V_",
        "colab_type": "text"
      },
      "source": [
        "**LINEAR REGRESSION**"
      ]
    },
    {
      "cell_type": "code",
      "metadata": {
        "id": "0-h4pxZXp51z",
        "colab_type": "code",
        "colab": {
          "base_uri": "https://localhost:8080/",
          "height": 34
        },
        "outputId": "03e0005b-ec64-4fcf-e948-140903ba579a"
      },
      "source": [
        "linear_reg = LinearRegression()\n",
        "linear_reg.fit(x_train,y_train)"
      ],
      "execution_count": 56,
      "outputs": [
        {
          "output_type": "execute_result",
          "data": {
            "text/plain": [
              "LinearRegression(copy_X=True, fit_intercept=True, n_jobs=None, normalize=False)"
            ]
          },
          "metadata": {
            "tags": []
          },
          "execution_count": 56
        }
      ]
    },
    {
      "cell_type": "markdown",
      "metadata": {
        "id": "L8YB_066qYHW",
        "colab_type": "text"
      },
      "source": [
        "**COMPUTING THE WEIGHT**"
      ]
    },
    {
      "cell_type": "markdown",
      "metadata": {
        "id": "s4QGkiX-qd1L",
        "colab_type": "text"
      },
      "source": [
        "**linear model**"
      ]
    },
    {
      "cell_type": "code",
      "metadata": {
        "id": "-FKgRJvCqMKu",
        "colab_type": "code",
        "colab": {}
      },
      "source": [
        "linear_model_weights = get_weight(linear_reg,x_train,'Linear_model_weight')\n",
        "linear_model_weights"
      ],
      "execution_count": 61,
      "outputs": []
    },
    {
      "cell_type": "markdown",
      "metadata": {
        "id": "uPU-GT5GrNVF",
        "colab_type": "text"
      },
      "source": [
        "**ridge model**"
      ]
    },
    {
      "cell_type": "code",
      "metadata": {
        "id": "2Y0m03Jkqs3f",
        "colab_type": "code",
        "colab": {}
      },
      "source": [
        "ridge_weights = get_weight(ridge_reg,x_train,'Ridge_weight')\n",
        "ridge_weights"
      ],
      "execution_count": null,
      "outputs": []
    },
    {
      "cell_type": "markdown",
      "metadata": {
        "id": "dbtb2fkDrzyf",
        "colab_type": "text"
      },
      "source": [
        "**lasso model**"
      ]
    },
    {
      "cell_type": "code",
      "metadata": {
        "id": "IwOXEUjCrizx",
        "colab_type": "code",
        "colab": {}
      },
      "source": [
        "lasso_weights = get_weight(lasso_reg,x_train,'Lasso_weight')\n",
        "lasso_weights"
      ],
      "execution_count": null,
      "outputs": []
    },
    {
      "cell_type": "code",
      "metadata": {
        "id": "pefHJPs2sIy0",
        "colab_type": "code",
        "colab": {}
      },
      "source": [
        "merged_weights = pd.merge(linear_model_weights,ridge_weights, on = 'Features')\n",
        "merged_weights = pd.merge(merged_weights, lasso_weights, on = 'Features')\n",
        "merged_weights"
      ],
      "execution_count": 68,
      "outputs": []
    },
    {
      "cell_type": "markdown",
      "metadata": {
        "id": "EahjVIC_syf5",
        "colab_type": "text"
      },
      "source": [
        "**MEAN ABSOLUTE ERROR**"
      ]
    },
    {
      "cell_type": "code",
      "metadata": {
        "id": "Um78oBlXsmKc",
        "colab_type": "code",
        "colab": {}
      },
      "source": [
        "from sklearn.metrics import mean_absolute_error\n",
        "mae = mean_absolute_error(y_test,y_pred)\n",
        "round(rss,3)"
      ],
      "execution_count": 71,
      "outputs": []
    },
    {
      "cell_type": "markdown",
      "metadata": {
        "id": "FaJC2uRStXKc",
        "colab_type": "text"
      },
      "source": [
        "**R SQUARED**"
      ]
    },
    {
      "cell_type": "code",
      "metadata": {
        "id": "ByLWDDwBtK1s",
        "colab_type": "code",
        "colab": {}
      },
      "source": [
        "from sklearn.metrics import r2_score\n",
        "r2_score = r2_score(y_test,y_pred)\n",
        "round(r2_score,3)"
      ],
      "execution_count": null,
      "outputs": []
    },
    {
      "cell_type": "markdown",
      "metadata": {
        "id": "p_Te5HM1txk4",
        "colab_type": "text"
      },
      "source": [
        "**RESIDUAL SUM OF SQUARES**"
      ]
    },
    {
      "cell_type": "code",
      "metadata": {
        "id": "7xDy3dSRtswT",
        "colab_type": "code",
        "colab": {}
      },
      "source": [
        "rss = np.sum(np.square(y_test-y_pred))\n",
        "round(rss,3)"
      ],
      "execution_count": null,
      "outputs": []
    },
    {
      "cell_type": "markdown",
      "metadata": {
        "id": "WD2WjZeFuhHc",
        "colab_type": "text"
      },
      "source": [
        "**ROOT MEAN SQUARE**"
      ]
    },
    {
      "cell_type": "code",
      "metadata": {
        "id": "2LGL45uauW6P",
        "colab_type": "code",
        "colab": {}
      },
      "source": [
        "from sklearn.metrics import mean_squared_error\n",
        "rmse = np.sqrt(mean_squared_error(y_test,y_pred))\n",
        "round(rmse,3)"
      ],
      "execution_count": 77,
      "outputs": []
    },
    {
      "cell_type": "code",
      "metadata": {
        "id": "_ZoDyIn1urZ9",
        "colab_type": "code",
        "colab": {}
      },
      "source": [
        ""
      ],
      "execution_count": null,
      "outputs": []
    }
  ]
}