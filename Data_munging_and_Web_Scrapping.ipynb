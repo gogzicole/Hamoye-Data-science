{
  "nbformat": 4,
  "nbformat_minor": 0,
  "metadata": {
    "colab": {
      "name": "Data munging and Web Scrapping.ipynb",
      "provenance": [],
      "authorship_tag": "ABX9TyOq29/p8gh7G5+VPfTNXbRc",
      "include_colab_link": true
    },
    "kernelspec": {
      "name": "python3",
      "display_name": "Python 3"
    }
  },
  "cells": [
    {
      "cell_type": "markdown",
      "metadata": {
        "id": "view-in-github",
        "colab_type": "text"
      },
      "source": [
        "<a href=\"https://colab.research.google.com/github/gogzicole/Hamoye-Data-science/blob/master/Data_munging_and_Web_Scrapping.ipynb\" target=\"_parent\"><img src=\"https://colab.research.google.com/assets/colab-badge.svg\" alt=\"Open In Colab\"/></a>"
      ]
    },
    {
      "cell_type": "code",
      "metadata": {
        "id": "8BzXlZDrwGbI",
        "colab_type": "code",
        "colab": {}
      },
      "source": [
        "import pandas as pd\n",
        "import numpy as np\n",
        "from pandas import Series, DataFrame\n",
        "import json"
      ],
      "execution_count": 1,
      "outputs": []
    },
    {
      "cell_type": "markdown",
      "metadata": {
        "id": "T3FDnj8R9OTH",
        "colab_type": "text"
      },
      "source": [
        "**loading data as pandas dataframe**"
      ]
    },
    {
      "cell_type": "code",
      "metadata": {
        "id": "b6NQInmPx96i",
        "colab_type": "code",
        "colab": {
          "base_uri": "https://localhost:8080/",
          "height": 335
        },
        "outputId": "4b311d24-ecad-41d3-fa07-7fbdf4ca80e9"
      },
      "source": [
        "df = pd.read_html('https://en.wikipedia.org/w/index.php?title=Fortune_Global_500&oldid=855890446', header=0)[0]\n",
        "df"
      ],
      "execution_count": 72,
      "outputs": [
        {
          "output_type": "execute_result",
          "data": {
            "text/html": [
              "<div>\n",
              "<style scoped>\n",
              "    .dataframe tbody tr th:only-of-type {\n",
              "        vertical-align: middle;\n",
              "    }\n",
              "\n",
              "    .dataframe tbody tr th {\n",
              "        vertical-align: top;\n",
              "    }\n",
              "\n",
              "    .dataframe thead th {\n",
              "        text-align: right;\n",
              "    }\n",
              "</style>\n",
              "<table border=\"1\" class=\"dataframe\">\n",
              "  <thead>\n",
              "    <tr style=\"text-align: right;\">\n",
              "      <th></th>\n",
              "      <th>Rank</th>\n",
              "      <th>Company</th>\n",
              "      <th>Country</th>\n",
              "      <th>Industry</th>\n",
              "      <th>Revenue in USD</th>\n",
              "    </tr>\n",
              "  </thead>\n",
              "  <tbody>\n",
              "    <tr>\n",
              "      <th>0</th>\n",
              "      <td>1</td>\n",
              "      <td>Walmart</td>\n",
              "      <td>United States</td>\n",
              "      <td>Retail</td>\n",
              "      <td>$500 billion</td>\n",
              "    </tr>\n",
              "    <tr>\n",
              "      <th>1</th>\n",
              "      <td>2</td>\n",
              "      <td>State Grid</td>\n",
              "      <td>China</td>\n",
              "      <td>Power</td>\n",
              "      <td>$349 billion</td>\n",
              "    </tr>\n",
              "    <tr>\n",
              "      <th>2</th>\n",
              "      <td>3</td>\n",
              "      <td>Sinopec Group</td>\n",
              "      <td>China</td>\n",
              "      <td>Petroleum</td>\n",
              "      <td>$327 billion</td>\n",
              "    </tr>\n",
              "    <tr>\n",
              "      <th>3</th>\n",
              "      <td>4</td>\n",
              "      <td>China National Petroleum</td>\n",
              "      <td>China</td>\n",
              "      <td>Petroleum</td>\n",
              "      <td>$326 billion</td>\n",
              "    </tr>\n",
              "    <tr>\n",
              "      <th>4</th>\n",
              "      <td>5</td>\n",
              "      <td>Royal Dutch Shell</td>\n",
              "      <td>Netherlands</td>\n",
              "      <td>Petroleum</td>\n",
              "      <td>$312 billion</td>\n",
              "    </tr>\n",
              "    <tr>\n",
              "      <th>5</th>\n",
              "      <td>6</td>\n",
              "      <td>Toyota Motor</td>\n",
              "      <td>Japan</td>\n",
              "      <td>Automobiles</td>\n",
              "      <td>$265 billion</td>\n",
              "    </tr>\n",
              "    <tr>\n",
              "      <th>6</th>\n",
              "      <td>7</td>\n",
              "      <td>Volkswagen</td>\n",
              "      <td>Germany</td>\n",
              "      <td>Automobiles</td>\n",
              "      <td>$260 billion</td>\n",
              "    </tr>\n",
              "    <tr>\n",
              "      <th>7</th>\n",
              "      <td>8</td>\n",
              "      <td>BP</td>\n",
              "      <td>United Kingdom</td>\n",
              "      <td>Petroleum</td>\n",
              "      <td>$245 billion</td>\n",
              "    </tr>\n",
              "    <tr>\n",
              "      <th>8</th>\n",
              "      <td>9</td>\n",
              "      <td>Exxon Mobil</td>\n",
              "      <td>United States</td>\n",
              "      <td>Petroleum</td>\n",
              "      <td>$244 billion</td>\n",
              "    </tr>\n",
              "    <tr>\n",
              "      <th>9</th>\n",
              "      <td>10</td>\n",
              "      <td>Berkshire Hathaway</td>\n",
              "      <td>United States</td>\n",
              "      <td>Products</td>\n",
              "      <td>$242 billion</td>\n",
              "    </tr>\n",
              "  </tbody>\n",
              "</table>\n",
              "</div>"
            ],
            "text/plain": [
              "   Rank                   Company         Country     Industry Revenue in USD\n",
              "0     1                   Walmart   United States       Retail   $500 billion\n",
              "1     2                State Grid           China        Power   $349 billion\n",
              "2     3             Sinopec Group           China    Petroleum   $327 billion\n",
              "3     4  China National Petroleum           China    Petroleum   $326 billion\n",
              "4     5         Royal Dutch Shell     Netherlands    Petroleum   $312 billion\n",
              "5     6              Toyota Motor           Japan  Automobiles   $265 billion\n",
              "6     7                Volkswagen         Germany  Automobiles   $260 billion\n",
              "7     8                        BP  United Kingdom    Petroleum   $245 billion\n",
              "8     9               Exxon Mobil   United States    Petroleum   $244 billion\n",
              "9    10        Berkshire Hathaway   United States     Products   $242 billion"
            ]
          },
          "metadata": {
            "tags": []
          },
          "execution_count": 72
        }
      ]
    },
    {
      "cell_type": "markdown",
      "metadata": {
        "id": "pKEITuZH9VYG",
        "colab_type": "text"
      },
      "source": [
        "**loading the data as a json file**"
      ]
    },
    {
      "cell_type": "code",
      "metadata": {
        "id": "YmmhuRf0ynKv",
        "colab_type": "code",
        "colab": {
          "base_uri": "https://localhost:8080/",
          "height": 180
        },
        "outputId": "f903efba-05fc-4815-8db5-b3c441e375da"
      },
      "source": [
        "fortune_500 = json.loads(df.to_json(orient=\"records\"))\n",
        "fortune_500[:2]"
      ],
      "execution_count": 3,
      "outputs": [
        {
          "output_type": "execute_result",
          "data": {
            "text/plain": [
              "[{'Company': 'Walmart',\n",
              "  'Country': 'United States',\n",
              "  'Industry': 'Retail',\n",
              "  'Rank': 1,\n",
              "  'Revenue in USD': '$500 billion'},\n",
              " {'Company': 'State Grid',\n",
              "  'Country': 'China',\n",
              "  'Industry': 'Power',\n",
              "  'Rank': 2,\n",
              "  'Revenue in USD': '$349 billion'}]"
            ]
          },
          "metadata": {
            "tags": []
          },
          "execution_count": 3
        }
      ]
    },
    {
      "cell_type": "markdown",
      "metadata": {
        "id": "373SGk4L9bt1",
        "colab_type": "text"
      },
      "source": [
        "**manually creating data with similar field as previous data**"
      ]
    },
    {
      "cell_type": "code",
      "metadata": {
        "id": "OPu_nSlFy4HH",
        "colab_type": "code",
        "colab": {}
      },
      "source": [
        "other_data = [\n",
        "    {\"name\": \"Walmart\",\n",
        "     \"employees\": 2300000,\n",
        "     \"year founded\": 1962\n",
        "    },\n",
        "    {\"name\": \"State Grid Corporation of China\",\n",
        "     \"employees\": 927839,\n",
        "     \"year founded\": 2002},\n",
        "    {\"name\": \"China Petrochemical Corporation\",\n",
        "     \"employees\":358571,\n",
        "     \"year founded\": 1998\n",
        "     },\n",
        "    {\"name\": \"China National Petroleum Corporation\",\n",
        "     \"employees\": 1636532,\n",
        "     \"year founded\": 1988},\n",
        "    {\"name\": \"Toyota Motor Corporation\",\n",
        "     \"employees\": 364445,\n",
        "     \"year founded\": 1937},\n",
        "    {\"name\": \"Volkswagen AG\",\n",
        "     \"employees\": 642292,\n",
        "     \"year founded\": 1937},\n",
        "    {\"name\": \"Royal Dutch Shell\",\n",
        "     \"employees\": 92000,\n",
        "     \"year founded\": 1907},\n",
        "    {\"name\": \"Berkshire Hathaway Inc.\",\n",
        "     \"employees\":377000,\n",
        "     \"year founded\": 1839},\n",
        "    {\"name\": \"Apple Inc.\",\n",
        "     \"employees\": 123000,\n",
        "     \"year founded\": 1976},\n",
        "    {\"name\": \"Exxon Mobile Corporation\",\n",
        "     \"employees\": 69600,\n",
        "     \"year founded\": 1999},\n",
        "    {\"name\": \"BP plc\",\n",
        "     \"employees\": 74000,\n",
        "     \"year founded\": 1908}\n",
        "]"
      ],
      "execution_count": 8,
      "outputs": []
    },
    {
      "cell_type": "markdown",
      "metadata": {
        "id": "imdyA8G49pbE",
        "colab_type": "text"
      },
      "source": [
        "**converting other_data to a dictionary of dictionary**"
      ]
    },
    {
      "cell_type": "code",
      "metadata": {
        "id": "odg1XvFC6g8t",
        "colab_type": "code",
        "colab": {}
      },
      "source": [
        "dict_data = {i['name']: i for i in other_data }"
      ],
      "execution_count": 9,
      "outputs": []
    },
    {
      "cell_type": "markdown",
      "metadata": {
        "id": "5WOWBzuL9zG3",
        "colab_type": "text"
      },
      "source": [
        "**define a function that reads the first 5 fields of a dictionary of dictionaries**"
      ]
    },
    {
      "cell_type": "code",
      "metadata": {
        "id": "XTj45qPe9BTg",
        "colab_type": "code",
        "colab": {}
      },
      "source": [
        "def dict_head(dict_):\n",
        "     return dict(list(dict_.items())[:5])"
      ],
      "execution_count": 10,
      "outputs": []
    },
    {
      "cell_type": "code",
      "metadata": {
        "id": "AE645VBp9d9a",
        "colab_type": "code",
        "colab": {
          "base_uri": "https://localhost:8080/",
          "height": 228
        },
        "outputId": "a24aa248-2202-4c42-95a1-4d9d418f8090"
      },
      "source": [
        "dict_head(dict_data)"
      ],
      "execution_count": 7,
      "outputs": [
        {
          "output_type": "execute_result",
          "data": {
            "text/plain": [
              "{'China National Petroleum Corporation': {'employees': 1636532,\n",
              "  'name': 'China National Petroleum Corporation',\n",
              "  'year founded': 1988},\n",
              " 'China Petrochemical Corporation': {'employees': 358571,\n",
              "  'name': 'China Petrochemical Corporation',\n",
              "  'year founded': 1998},\n",
              " 'State Grid Corporation of China': {'employees': 927839,\n",
              "  'name': 'State Grid Corporation of China',\n",
              "  'year founded': 2002},\n",
              " 'Toyota Motor Corporation': {'employees': 364445,\n",
              "  'name': 'Toyota Motor Corporation',\n",
              "  'year founded': 1937},\n",
              " 'Walmart': {'employees': 2300000, 'name': 'Walmart', 'year founded': 1962}}"
            ]
          },
          "metadata": {
            "tags": []
          },
          "execution_count": 7
        }
      ]
    },
    {
      "cell_type": "markdown",
      "metadata": {
        "id": "Fz8OkOix-BGH",
        "colab_type": "text"
      },
      "source": [
        "**creates a mapping variable that contains a key value pair of names from df and other_data**"
      ]
    },
    {
      "cell_type": "code",
      "metadata": {
        "id": "mitK93au3nkf",
        "colab_type": "code",
        "colab": {}
      },
      "source": [
        "mapping = {\n",
        "    'Apple': 'Apple Inc.',\n",
        "    'BP': 'BP plc',\n",
        "    'Berkshire Hathaway': 'Berkshire Hathaway Inc.',\n",
        "    'China National Petroleum': 'China National Petroleum Corporation',\n",
        "    'Exxon Mobil': 'Exxon Mobile Corporation',\n",
        "    'Sinopec Group': 'China Petrochemical Corporation',\n",
        "    'State Grid': 'State Grid Corporation of China',\n",
        "    'Toyota Motor': 'Toyota Motor Corporation',\n",
        "    'Volkswagen': 'Volkswagen AG'\n",
        "}"
      ],
      "execution_count": 23,
      "outputs": []
    },
    {
      "cell_type": "code",
      "metadata": {
        "id": "N6II7a1TCMUl",
        "colab_type": "code",
        "colab": {
          "base_uri": "https://localhost:8080/",
          "height": 33
        },
        "outputId": "b4e99a2e-f283-47d3-f5b2-fe23aa0d51ba"
      },
      "source": [
        "name = 'Exxon Mobil'\n",
        "dict_data[mapping.get(name,name)].get('employees')"
      ],
      "execution_count": 49,
      "outputs": [
        {
          "output_type": "execute_result",
          "data": {
            "text/plain": [
              "69600"
            ]
          },
          "metadata": {
            "tags": []
          },
          "execution_count": 49
        }
      ]
    },
    {
      "cell_type": "markdown",
      "metadata": {
        "id": "T9PuYC7s-TTY",
        "colab_type": "text"
      },
      "source": [
        "**defining a function that strips alphabets from numerals and coverts to float**"
      ]
    },
    {
      "cell_type": "code",
      "metadata": {
        "id": "o1mTlJPu_lkn",
        "colab_type": "code",
        "colab": {}
      },
      "source": [
        "def convert_revenue(x):\n",
        "    return float(x.lstrip('$').rstrip('billion')) * 1e9\n",
        "\n",
        "assert convert_revenue('$500 billion') == 500e9"
      ],
      "execution_count": 26,
      "outputs": []
    },
    {
      "cell_type": "code",
      "metadata": {
        "id": "3DDBJWtd_muK",
        "colab_type": "code",
        "colab": {
          "base_uri": "https://localhost:8080/",
          "height": 180
        },
        "outputId": "07e79c45-5523-44c4-98b9-8aa3b460c691"
      },
      "source": [
        "[convert_revenue(i['Revenue in USD']) for i in fortune_500]"
      ],
      "execution_count": 65,
      "outputs": [
        {
          "output_type": "execute_result",
          "data": {
            "text/plain": [
              "[500000000000.0,\n",
              " 349000000000.0,\n",
              " 327000000000.0,\n",
              " 326000000000.0,\n",
              " 312000000000.0,\n",
              " 265000000000.0,\n",
              " 260000000000.0,\n",
              " 245000000000.0,\n",
              " 244000000000.0,\n",
              " 242000000000.0]"
            ]
          },
          "metadata": {
            "tags": []
          },
          "execution_count": 65
        }
      ]
    },
    {
      "cell_type": "markdown",
      "metadata": {
        "id": "Hx8XIur0-5WN",
        "colab_type": "text"
      },
      "source": [
        "**define a function that computes rev_per_employees and add new field to data set**"
      ]
    },
    {
      "cell_type": "code",
      "metadata": {
        "id": "Zos2s6kfAhqL",
        "colab_type": "code",
        "colab": {}
      },
      "source": [
        "def rev_per_emp(company):\n",
        "    name = company[u'Company']\n",
        "    n_employees = dict_data[mapping.get(name, name)].get('employees')\n",
        "    company['rev per emp'] = convert_revenue(company[u'Revenue in USD'])/n_employees\n",
        "    return company\n",
        "\n",
        "def compute_copy(d, func):\n",
        "    return func({k:v for k,v in d.items()})\n",
        "\n",
        "data = list(map(lambda x : compute_copy(x, rev_per_emp), fortune_500))"
      ],
      "execution_count": 27,
      "outputs": []
    },
    {
      "cell_type": "code",
      "metadata": {
        "id": "jSsbERTjETFM",
        "colab_type": "code",
        "colab": {
          "base_uri": "https://localhost:8080/",
          "height": 212
        },
        "outputId": "bbe8e552-ab80-40b1-dbd0-f3008cd8e594"
      },
      "source": [
        "data[:2]"
      ],
      "execution_count": 73,
      "outputs": [
        {
          "output_type": "execute_result",
          "data": {
            "text/plain": [
              "[{'Company': 'Walmart',\n",
              "  'Country': 'United States',\n",
              "  'Industry': 'Retail',\n",
              "  'Rank': 1,\n",
              "  'Revenue in USD': '$500 billion',\n",
              "  'rev per emp': 217391.30434782608},\n",
              " {'Company': 'State Grid',\n",
              "  'Country': 'China',\n",
              "  'Industry': 'Power',\n",
              "  'Rank': 2,\n",
              "  'Revenue in USD': '$349 billion',\n",
              "  'rev per emp': 376142.84374767606}]"
            ]
          },
          "metadata": {
            "tags": []
          },
          "execution_count": 73
        }
      ]
    },
    {
      "cell_type": "markdown",
      "metadata": {
        "id": "akbrhIQD_NSx",
        "colab_type": "text"
      },
      "source": [
        "**creates a sorted list of revenue per employees**"
      ]
    },
    {
      "cell_type": "code",
      "metadata": {
        "id": "kOucLa_vEfrZ",
        "colab_type": "code",
        "colab": {
          "base_uri": "https://localhost:8080/",
          "height": 180
        },
        "outputId": "fe79bef1-1f34-4b60-8d8a-872971ad2141"
      },
      "source": [
        "rev_per_emp = sorted([(i[u'Company'], i['rev per emp']) for i in data], \n",
        "                   key=lambda x : x[1],\n",
        "                   reverse=True)\n",
        "rev_per_emp"
      ],
      "execution_count": 74,
      "outputs": [
        {
          "output_type": "execute_result",
          "data": {
            "text/plain": [
              "[('Exxon Mobil', 3505747.1264367816),\n",
              " ('Royal Dutch Shell', 3391304.347826087),\n",
              " ('BP', 3310810.810810811),\n",
              " ('Sinopec Group', 911953.2812190612),\n",
              " ('Toyota Motor', 727133.0379069544),\n",
              " ('Berkshire Hathaway', 641909.8143236075),\n",
              " ('Volkswagen', 404800.30889377417),\n",
              " ('State Grid', 376142.84374767606),\n",
              " ('Walmart', 217391.30434782608),\n",
              " ('China National Petroleum', 199201.72657790987)]"
            ]
          },
          "metadata": {
            "tags": []
          },
          "execution_count": 74
        }
      ]
    },
    {
      "cell_type": "markdown",
      "metadata": {
        "id": "gD098Fbo_Zmp",
        "colab_type": "text"
      },
      "source": [
        "**counts the number of unique industries**"
      ]
    },
    {
      "cell_type": "code",
      "metadata": {
        "id": "bN6LcYKTE6TK",
        "colab_type": "code",
        "colab": {
          "base_uri": "https://localhost:8080/",
          "height": 98
        },
        "outputId": "bc61b80e-0484-4f02-a925-04a4baf399ce"
      },
      "source": [
        "from collections import Counter\n",
        "Counter(i[u'Industry'] for i in data)"
      ],
      "execution_count": 75,
      "outputs": [
        {
          "output_type": "execute_result",
          "data": {
            "text/plain": [
              "Counter({'Automobiles': 2,\n",
              "         'Petroleum': 5,\n",
              "         'Power': 1,\n",
              "         'Products': 1,\n",
              "         'Retail': 1})"
            ]
          },
          "metadata": {
            "tags": []
          },
          "execution_count": 75
        }
      ]
    },
    {
      "cell_type": "code",
      "metadata": {
        "id": "i7cVz10KFHua",
        "colab_type": "code",
        "colab": {
          "base_uri": "https://localhost:8080/",
          "height": 212
        },
        "outputId": "d21ad5ee-1e66-4c2c-8fbb-67abbff38a99"
      },
      "source": [
        "sub_data = [i for i in data if i[u'Industry'] in [u'Automobiles', u'Petroleum']]\n",
        "sub_data[:2]"
      ],
      "execution_count": 77,
      "outputs": [
        {
          "output_type": "execute_result",
          "data": {
            "text/plain": [
              "[{'Company': 'Sinopec Group',\n",
              "  'Country': 'China',\n",
              "  'Industry': 'Petroleum',\n",
              "  'Rank': 3,\n",
              "  'Revenue in USD': '$327 billion',\n",
              "  'rev per emp': 911953.2812190612},\n",
              " {'Company': 'China National Petroleum',\n",
              "  'Country': 'China',\n",
              "  'Industry': 'Petroleum',\n",
              "  'Rank': 4,\n",
              "  'Revenue in USD': '$326 billion',\n",
              "  'rev per emp': 199201.72657790987}]"
            ]
          },
          "metadata": {
            "tags": []
          },
          "execution_count": 77
        }
      ]
    },
    {
      "cell_type": "markdown",
      "metadata": {
        "id": "Pm5YV5_-_txR",
        "colab_type": "text"
      },
      "source": [
        "**Loading new datasets **"
      ]
    },
    {
      "cell_type": "code",
      "metadata": {
        "id": "b_11eBdYF4v_",
        "colab_type": "code",
        "colab": {}
      },
      "source": [
        "df_list = pd.read_html(\"https://en.wikipedia.org/w/index.php?title=Automotive_industry&oldid=875776152\", header=0)\n",
        "car_totals = json.loads(df_list[0].to_json(orient=\"records\"))\n",
        "car_by_man = json.loads(df_list[2].to_json(orient='records'))"
      ],
      "execution_count": 73,
      "outputs": []
    },
    {
      "cell_type": "code",
      "metadata": {
        "id": "qKhFKSEVGEad",
        "colab_type": "code",
        "colab": {
          "base_uri": "https://localhost:8080/",
          "height": 50
        },
        "outputId": "dd62e3ad-f2e5-4454-9cb2-adf6db60aa6c"
      },
      "source": [
        "car_totals[:2]"
      ],
      "execution_count": 74,
      "outputs": [
        {
          "output_type": "execute_result",
          "data": {
            "text/plain": [
              "[{'Change': '—', 'Production': 54434000, 'Source': '[17]', 'Year': 1997},\n",
              " {'Change': '2.7%', 'Production': 52987000, 'Source': '[17]', 'Year': 1998}]"
            ]
          },
          "metadata": {
            "tags": []
          },
          "execution_count": 74
        }
      ]
    },
    {
      "cell_type": "code",
      "metadata": {
        "id": "NPhy4J6FGJ-3",
        "colab_type": "code",
        "colab": {
          "base_uri": "https://localhost:8080/",
          "height": 98
        },
        "outputId": "9d319161-4dda-4ae5-a4b4-da22136d54a2"
      },
      "source": [
        "car_by_man[:2]"
      ],
      "execution_count": 75,
      "outputs": [
        {
          "output_type": "execute_result",
          "data": {
            "text/plain": [
              "[{'Country': 'Japan', 'Group': 'Toyota', 'Rank': 1, 'Vehicles': 10213486},\n",
              " {'Country': 'Germany',\n",
              "  'Group': 'Volkswagen Group',\n",
              "  'Rank': 2,\n",
              "  'Vehicles': 10126281}]"
            ]
          },
          "metadata": {
            "tags": []
          },
          "execution_count": 75
        }
      ]
    },
    {
      "cell_type": "code",
      "metadata": {
        "id": "hnNpsoD7GQBe",
        "colab_type": "code",
        "colab": {
          "base_uri": "https://localhost:8080/",
          "height": 33
        },
        "outputId": "ea83a096-8405-48d3-8316-92ad8ac2ae0e"
      },
      "source": [
        "total_prod = sorted((i[u\"Year\"], i[u'Production']) for i in car_totals)[-1][1]\n",
        "total_prod"
      ],
      "execution_count": 76,
      "outputs": [
        {
          "output_type": "execute_result",
          "data": {
            "text/plain": [
              "97302534"
            ]
          },
          "metadata": {
            "tags": []
          },
          "execution_count": 76
        }
      ]
    },
    {
      "cell_type": "code",
      "metadata": {
        "id": "556RQbLEHR6c",
        "colab_type": "code",
        "colab": {
          "base_uri": "https://localhost:8080/",
          "height": 33
        },
        "outputId": "39184b28-eb36-4dc8-b6f4-4956408b23ed"
      },
      "source": [
        "car_by_man_dict = {i[u'Group']:i[u'Vehicles'] for i in car_by_man}\n",
        "market_share = {}\n",
        "for name, orig_name in zip(['Toyota', 'Volkswagen Group'], ['Toyota', 'Volkswagen']):\n",
        "    market_share[orig_name] = car_by_man_dict[name]/ float(total_prod)\n",
        "    \n",
        "market_share"
      ],
      "execution_count": 77,
      "outputs": [
        {
          "output_type": "execute_result",
          "data": {
            "text/plain": [
              "{'Toyota': 0.1049662899837737, 'Volkswagen': 0.10407006460900597}"
            ]
          },
          "metadata": {
            "tags": []
          },
          "execution_count": 77
        }
      ]
    },
    {
      "cell_type": "code",
      "metadata": {
        "id": "_mjxZtn2HsXS",
        "colab_type": "code",
        "colab": {
          "base_uri": "https://localhost:8080/",
          "height": 50
        },
        "outputId": "424be18b-51c8-477a-f2a0-5563ddc70a54"
      },
      "source": [
        "rev = pd.read_html(\"https://en.wikipedia.org/w/index.php?title=List_of_largest_oil_and_gas_companies_by_revenue&oldid=871711850\", header=1)[0]\n",
        "rev = rev.iloc[:, 1:3]\n",
        "rev.columns = ['Company', 'Revenue']\n",
        "rev = rev[~(rev['Company'] == 'Company name')]\n",
        "oil_data = json.loads(rev.to_json(orient=\"records\"))\n",
        "oil_data[:2]"
      ],
      "execution_count": 78,
      "outputs": [
        {
          "output_type": "execute_result",
          "data": {
            "text/plain": [
              "[{'Company': 'Saudi Aramco', 'Revenue': '465.49'},\n",
              " {'Company': 'Sinopec Group', 'Revenue': '448.00'}]"
            ]
          },
          "metadata": {
            "tags": []
          },
          "execution_count": 78
        }
      ]
    },
    {
      "cell_type": "code",
      "metadata": {
        "id": "-RKFmr3PKCIC",
        "colab_type": "code",
        "colab": {
          "base_uri": "https://localhost:8080/",
          "height": 33
        },
        "outputId": "d8a2a7ab-0281-4a14-cef9-2680dbbbf89c"
      },
      "source": [
        "total = sum([float(i[u'Revenue'].rstrip('*')) for i in oil_data])\n",
        "shares = {i[u'Company']:float(i[u'Revenue'].rstrip('*'))/total for i in oil_data}\n",
        "print(total)"
      ],
      "execution_count": 93,
      "outputs": [
        {
          "output_type": "stream",
          "text": [
            "5482.090000000001\n"
          ],
          "name": "stdout"
        }
      ]
    },
    {
      "cell_type": "code",
      "metadata": {
        "id": "xdg0nok1K_tN",
        "colab_type": "code",
        "colab": {
          "base_uri": "https://localhost:8080/",
          "height": 98
        },
        "outputId": "01b5c988-a06e-448c-884a-c652d4de3c8b"
      },
      "source": [
        "petro_companies = [i[u'Company'] for i in data if i['Industry'] == u'Petroleum']\n",
        "petro_companies"
      ],
      "execution_count": 95,
      "outputs": [
        {
          "output_type": "execute_result",
          "data": {
            "text/plain": [
              "['Sinopec Group',\n",
              " 'China National Petroleum',\n",
              " 'Royal Dutch Shell',\n",
              " 'BP',\n",
              " 'Exxon Mobil']"
            ]
          },
          "metadata": {
            "tags": []
          },
          "execution_count": 95
        }
      ]
    },
    {
      "cell_type": "code",
      "metadata": {
        "id": "0C6LgWbnKfYl",
        "colab_type": "code",
        "colab": {
          "base_uri": "https://localhost:8080/",
          "height": 98
        },
        "outputId": "e8724e86-4838-49eb-a9bc-01a224590518"
      },
      "source": [
        "[(i, i in shares) for i in petro_companies]"
      ],
      "execution_count": 96,
      "outputs": [
        {
          "output_type": "execute_result",
          "data": {
            "text/plain": [
              "[('Sinopec Group', True),\n",
              " ('China National Petroleum', False),\n",
              " ('Royal Dutch Shell', True),\n",
              " ('BP', True),\n",
              " ('Exxon Mobil', True)]"
            ]
          },
          "metadata": {
            "tags": []
          },
          "execution_count": 96
        }
      ]
    },
    {
      "cell_type": "code",
      "metadata": {
        "id": "ONStKQjpLIGK",
        "colab_type": "code",
        "colab": {
          "base_uri": "https://localhost:8080/",
          "height": 53
        },
        "outputId": "c80aa846-45a6-4aea-fbb8-67e8a520df4a"
      },
      "source": [
        "shares.keys()"
      ],
      "execution_count": 97,
      "outputs": [
        {
          "output_type": "execute_result",
          "data": {
            "text/plain": [
              "dict_keys(['Saudi Aramco', 'Sinopec Group', 'China National Petroleum Corporation', 'Exxon Mobil', 'Royal Dutch Shell', 'Kuwait Petroleum Corporation', 'BP', 'Total SA', 'Lukoil', 'Eni', 'Valero Energy', 'Chevron Corporation', 'PDVSA', 'Pemex', 'National Iranian Oil Company', 'Gazprom', 'Phillips 66', 'Petronas', 'China National Offshore Oil', 'Marathon Petroleum', 'PTT', 'Rosneft', 'JX Holdings', 'Engie', 'Petrobras', 'Equinor', 'Indian Oil Corporation', 'Sonatrach', 'Reliance Industries', 'Pertamina', 'SOCAR', 'GS Caltex', 'Enterprise Products', 'Repsol', 'Centrica', 'Bharat Petroleum', 'OMV Group', 'Idemitsu Kosan', 'Hindustan Petroleum', 'PKN Orlen', 'Schlumberger', 'Suncor Energy', 'Hellenic Petroleum', 'ConocoPhillips', 'Motor Oil Hellas', 'Ecopetrol', 'CEPSA', 'MOL'])"
            ]
          },
          "metadata": {
            "tags": []
          },
          "execution_count": 97
        }
      ]
    },
    {
      "cell_type": "code",
      "metadata": {
        "id": "b9MitPpSLUKi",
        "colab_type": "code",
        "colab": {}
      },
      "source": [
        "def fuzzy_match(word, s):\n",
        "    words = set(word.split(' '))\n",
        "    overlaps = [(k, len(v.intersection(words))) for k, v in s.items()]\n",
        "    return max(overlaps, key=lambda x : x[1])[0]"
      ],
      "execution_count": 68,
      "outputs": []
    },
    {
      "cell_type": "code",
      "metadata": {
        "id": "qQwv2J2sLYq-",
        "colab_type": "code",
        "colab": {
          "base_uri": "https://localhost:8080/",
          "height": 98
        },
        "outputId": "8a3012dc-5208-414b-c2a9-86f46b0cbb42"
      },
      "source": [
        "split_names = {i: set(i.split(' ')) for i in shares.keys()}\n",
        "for i in petro_companies:\n",
        "    match = fuzzy_match(i, split_names)\n",
        "    print(\"matched {} to {}\".format(i, match))\n",
        "    market_share[i] = shares[match]"
      ],
      "execution_count": 99,
      "outputs": [
        {
          "output_type": "stream",
          "text": [
            "matched Sinopec Group to Sinopec Group\n",
            "matched China National Petroleum to China National Petroleum Corporation\n",
            "matched Royal Dutch Shell to Royal Dutch Shell\n",
            "matched BP to BP\n",
            "matched Exxon Mobil to Exxon Mobil\n"
          ],
          "name": "stdout"
        }
      ]
    },
    {
      "cell_type": "code",
      "metadata": {
        "id": "Bosd8deWLdkF",
        "colab_type": "code",
        "colab": {
          "base_uri": "https://localhost:8080/",
          "height": 131
        },
        "outputId": "860fb877-39cb-4606-935c-09d42f33dbed"
      },
      "source": [
        "market_share"
      ],
      "execution_count": 100,
      "outputs": [
        {
          "output_type": "execute_result",
          "data": {
            "text/plain": [
              "{'BP': 0.040641434197541446,\n",
              " 'China National Petroleum': 0.07818550954106918,\n",
              " 'Exxon Mobil': 0.0490506357976611,\n",
              " 'Royal Dutch Shell': 0.04833922828702191,\n",
              " 'Sinopec Group': 0.0817206576323993,\n",
              " 'Toyota': 0.1049662899837737,\n",
              " 'Volkswagen': 0.10407006460900597}"
            ]
          },
          "metadata": {
            "tags": []
          },
          "execution_count": 100
        }
      ]
    },
    {
      "cell_type": "markdown",
      "metadata": {
        "id": "qGV8tTYxwLoF",
        "colab_type": "text"
      },
      "source": [
        "**Using Pandas**"
      ]
    },
    {
      "cell_type": "code",
      "metadata": {
        "id": "pWzTO_6IMCog",
        "colab_type": "code",
        "colab": {
          "base_uri": "https://localhost:8080/",
          "height": 335
        },
        "outputId": "24f1ff36-5ccb-42d1-e706-8d4f861858b6"
      },
      "source": [
        "df"
      ],
      "execution_count": 11,
      "outputs": [
        {
          "output_type": "execute_result",
          "data": {
            "text/html": [
              "<div>\n",
              "<style scoped>\n",
              "    .dataframe tbody tr th:only-of-type {\n",
              "        vertical-align: middle;\n",
              "    }\n",
              "\n",
              "    .dataframe tbody tr th {\n",
              "        vertical-align: top;\n",
              "    }\n",
              "\n",
              "    .dataframe thead th {\n",
              "        text-align: right;\n",
              "    }\n",
              "</style>\n",
              "<table border=\"1\" class=\"dataframe\">\n",
              "  <thead>\n",
              "    <tr style=\"text-align: right;\">\n",
              "      <th></th>\n",
              "      <th>Rank</th>\n",
              "      <th>Company</th>\n",
              "      <th>Country</th>\n",
              "      <th>Industry</th>\n",
              "      <th>Revenue in USD</th>\n",
              "    </tr>\n",
              "  </thead>\n",
              "  <tbody>\n",
              "    <tr>\n",
              "      <th>0</th>\n",
              "      <td>1</td>\n",
              "      <td>Walmart</td>\n",
              "      <td>United States</td>\n",
              "      <td>Retail</td>\n",
              "      <td>$500 billion</td>\n",
              "    </tr>\n",
              "    <tr>\n",
              "      <th>1</th>\n",
              "      <td>2</td>\n",
              "      <td>State Grid</td>\n",
              "      <td>China</td>\n",
              "      <td>Power</td>\n",
              "      <td>$349 billion</td>\n",
              "    </tr>\n",
              "    <tr>\n",
              "      <th>2</th>\n",
              "      <td>3</td>\n",
              "      <td>Sinopec Group</td>\n",
              "      <td>China</td>\n",
              "      <td>Petroleum</td>\n",
              "      <td>$327 billion</td>\n",
              "    </tr>\n",
              "    <tr>\n",
              "      <th>3</th>\n",
              "      <td>4</td>\n",
              "      <td>China National Petroleum</td>\n",
              "      <td>China</td>\n",
              "      <td>Petroleum</td>\n",
              "      <td>$326 billion</td>\n",
              "    </tr>\n",
              "    <tr>\n",
              "      <th>4</th>\n",
              "      <td>5</td>\n",
              "      <td>Royal Dutch Shell</td>\n",
              "      <td>Netherlands</td>\n",
              "      <td>Petroleum</td>\n",
              "      <td>$312 billion</td>\n",
              "    </tr>\n",
              "    <tr>\n",
              "      <th>5</th>\n",
              "      <td>6</td>\n",
              "      <td>Toyota Motor</td>\n",
              "      <td>Japan</td>\n",
              "      <td>Automobiles</td>\n",
              "      <td>$265 billion</td>\n",
              "    </tr>\n",
              "    <tr>\n",
              "      <th>6</th>\n",
              "      <td>7</td>\n",
              "      <td>Volkswagen</td>\n",
              "      <td>Germany</td>\n",
              "      <td>Automobiles</td>\n",
              "      <td>$260 billion</td>\n",
              "    </tr>\n",
              "    <tr>\n",
              "      <th>7</th>\n",
              "      <td>8</td>\n",
              "      <td>BP</td>\n",
              "      <td>United Kingdom</td>\n",
              "      <td>Petroleum</td>\n",
              "      <td>$245 billion</td>\n",
              "    </tr>\n",
              "    <tr>\n",
              "      <th>8</th>\n",
              "      <td>9</td>\n",
              "      <td>Exxon Mobil</td>\n",
              "      <td>United States</td>\n",
              "      <td>Petroleum</td>\n",
              "      <td>$244 billion</td>\n",
              "    </tr>\n",
              "    <tr>\n",
              "      <th>9</th>\n",
              "      <td>10</td>\n",
              "      <td>Berkshire Hathaway</td>\n",
              "      <td>United States</td>\n",
              "      <td>Products</td>\n",
              "      <td>$242 billion</td>\n",
              "    </tr>\n",
              "  </tbody>\n",
              "</table>\n",
              "</div>"
            ],
            "text/plain": [
              "   Rank                   Company         Country     Industry Revenue in USD\n",
              "0     1                   Walmart   United States       Retail   $500 billion\n",
              "1     2                State Grid           China        Power   $349 billion\n",
              "2     3             Sinopec Group           China    Petroleum   $327 billion\n",
              "3     4  China National Petroleum           China    Petroleum   $326 billion\n",
              "4     5         Royal Dutch Shell     Netherlands    Petroleum   $312 billion\n",
              "5     6              Toyota Motor           Japan  Automobiles   $265 billion\n",
              "6     7                Volkswagen         Germany  Automobiles   $260 billion\n",
              "7     8                        BP  United Kingdom    Petroleum   $245 billion\n",
              "8     9               Exxon Mobil   United States    Petroleum   $244 billion\n",
              "9    10        Berkshire Hathaway   United States     Products   $242 billion"
            ]
          },
          "metadata": {
            "tags": []
          },
          "execution_count": 11
        }
      ]
    },
    {
      "cell_type": "markdown",
      "metadata": {
        "id": "bCO1zSTTx70Q",
        "colab_type": "text"
      },
      "source": [
        ""
      ]
    },
    {
      "cell_type": "code",
      "metadata": {
        "id": "UNBi48I_xMM4",
        "colab_type": "code",
        "colab": {
          "base_uri": "https://localhost:8080/",
          "height": 335
        },
        "outputId": "d65c774d-7b2b-490b-97ee-509f415bf670"
      },
      "source": [
        "df['rev'] = (df['Revenue in USD']).apply(convert_revenue)\n",
        "df['Employees'] = (df['Company']).apply(lambda x: dict_data[mapping.get(x,x)].get('employees'))\n",
        "df['rev per empl'] = df['rev']/df['Employees'].astype(float)\n",
        "df.sort_values(by = 'rev per empl', ascending = False)"
      ],
      "execution_count": 54,
      "outputs": [
        {
          "output_type": "execute_result",
          "data": {
            "text/html": [
              "<div>\n",
              "<style scoped>\n",
              "    .dataframe tbody tr th:only-of-type {\n",
              "        vertical-align: middle;\n",
              "    }\n",
              "\n",
              "    .dataframe tbody tr th {\n",
              "        vertical-align: top;\n",
              "    }\n",
              "\n",
              "    .dataframe thead th {\n",
              "        text-align: right;\n",
              "    }\n",
              "</style>\n",
              "<table border=\"1\" class=\"dataframe\">\n",
              "  <thead>\n",
              "    <tr style=\"text-align: right;\">\n",
              "      <th></th>\n",
              "      <th>Rank</th>\n",
              "      <th>Company</th>\n",
              "      <th>Country</th>\n",
              "      <th>Industry</th>\n",
              "      <th>Revenue in USD</th>\n",
              "      <th>rev</th>\n",
              "      <th>Employees</th>\n",
              "      <th>rev per empl</th>\n",
              "    </tr>\n",
              "  </thead>\n",
              "  <tbody>\n",
              "    <tr>\n",
              "      <th>8</th>\n",
              "      <td>9</td>\n",
              "      <td>Exxon Mobil</td>\n",
              "      <td>United States</td>\n",
              "      <td>Petroleum</td>\n",
              "      <td>$244 billion</td>\n",
              "      <td>2.440000e+11</td>\n",
              "      <td>69600</td>\n",
              "      <td>3.505747e+06</td>\n",
              "    </tr>\n",
              "    <tr>\n",
              "      <th>4</th>\n",
              "      <td>5</td>\n",
              "      <td>Royal Dutch Shell</td>\n",
              "      <td>Netherlands</td>\n",
              "      <td>Petroleum</td>\n",
              "      <td>$312 billion</td>\n",
              "      <td>3.120000e+11</td>\n",
              "      <td>92000</td>\n",
              "      <td>3.391304e+06</td>\n",
              "    </tr>\n",
              "    <tr>\n",
              "      <th>7</th>\n",
              "      <td>8</td>\n",
              "      <td>BP</td>\n",
              "      <td>United Kingdom</td>\n",
              "      <td>Petroleum</td>\n",
              "      <td>$245 billion</td>\n",
              "      <td>2.450000e+11</td>\n",
              "      <td>74000</td>\n",
              "      <td>3.310811e+06</td>\n",
              "    </tr>\n",
              "    <tr>\n",
              "      <th>2</th>\n",
              "      <td>3</td>\n",
              "      <td>Sinopec Group</td>\n",
              "      <td>China</td>\n",
              "      <td>Petroleum</td>\n",
              "      <td>$327 billion</td>\n",
              "      <td>3.270000e+11</td>\n",
              "      <td>358571</td>\n",
              "      <td>9.119533e+05</td>\n",
              "    </tr>\n",
              "    <tr>\n",
              "      <th>5</th>\n",
              "      <td>6</td>\n",
              "      <td>Toyota Motor</td>\n",
              "      <td>Japan</td>\n",
              "      <td>Automobiles</td>\n",
              "      <td>$265 billion</td>\n",
              "      <td>2.650000e+11</td>\n",
              "      <td>364445</td>\n",
              "      <td>7.271330e+05</td>\n",
              "    </tr>\n",
              "    <tr>\n",
              "      <th>9</th>\n",
              "      <td>10</td>\n",
              "      <td>Berkshire Hathaway</td>\n",
              "      <td>United States</td>\n",
              "      <td>Products</td>\n",
              "      <td>$242 billion</td>\n",
              "      <td>2.420000e+11</td>\n",
              "      <td>377000</td>\n",
              "      <td>6.419098e+05</td>\n",
              "    </tr>\n",
              "    <tr>\n",
              "      <th>6</th>\n",
              "      <td>7</td>\n",
              "      <td>Volkswagen</td>\n",
              "      <td>Germany</td>\n",
              "      <td>Automobiles</td>\n",
              "      <td>$260 billion</td>\n",
              "      <td>2.600000e+11</td>\n",
              "      <td>642292</td>\n",
              "      <td>4.048003e+05</td>\n",
              "    </tr>\n",
              "    <tr>\n",
              "      <th>1</th>\n",
              "      <td>2</td>\n",
              "      <td>State Grid</td>\n",
              "      <td>China</td>\n",
              "      <td>Power</td>\n",
              "      <td>$349 billion</td>\n",
              "      <td>3.490000e+11</td>\n",
              "      <td>927839</td>\n",
              "      <td>3.761428e+05</td>\n",
              "    </tr>\n",
              "    <tr>\n",
              "      <th>0</th>\n",
              "      <td>1</td>\n",
              "      <td>Walmart</td>\n",
              "      <td>United States</td>\n",
              "      <td>Retail</td>\n",
              "      <td>$500 billion</td>\n",
              "      <td>5.000000e+11</td>\n",
              "      <td>2300000</td>\n",
              "      <td>2.173913e+05</td>\n",
              "    </tr>\n",
              "    <tr>\n",
              "      <th>3</th>\n",
              "      <td>4</td>\n",
              "      <td>China National Petroleum</td>\n",
              "      <td>China</td>\n",
              "      <td>Petroleum</td>\n",
              "      <td>$326 billion</td>\n",
              "      <td>3.260000e+11</td>\n",
              "      <td>1636532</td>\n",
              "      <td>1.992017e+05</td>\n",
              "    </tr>\n",
              "  </tbody>\n",
              "</table>\n",
              "</div>"
            ],
            "text/plain": [
              "   Rank                   Company  ... Employees  rev per empl\n",
              "8     9               Exxon Mobil  ...     69600  3.505747e+06\n",
              "4     5         Royal Dutch Shell  ...     92000  3.391304e+06\n",
              "7     8                        BP  ...     74000  3.310811e+06\n",
              "2     3             Sinopec Group  ...    358571  9.119533e+05\n",
              "5     6              Toyota Motor  ...    364445  7.271330e+05\n",
              "9    10        Berkshire Hathaway  ...    377000  6.419098e+05\n",
              "6     7                Volkswagen  ...    642292  4.048003e+05\n",
              "1     2                State Grid  ...    927839  3.761428e+05\n",
              "0     1                   Walmart  ...   2300000  2.173913e+05\n",
              "3     4  China National Petroleum  ...   1636532  1.992017e+05\n",
              "\n",
              "[10 rows x 8 columns]"
            ]
          },
          "metadata": {
            "tags": []
          },
          "execution_count": 54
        }
      ]
    },
    {
      "cell_type": "markdown",
      "metadata": {
        "id": "8zA2BbQ74XfC",
        "colab_type": "text"
      },
      "source": [
        "**Computing the market shares**"
      ]
    },
    {
      "cell_type": "code",
      "metadata": {
        "id": "RqHHe459wPiU",
        "colab_type": "code",
        "colab": {}
      },
      "source": [
        "df_list = pd.read_html(\"https://en.wikipedia.org/w/index.php?title=Automotive_industry&oldid=875776152\", header=0)\n",
        "df_totals = df_list[0]\n",
        "df_by_man = df_list[2]"
      ],
      "execution_count": 56,
      "outputs": []
    },
    {
      "cell_type": "code",
      "metadata": {
        "id": "JAYj5efx1OJq",
        "colab_type": "code",
        "colab": {
          "base_uri": "https://localhost:8080/",
          "height": 33
        },
        "outputId": "67fa17a0-0088-4fb8-f5df-dddc85176358"
      },
      "source": [
        "total_prod = df_totals.sort_values(by='Year').iloc[-1]['Production']\n",
        "total_prod"
      ],
      "execution_count": 59,
      "outputs": [
        {
          "output_type": "execute_result",
          "data": {
            "text/plain": [
              "97302534"
            ]
          },
          "metadata": {
            "tags": []
          },
          "execution_count": 59
        }
      ]
    },
    {
      "cell_type": "code",
      "metadata": {
        "id": "qjDpcBIO4s6E",
        "colab_type": "code",
        "colab": {
          "base_uri": "https://localhost:8080/",
          "height": 82
        },
        "outputId": "d5a68bf7-7462-49ff-853e-4604818bea4d"
      },
      "source": [
        "df_by_man['share'] = df_by_man['Vehicles'].astype(float) / total_prod\n",
        "market_share = df_by_man.set_index('Group')['share'][['Toyota', 'Volkswagen Group']]\n",
        "market_share"
      ],
      "execution_count": 60,
      "outputs": [
        {
          "output_type": "execute_result",
          "data": {
            "text/plain": [
              "Group\n",
              "Toyota              0.104966\n",
              "Volkswagen Group    0.104070\n",
              "Name: share, dtype: float64"
            ]
          },
          "metadata": {
            "tags": []
          },
          "execution_count": 60
        }
      ]
    },
    {
      "cell_type": "code",
      "metadata": {
        "id": "xRvqhf_K6HIQ",
        "colab_type": "code",
        "colab": {
          "base_uri": "https://localhost:8080/",
          "height": 191
        },
        "outputId": "c37db727-d920-4f43-a1b8-80613d7599c3"
      },
      "source": [
        "rev = pd.read_html(\"https://en.wikipedia.org/w/index.php?title=List_of_largest_oil_and_gas_companies_by_revenue&oldid=871711850\", header=1)[0]\n",
        "rev = rev.iloc[:, 1:3]\n",
        "rev.columns = ['Company', 'Revenue']\n",
        "rev = rev[~(rev['Company'] == 'Company name')]\n",
        "rev.head()"
      ],
      "execution_count": 62,
      "outputs": [
        {
          "output_type": "execute_result",
          "data": {
            "text/html": [
              "<div>\n",
              "<style scoped>\n",
              "    .dataframe tbody tr th:only-of-type {\n",
              "        vertical-align: middle;\n",
              "    }\n",
              "\n",
              "    .dataframe tbody tr th {\n",
              "        vertical-align: top;\n",
              "    }\n",
              "\n",
              "    .dataframe thead th {\n",
              "        text-align: right;\n",
              "    }\n",
              "</style>\n",
              "<table border=\"1\" class=\"dataframe\">\n",
              "  <thead>\n",
              "    <tr style=\"text-align: right;\">\n",
              "      <th></th>\n",
              "      <th>Company</th>\n",
              "      <th>Revenue</th>\n",
              "    </tr>\n",
              "  </thead>\n",
              "  <tbody>\n",
              "    <tr>\n",
              "      <th>0</th>\n",
              "      <td>Saudi Aramco</td>\n",
              "      <td>465.49</td>\n",
              "    </tr>\n",
              "    <tr>\n",
              "      <th>1</th>\n",
              "      <td>Sinopec Group</td>\n",
              "      <td>448.00</td>\n",
              "    </tr>\n",
              "    <tr>\n",
              "      <th>2</th>\n",
              "      <td>China National Petroleum Corporation</td>\n",
              "      <td>428.62</td>\n",
              "    </tr>\n",
              "    <tr>\n",
              "      <th>3</th>\n",
              "      <td>Exxon Mobil</td>\n",
              "      <td>268.9</td>\n",
              "    </tr>\n",
              "    <tr>\n",
              "      <th>4</th>\n",
              "      <td>Royal Dutch Shell</td>\n",
              "      <td>265</td>\n",
              "    </tr>\n",
              "  </tbody>\n",
              "</table>\n",
              "</div>"
            ],
            "text/plain": [
              "                                Company Revenue\n",
              "0                          Saudi Aramco  465.49\n",
              "1                         Sinopec Group  448.00\n",
              "2  China National Petroleum Corporation  428.62\n",
              "3                           Exxon Mobil   268.9\n",
              "4                     Royal Dutch Shell     265"
            ]
          },
          "metadata": {
            "tags": []
          },
          "execution_count": 62
        }
      ]
    },
    {
      "cell_type": "code",
      "metadata": {
        "id": "kw9z1PEJ6LXC",
        "colab_type": "code",
        "colab": {
          "base_uri": "https://localhost:8080/",
          "height": 33
        },
        "outputId": "5c6472cc-5624-49a3-a6d3-cabe5a11747c"
      },
      "source": [
        "rev['rev_clean'] = rev['Revenue'].apply(lambda x : float(x.rstrip('*')))\n",
        "total = rev['rev_clean'].sum()\n",
        "total"
      ],
      "execution_count": 63,
      "outputs": [
        {
          "output_type": "execute_result",
          "data": {
            "text/plain": [
              "5482.09"
            ]
          },
          "metadata": {
            "tags": []
          },
          "execution_count": 63
        }
      ]
    },
    {
      "cell_type": "code",
      "metadata": {
        "id": "yQsucdJn6V-l",
        "colab_type": "code",
        "colab": {
          "base_uri": "https://localhost:8080/",
          "height": 191
        },
        "outputId": "bf9d7421-d5c6-4b24-93cb-e284d0a26da1"
      },
      "source": [
        "rev['share'] = rev['rev_clean'] / total\n",
        "rev.head()"
      ],
      "execution_count": 65,
      "outputs": [
        {
          "output_type": "execute_result",
          "data": {
            "text/html": [
              "<div>\n",
              "<style scoped>\n",
              "    .dataframe tbody tr th:only-of-type {\n",
              "        vertical-align: middle;\n",
              "    }\n",
              "\n",
              "    .dataframe tbody tr th {\n",
              "        vertical-align: top;\n",
              "    }\n",
              "\n",
              "    .dataframe thead th {\n",
              "        text-align: right;\n",
              "    }\n",
              "</style>\n",
              "<table border=\"1\" class=\"dataframe\">\n",
              "  <thead>\n",
              "    <tr style=\"text-align: right;\">\n",
              "      <th></th>\n",
              "      <th>Company</th>\n",
              "      <th>Revenue</th>\n",
              "      <th>rev_clean</th>\n",
              "      <th>share</th>\n",
              "    </tr>\n",
              "  </thead>\n",
              "  <tbody>\n",
              "    <tr>\n",
              "      <th>0</th>\n",
              "      <td>Saudi Aramco</td>\n",
              "      <td>465.49</td>\n",
              "      <td>465.49</td>\n",
              "      <td>0.084911</td>\n",
              "    </tr>\n",
              "    <tr>\n",
              "      <th>1</th>\n",
              "      <td>Sinopec Group</td>\n",
              "      <td>448.00</td>\n",
              "      <td>448.00</td>\n",
              "      <td>0.081721</td>\n",
              "    </tr>\n",
              "    <tr>\n",
              "      <th>2</th>\n",
              "      <td>China National Petroleum Corporation</td>\n",
              "      <td>428.62</td>\n",
              "      <td>428.62</td>\n",
              "      <td>0.078186</td>\n",
              "    </tr>\n",
              "    <tr>\n",
              "      <th>3</th>\n",
              "      <td>Exxon Mobil</td>\n",
              "      <td>268.9</td>\n",
              "      <td>268.90</td>\n",
              "      <td>0.049051</td>\n",
              "    </tr>\n",
              "    <tr>\n",
              "      <th>4</th>\n",
              "      <td>Royal Dutch Shell</td>\n",
              "      <td>265</td>\n",
              "      <td>265.00</td>\n",
              "      <td>0.048339</td>\n",
              "    </tr>\n",
              "  </tbody>\n",
              "</table>\n",
              "</div>"
            ],
            "text/plain": [
              "                                Company Revenue  rev_clean     share\n",
              "0                          Saudi Aramco  465.49     465.49  0.084911\n",
              "1                         Sinopec Group  448.00     448.00  0.081721\n",
              "2  China National Petroleum Corporation  428.62     428.62  0.078186\n",
              "3                           Exxon Mobil   268.9     268.90  0.049051\n",
              "4                     Royal Dutch Shell     265     265.00  0.048339"
            ]
          },
          "metadata": {
            "tags": []
          },
          "execution_count": 65
        }
      ]
    },
    {
      "cell_type": "code",
      "metadata": {
        "id": "e_XXwmpc6Zwi",
        "colab_type": "code",
        "colab": {
          "base_uri": "https://localhost:8080/",
          "height": 133
        },
        "outputId": "fff90276-d128-4877-fb28-08c1809c290b"
      },
      "source": [
        "rev = rev[rev['Company'].isin(['Exxon Mobil', 'Sinopec', 'China National Petroleum Corporation', 'Royal Dutch Shell'])].copy()\n",
        "rev"
      ],
      "execution_count": 66,
      "outputs": [
        {
          "output_type": "execute_result",
          "data": {
            "text/html": [
              "<div>\n",
              "<style scoped>\n",
              "    .dataframe tbody tr th:only-of-type {\n",
              "        vertical-align: middle;\n",
              "    }\n",
              "\n",
              "    .dataframe tbody tr th {\n",
              "        vertical-align: top;\n",
              "    }\n",
              "\n",
              "    .dataframe thead th {\n",
              "        text-align: right;\n",
              "    }\n",
              "</style>\n",
              "<table border=\"1\" class=\"dataframe\">\n",
              "  <thead>\n",
              "    <tr style=\"text-align: right;\">\n",
              "      <th></th>\n",
              "      <th>Company</th>\n",
              "      <th>Revenue</th>\n",
              "      <th>rev_clean</th>\n",
              "      <th>share</th>\n",
              "    </tr>\n",
              "  </thead>\n",
              "  <tbody>\n",
              "    <tr>\n",
              "      <th>2</th>\n",
              "      <td>China National Petroleum Corporation</td>\n",
              "      <td>428.62</td>\n",
              "      <td>428.62</td>\n",
              "      <td>0.078186</td>\n",
              "    </tr>\n",
              "    <tr>\n",
              "      <th>3</th>\n",
              "      <td>Exxon Mobil</td>\n",
              "      <td>268.9</td>\n",
              "      <td>268.90</td>\n",
              "      <td>0.049051</td>\n",
              "    </tr>\n",
              "    <tr>\n",
              "      <th>4</th>\n",
              "      <td>Royal Dutch Shell</td>\n",
              "      <td>265</td>\n",
              "      <td>265.00</td>\n",
              "      <td>0.048339</td>\n",
              "    </tr>\n",
              "  </tbody>\n",
              "</table>\n",
              "</div>"
            ],
            "text/plain": [
              "                                Company Revenue  rev_clean     share\n",
              "2  China National Petroleum Corporation  428.62     428.62  0.078186\n",
              "3                           Exxon Mobil   268.9     268.90  0.049051\n",
              "4                     Royal Dutch Shell     265     265.00  0.048339"
            ]
          },
          "metadata": {
            "tags": []
          },
          "execution_count": 66
        }
      ]
    },
    {
      "cell_type": "code",
      "metadata": {
        "id": "Ews6xPmX6gmn",
        "colab_type": "code",
        "colab": {
          "base_uri": "https://localhost:8080/",
          "height": 133
        },
        "outputId": "7a78fdaf-6a3a-44aa-ce99-43dd03d0e470"
      },
      "source": [
        "# do fuzzy search\n",
        "split_names = {i: set(i.split(' ')) for i in df['Company']}\n",
        "\n",
        "def fuzzy(word):\n",
        "    return fuzzy_match(word, split_names)\n",
        "\n",
        "rev['name'] = rev['Company'].apply(fuzzy)\n",
        "rev"
      ],
      "execution_count": 69,
      "outputs": [
        {
          "output_type": "execute_result",
          "data": {
            "text/html": [
              "<div>\n",
              "<style scoped>\n",
              "    .dataframe tbody tr th:only-of-type {\n",
              "        vertical-align: middle;\n",
              "    }\n",
              "\n",
              "    .dataframe tbody tr th {\n",
              "        vertical-align: top;\n",
              "    }\n",
              "\n",
              "    .dataframe thead th {\n",
              "        text-align: right;\n",
              "    }\n",
              "</style>\n",
              "<table border=\"1\" class=\"dataframe\">\n",
              "  <thead>\n",
              "    <tr style=\"text-align: right;\">\n",
              "      <th></th>\n",
              "      <th>Company</th>\n",
              "      <th>Revenue</th>\n",
              "      <th>rev_clean</th>\n",
              "      <th>share</th>\n",
              "      <th>name</th>\n",
              "    </tr>\n",
              "  </thead>\n",
              "  <tbody>\n",
              "    <tr>\n",
              "      <th>2</th>\n",
              "      <td>China National Petroleum Corporation</td>\n",
              "      <td>428.62</td>\n",
              "      <td>428.62</td>\n",
              "      <td>0.078186</td>\n",
              "      <td>China National Petroleum</td>\n",
              "    </tr>\n",
              "    <tr>\n",
              "      <th>3</th>\n",
              "      <td>Exxon Mobil</td>\n",
              "      <td>268.9</td>\n",
              "      <td>268.90</td>\n",
              "      <td>0.049051</td>\n",
              "      <td>Exxon Mobil</td>\n",
              "    </tr>\n",
              "    <tr>\n",
              "      <th>4</th>\n",
              "      <td>Royal Dutch Shell</td>\n",
              "      <td>265</td>\n",
              "      <td>265.00</td>\n",
              "      <td>0.048339</td>\n",
              "      <td>Royal Dutch Shell</td>\n",
              "    </tr>\n",
              "  </tbody>\n",
              "</table>\n",
              "</div>"
            ],
            "text/plain": [
              "                                Company  ...                      name\n",
              "2  China National Petroleum Corporation  ...  China National Petroleum\n",
              "3                           Exxon Mobil  ...               Exxon Mobil\n",
              "4                     Royal Dutch Shell  ...         Royal Dutch Shell\n",
              "\n",
              "[3 rows x 5 columns]"
            ]
          },
          "metadata": {
            "tags": []
          },
          "execution_count": 69
        }
      ]
    },
    {
      "cell_type": "code",
      "metadata": {
        "id": "xXw6aKzz6uis",
        "colab_type": "code",
        "colab": {}
      },
      "source": [
        "ms2 = df.merge(rev[['share', 'name']], left_on='Company', right_on='name')"
      ],
      "execution_count": 70,
      "outputs": []
    },
    {
      "cell_type": "markdown",
      "metadata": {
        "id": "IkNDl99L7Aex",
        "colab_type": "text"
      },
      "source": [
        "**Now we want to put these together and get only the company and the market share.**"
      ]
    },
    {
      "cell_type": "code",
      "metadata": {
        "id": "XOghU3A067aK",
        "colab_type": "code",
        "colab": {
          "base_uri": "https://localhost:8080/",
          "height": 191
        },
        "outputId": "f28d782c-ffc6-4f81-a747-f3fd566082c6"
      },
      "source": [
        "ms = market_share.reset_index()[['Group','share']]\n",
        "ms.columns = ['Company', 'share']\n",
        "pd.concat([ms, ms2[['Company', 'share']]])"
      ],
      "execution_count": 71,
      "outputs": [
        {
          "output_type": "execute_result",
          "data": {
            "text/html": [
              "<div>\n",
              "<style scoped>\n",
              "    .dataframe tbody tr th:only-of-type {\n",
              "        vertical-align: middle;\n",
              "    }\n",
              "\n",
              "    .dataframe tbody tr th {\n",
              "        vertical-align: top;\n",
              "    }\n",
              "\n",
              "    .dataframe thead th {\n",
              "        text-align: right;\n",
              "    }\n",
              "</style>\n",
              "<table border=\"1\" class=\"dataframe\">\n",
              "  <thead>\n",
              "    <tr style=\"text-align: right;\">\n",
              "      <th></th>\n",
              "      <th>Company</th>\n",
              "      <th>share</th>\n",
              "    </tr>\n",
              "  </thead>\n",
              "  <tbody>\n",
              "    <tr>\n",
              "      <th>0</th>\n",
              "      <td>Toyota</td>\n",
              "      <td>0.104966</td>\n",
              "    </tr>\n",
              "    <tr>\n",
              "      <th>1</th>\n",
              "      <td>Volkswagen Group</td>\n",
              "      <td>0.104070</td>\n",
              "    </tr>\n",
              "    <tr>\n",
              "      <th>0</th>\n",
              "      <td>China National Petroleum</td>\n",
              "      <td>0.078186</td>\n",
              "    </tr>\n",
              "    <tr>\n",
              "      <th>1</th>\n",
              "      <td>Royal Dutch Shell</td>\n",
              "      <td>0.048339</td>\n",
              "    </tr>\n",
              "    <tr>\n",
              "      <th>2</th>\n",
              "      <td>Exxon Mobil</td>\n",
              "      <td>0.049051</td>\n",
              "    </tr>\n",
              "  </tbody>\n",
              "</table>\n",
              "</div>"
            ],
            "text/plain": [
              "                    Company     share\n",
              "0                    Toyota  0.104966\n",
              "1          Volkswagen Group  0.104070\n",
              "0  China National Petroleum  0.078186\n",
              "1         Royal Dutch Shell  0.048339\n",
              "2               Exxon Mobil  0.049051"
            ]
          },
          "metadata": {
            "tags": []
          },
          "execution_count": 71
        }
      ]
    },
    {
      "cell_type": "code",
      "metadata": {
        "id": "5bcxkd-a6_Mn",
        "colab_type": "code",
        "colab": {}
      },
      "source": [
        ""
      ],
      "execution_count": null,
      "outputs": []
    }
  ]
}