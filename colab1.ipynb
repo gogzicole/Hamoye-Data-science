{
  "nbformat": 4,
  "nbformat_minor": 0,
  "metadata": {
    "colab": {
      "name": "colab1.ipynb",
      "provenance": [],
      "authorship_tag": "ABX9TyNyFTllX36bh42mLVBWJe7L",
      "include_colab_link": true
    },
    "kernelspec": {
      "name": "python3",
      "display_name": "Python 3"
    }
  },
  "cells": [
    {
      "cell_type": "markdown",
      "metadata": {
        "id": "view-in-github",
        "colab_type": "text"
      },
      "source": [
        "<a href=\"https://colab.research.google.com/github/gogzicole/Hamoye-Data-science/blob/master/colab1.ipynb\" target=\"_parent\"><img src=\"https://colab.research.google.com/assets/colab-badge.svg\" alt=\"Open In Colab\"/></a>"
      ]
    },
    {
      "cell_type": "code",
      "metadata": {
        "id": "89Ru0tcOdbxk",
        "colab_type": "code",
        "colab": {}
      },
      "source": [
        "time.sleep(5)\n",
        "print(time.ctime())\n"
      ],
      "execution_count": null,
      "outputs": []
    },
    {
      "cell_type": "markdown",
      "metadata": {
        "id": "L--tTZ6uiE4n",
        "colab_type": "text"
      },
      "source": [
        "this is **bold**\n",
        "this is *italic*\n",
        "this is ~strikethrough~"
      ]
    },
    {
      "cell_type": "code",
      "metadata": {
        "id": "lusZQUx1i-Jr",
        "colab_type": "code",
        "colab": {}
      },
      "source": [
        ""
      ],
      "execution_count": null,
      "outputs": []
    },
    {
      "cell_type": "markdown",
      "metadata": {
        "id": "OHCpapbfo_O2",
        "colab_type": "text"
      },
      "source": [
        "$3x_1 + 6x_2 + x_3 =< 28$ \n",
        "$7x_1 + 3x_2 + 2x_3 =< 37$\n"
      ]
    },
    {
      "cell_type": "markdown",
      "metadata": {
        "id": "BDcSdwPwqNyW",
        "colab_type": "text"
      },
      "source": [
        ""
      ]
    },
    {
      "cell_type": "markdown",
      "metadata": {
        "id": "HDhC0Bs8wm9G",
        "colab_type": "text"
      },
      "source": [
        ">$A_{m,n} = \\begin{pmatrix}\n",
        "           a_{1,1}  a_{1,2}  \\cdots  a_{1,n}\\\\\n",
        "           a_{2,1}  a_{2,2}  \\cdots  a_{2,n}\\\\\n",
        "           \\vdots\\ > vdots\\  ddots\\  vdots\\\\\n",
        "           a_{m,1}  a_{m,2}  \\cdots  a_{m,n}\n",
        "           \\end{pmatrix}$"
      ]
    },
    {
      "cell_type": "markdown",
      "metadata": {
        "id": "7GDnJqUQoEkZ",
        "colab_type": "text"
      },
      "source": [
        "$e^x = \\sum_{i=0}^\\infty\\frac{1}{1!}x^i$"
      ]
    },
    {
      "cell_type": "markdown",
      "metadata": {
        "id": "E_B_-M44qMBF",
        "colab_type": "text"
      },
      "source": [
        ""
      ]
    },
    {
      "cell_type": "markdown",
      "metadata": {
        "id": "VS72hGUti-4w",
        "colab_type": "text"
      },
      "source": [
        "$\\sqrt{3x-1} + (1 + x)^2$\n"
      ]
    },
    {
      "cell_type": "code",
      "metadata": {
        "id": "v6P055B_cZs9",
        "colab_type": "code",
        "colab": {}
      },
      "source": [
        "import time\n",
        "print(time.ctime())"
      ],
      "execution_count": null,
      "outputs": []
    },
    {
      "cell_type": "code",
      "metadata": {
        "id": "rO0ixdZSgOGb",
        "colab_type": "code",
        "colab": {}
      },
      "source": [
        "print(\"dont call me back\")"
      ],
      "execution_count": null,
      "outputs": []
    },
    {
      "cell_type": "code",
      "metadata": {
        "id": "1ExvxtasgKdb",
        "colab_type": "code",
        "colab": {}
      },
      "source": [
        "print(\"it it i\")"
      ],
      "execution_count": null,
      "outputs": []
    },
    {
      "cell_type": "code",
      "metadata": {
        "id": "BRcXgv4EgTEs",
        "colab_type": "code",
        "colab": {}
      },
      "source": [
        "print(\"i am alive\")"
      ],
      "execution_count": null,
      "outputs": []
    },
    {
      "cell_type": "markdown",
      "metadata": {
        "id": "5esR97mUiAKo",
        "colab_type": "text"
      },
      "source": [
        ""
      ]
    }
  ]
}