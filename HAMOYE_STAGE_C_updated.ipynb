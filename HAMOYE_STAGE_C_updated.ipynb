{
  "nbformat": 4,
  "nbformat_minor": 0,
  "metadata": {
    "colab": {
      "name": "HAMOYE STAGE-C-updated.ipynb",
      "provenance": [],
      "collapsed_sections": [],
      "authorship_tag": "ABX9TyODAsT5YLaNNkFISAKt+ZdA",
      "include_colab_link": true
    },
    "kernelspec": {
      "name": "python3",
      "display_name": "Python 3"
    }
  },
  "cells": [
    {
      "cell_type": "markdown",
      "metadata": {
        "id": "view-in-github",
        "colab_type": "text"
      },
      "source": [
        "<a href=\"https://colab.research.google.com/github/gogzicole/Hamoye-Data-science/blob/master/HAMOYE_STAGE_C_updated.ipynb\" target=\"_parent\"><img src=\"https://colab.research.google.com/assets/colab-badge.svg\" alt=\"Open In Colab\"/></a>"
      ]
    },
    {
      "cell_type": "code",
      "metadata": {
        "id": "RQ5lmLWwnRiy",
        "colab_type": "code",
        "colab": {}
      },
      "source": [
        "import pandas as pd\n",
        "import numpy as np\n",
        "from pandas import Series, DataFrame"
      ],
      "execution_count": 2,
      "outputs": []
    },
    {
      "cell_type": "code",
      "metadata": {
        "id": "4jagNRfPfIJr",
        "colab_type": "code",
        "colab": {
          "base_uri": "https://localhost:8080/",
          "height": 71
        },
        "outputId": "a209c7f1-80f5-42fc-e724-0b04e30f0775"
      },
      "source": [
        "df = pd.read_csv('https://query.data.world/s/wh6j7rxy2hvrn4ml75ci62apk5hgae')"
      ],
      "execution_count": 3,
      "outputs": [
        {
          "output_type": "stream",
          "text": [
            "/usr/local/lib/python3.6/dist-packages/IPython/core/interactiveshell.py:2718: DtypeWarning: Columns (6) have mixed types.Specify dtype option on import or set low_memory=False.\n",
            "  interactivity=interactivity, compiler=compiler, result=result)\n"
          ],
          "name": "stderr"
        }
      ]
    },
    {
      "cell_type": "code",
      "metadata": {
        "id": "_aiBbdjlngaU",
        "colab_type": "code",
        "colab": {}
      },
      "source": [
        "df.isnull().sum()"
      ],
      "execution_count": null,
      "outputs": []
    },
    {
      "cell_type": "markdown",
      "metadata": {
        "id": "YdqpPnSC1P0C",
        "colab_type": "text"
      },
      "source": [
        "**counts the total number of values in target variable**"
      ]
    },
    {
      "cell_type": "code",
      "metadata": {
        "id": "DVFX_INOnjsF",
        "colab_type": "code",
        "colab": {
          "base_uri": "https://localhost:8080/",
          "height": 119
        },
        "outputId": "01dde2e6-6e6e-45d7-cbde-684c617b5eea"
      },
      "source": [
        "df['QScore'].value_counts()"
      ],
      "execution_count": 4,
      "outputs": [
        {
          "output_type": "execute_result",
          "data": {
            "text/plain": [
              "3A    51481\n",
              "2A    10576\n",
              "2B    10096\n",
              "1B       16\n",
              "1A       16\n",
              "Name: QScore, dtype: int64"
            ]
          },
          "metadata": {
            "tags": []
          },
          "execution_count": 4
        }
      ]
    },
    {
      "cell_type": "code",
      "metadata": {
        "id": "eU-rD1e1n4dR",
        "colab_type": "code",
        "colab": {
          "base_uri": "https://localhost:8080/",
          "height": 85
        },
        "outputId": "417add96-66bf-4fe3-b8eb-b8e85c0d54b0"
      },
      "source": [
        "df = df.dropna()\n",
        "df.head()\n",
        "df['QScore'].value_counts()"
      ],
      "execution_count": 5,
      "outputs": [
        {
          "output_type": "execute_result",
          "data": {
            "text/plain": [
              "3A    51473\n",
              "2A      224\n",
              "1A       16\n",
              "Name: QScore, dtype: int64"
            ]
          },
          "metadata": {
            "tags": []
          },
          "execution_count": 5
        }
      ]
    },
    {
      "cell_type": "markdown",
      "metadata": {
        "id": "XmiG7wy76F-5",
        "colab_type": "text"
      },
      "source": [
        "**converting to a binary classificatio problem by joining class 2A and 1A**"
      ]
    },
    {
      "cell_type": "code",
      "metadata": {
        "id": "qFUJOxGR1hv_",
        "colab_type": "code",
        "colab": {
          "base_uri": "https://localhost:8080/",
          "height": 68
        },
        "outputId": "ccce81d4-14a5-4b57-ed8f-e48160628efd"
      },
      "source": [
        "df['QScore'] = df['QScore'].replace(['1A'], '2A')\n",
        "df.QScore.value_counts()"
      ],
      "execution_count": 6,
      "outputs": [
        {
          "output_type": "execute_result",
          "data": {
            "text/plain": [
              "3A    51473\n",
              "2A      240\n",
              "Name: QScore, dtype: int64"
            ]
          },
          "metadata": {
            "tags": []
          },
          "execution_count": 6
        }
      ]
    },
    {
      "cell_type": "code",
      "metadata": {
        "id": "t0bhiiqo6res",
        "colab_type": "code",
        "colab": {
          "base_uri": "https://localhost:8080/",
          "height": 238
        },
        "outputId": "273a6bb4-c776-4cbf-bb76-553951281826"
      },
      "source": [
        "df_2A = df[df.QScore=='2A']\n",
        "df_2A.count()\n"
      ],
      "execution_count": 7,
      "outputs": [
        {
          "output_type": "execute_result",
          "data": {
            "text/plain": [
              "country           240\n",
              "year              240\n",
              "country_code      240\n",
              "record            240\n",
              "crop_land         240\n",
              "grazing_land      240\n",
              "forest_land       240\n",
              "fishing_ground    240\n",
              "built_up_land     240\n",
              "carbon            240\n",
              "total             240\n",
              "QScore            240\n",
              "dtype: int64"
            ]
          },
          "metadata": {
            "tags": []
          },
          "execution_count": 7
        }
      ]
    },
    {
      "cell_type": "code",
      "metadata": {
        "id": "1aUmvByG7q_d",
        "colab_type": "code",
        "colab": {
          "base_uri": "https://localhost:8080/",
          "height": 238
        },
        "outputId": "c4d2451a-5916-4feb-a7be-337d39e47df0"
      },
      "source": [
        "df_3A = df[df.QScore=='3A'].sample(350)\n",
        "df_3A.count()"
      ],
      "execution_count": 8,
      "outputs": [
        {
          "output_type": "execute_result",
          "data": {
            "text/plain": [
              "country           350\n",
              "year              350\n",
              "country_code      350\n",
              "record            350\n",
              "crop_land         350\n",
              "grazing_land      350\n",
              "forest_land       350\n",
              "fishing_ground    350\n",
              "built_up_land     350\n",
              "carbon            350\n",
              "total             350\n",
              "QScore            350\n",
              "dtype: int64"
            ]
          },
          "metadata": {
            "tags": []
          },
          "execution_count": 8
        }
      ]
    },
    {
      "cell_type": "code",
      "metadata": {
        "id": "B1cE3ZXU8IRo",
        "colab_type": "code",
        "colab": {
          "base_uri": "https://localhost:8080/",
          "height": 238
        },
        "outputId": "f02fc580-212f-486f-fbf5-b581efab24e9"
      },
      "source": [
        "data_df = df_2A.append(df_3A)\n",
        "data_df.count()"
      ],
      "execution_count": 18,
      "outputs": [
        {
          "output_type": "execute_result",
          "data": {
            "text/plain": [
              "country           590\n",
              "year              590\n",
              "country_code      590\n",
              "record            590\n",
              "crop_land         590\n",
              "grazing_land      590\n",
              "forest_land       590\n",
              "fishing_ground    590\n",
              "built_up_land     590\n",
              "carbon            590\n",
              "total             590\n",
              "QScore            590\n",
              "dtype: int64"
            ]
          },
          "metadata": {
            "tags": []
          },
          "execution_count": 18
        }
      ]
    },
    {
      "cell_type": "markdown",
      "metadata": {
        "id": "Re_Le9-59lr0",
        "colab_type": "text"
      },
      "source": [
        "**shuffuling the dataset to randomize distribution of 2A and 3A**"
      ]
    },
    {
      "cell_type": "code",
      "metadata": {
        "id": "x8y7Q2408V6i",
        "colab_type": "code",
        "colab": {
          "base_uri": "https://localhost:8080/",
          "height": 68
        },
        "outputId": "3333cf27-03c8-4bf1-c8ef-10057af12a40"
      },
      "source": [
        "import sklearn.utils\n",
        "data_df = sklearn.utils.shuffle(data_df)\n",
        "data_df = data_df.reset_index(drop=True)\n",
        "data_df.shape\n",
        "data_df['QScore'].value_counts()"
      ],
      "execution_count": 19,
      "outputs": [
        {
          "output_type": "execute_result",
          "data": {
            "text/plain": [
              "3A    350\n",
              "2A    240\n",
              "Name: QScore, dtype: int64"
            ]
          },
          "metadata": {
            "tags": []
          },
          "execution_count": 19
        }
      ]
    },
    {
      "cell_type": "markdown",
      "metadata": {
        "id": "HbxGx2TU_ljY",
        "colab_type": "text"
      },
      "source": [
        "**dropping the first 3 columns and re-assigning QScore to y and the remaining data set to x**"
      ]
    },
    {
      "cell_type": "code",
      "metadata": {
        "id": "SmiIY72f9-SD",
        "colab_type": "code",
        "colab": {}
      },
      "source": [
        "data_df = data_df.drop(columns=['country_code', 'country', 'year'])\n",
        "x = data_df.drop(columns='QScore')\n",
        "y = data_df['QScore']\n"
      ],
      "execution_count": 20,
      "outputs": []
    },
    {
      "cell_type": "markdown",
      "metadata": {
        "id": "7Q2WZZ82Bbiq",
        "colab_type": "text"
      },
      "source": [
        "**splitting  data into test and split**"
      ]
    },
    {
      "cell_type": "code",
      "metadata": {
        "id": "peyQgOgHAHK6",
        "colab_type": "code",
        "colab": {
          "base_uri": "https://localhost:8080/",
          "height": 68
        },
        "outputId": "88246347-92da-409b-e6e7-3dc0f37c7960"
      },
      "source": [
        "from sklearn.model_selection import train_test_split\n",
        "x_train, x_test, y_train, y_test = train_test_split(x, y, test_size=0.30, random_state=0)\n",
        "y_train.value_counts()"
      ],
      "execution_count": 50,
      "outputs": [
        {
          "output_type": "execute_result",
          "data": {
            "text/plain": [
              "3A    235\n",
              "2A    178\n",
              "Name: QScore, dtype: int64"
            ]
          },
          "metadata": {
            "tags": []
          },
          "execution_count": 50
        }
      ]
    },
    {
      "cell_type": "markdown",
      "metadata": {
        "id": "h9NWJ-rDIONU",
        "colab_type": "text"
      },
      "source": [
        "**now we must encode categorical data**"
      ]
    },
    {
      "cell_type": "code",
      "metadata": {
        "id": "LpNokIJxIJ64",
        "colab_type": "code",
        "colab": {}
      },
      "source": [
        "from sklearn.preprocessing import LabelEncoder\n",
        "encoder = LabelEncoder()\n",
        "x_train.record = encoder.fit_transform(x_train.record)\n",
        "x_test.record = encoder.transform(x_test.record)"
      ],
      "execution_count": null,
      "outputs": []
    },
    {
      "cell_type": "markdown",
      "metadata": {
        "id": "m49RSbp8GHYH",
        "colab_type": "text"
      },
      "source": [
        "**if there is still an inbalance on the class distribution, for this we must use SMOTE to handle this, but only on the training data**"
      ]
    },
    {
      "cell_type": "code",
      "metadata": {
        "id": "qrt3-It3AIRD",
        "colab_type": "code",
        "colab": {}
      },
      "source": [
        "import imblearn\n",
        "from imblearn.over_sampling import SMOTE\n",
        "smote = SMOTE(random_state=1)\n",
        "x_train_balanced, y_balanced = smote.fit_sample(x_train, y_train)\n",
        "x_train_balanced = DataFrame(x_train_balanced, columns=x_train.columns)\n",
        "\n",
        "x_train_balanced"
      ],
      "execution_count": null,
      "outputs": []
    },
    {
      "cell_type": "markdown",
      "metadata": {
        "id": "9nyWKcNqJslt",
        "colab_type": "text"
      },
      "source": [
        "**now we perform feature scaling on the dataset**"
      ]
    },
    {
      "cell_type": "code",
      "metadata": {
        "id": "cVMONeHfGk2v",
        "colab_type": "code",
        "colab": {}
      },
      "source": [
        "from sklearn.preprocessing import MinMaxScaler\n",
        "scaler = MinMaxScaler()\n",
        "normalised_train_df = scaler.fit_transform(x_train_balanced.drop(columns=['record']))\n",
        "normalised_train_df = pd.DataFrame(normalised_train_df, columns=x_train_balanced.drop(columns=['record']).columns)\n",
        "normalised_train_df['record'] = x_train_balanced['record']\n",
        "normalised_train_df"
      ],
      "execution_count": null,
      "outputs": []
    },
    {
      "cell_type": "code",
      "metadata": {
        "id": "1axyVPU0K5_z",
        "colab_type": "code",
        "colab": {}
      },
      "source": [
        "x_test = x_test.reset_index(drop=True)\n",
        "normalised_test_df = scaler.transform(x_test.drop(columns=['record']))\n",
        "normalised_test_df = pd.DataFrame(normalised_test_df, columns=x_test.drop(columns=['record']).columns)\n",
        "normalised_test_df['record'] = x_test['record']\n"
      ],
      "execution_count": 54,
      "outputs": []
    },
    {
      "cell_type": "markdown",
      "metadata": {
        "id": "OtHT6tDLA5c8",
        "colab_type": "text"
      },
      "source": [
        "**Logistics regression**"
      ]
    },
    {
      "cell_type": "code",
      "metadata": {
        "id": "sBSTiWIqMMwQ",
        "colab_type": "code",
        "colab": {
          "base_uri": "https://localhost:8080/",
          "height": 102
        },
        "outputId": "ccae33b5-365e-4007-ed97-ef08aff6de8f"
      },
      "source": [
        "from sklearn.linear_model import LogisticRegression\n",
        "log_reg = LogisticRegression()\n",
        "log_reg.fit(normalised_train_df, y_balanced)"
      ],
      "execution_count": 58,
      "outputs": [
        {
          "output_type": "execute_result",
          "data": {
            "text/plain": [
              "LogisticRegression(C=1.0, class_weight=None, dual=False, fit_intercept=True,\n",
              "                   intercept_scaling=1, l1_ratio=None, max_iter=100,\n",
              "                   multi_class='auto', n_jobs=None, penalty='l2',\n",
              "                   random_state=None, solver='lbfgs', tol=0.0001, verbose=0,\n",
              "                   warm_start=False)"
            ]
          },
          "metadata": {
            "tags": []
          },
          "execution_count": 58
        }
      ]
    },
    {
      "cell_type": "markdown",
      "metadata": {
        "id": "MUcRbtrBpsb1",
        "colab_type": "text"
      },
      "source": [
        "**cross validation and accuracy**"
      ]
    },
    {
      "cell_type": "code",
      "metadata": {
        "id": "xxqQZWqbnyRv",
        "colab_type": "code",
        "colab": {
          "base_uri": "https://localhost:8080/",
          "height": 34
        },
        "outputId": "258a51d5-1f47-437b-845a-803ae3d17a4c"
      },
      "source": [
        "from sklearn.model_selection import cross_val_score\n",
        "scores = cross_val_score(log_reg, normalised_train_df, y_balanced, cv=5, scoring='f1_macro')\n",
        "scores"
      ],
      "execution_count": 59,
      "outputs": [
        {
          "output_type": "execute_result",
          "data": {
            "text/plain": [
              "array([0.5106383 , 0.41614907, 0.45503886, 0.51342241, 0.50968703])"
            ]
          },
          "metadata": {
            "tags": []
          },
          "execution_count": 59
        }
      ]
    },
    {
      "cell_type": "markdown",
      "metadata": {
        "id": "bDe6z6mhqJ7e",
        "colab_type": "text"
      },
      "source": [
        "**k-Fold**"
      ]
    },
    {
      "cell_type": "code",
      "metadata": {
        "id": "rAMZhggmrHpN",
        "colab_type": "code",
        "colab": {}
      },
      "source": [
        "from sklearn.metrics import recall_score, accuracy_score, precision_score, f1_score, confusion_matrix"
      ],
      "execution_count": 60,
      "outputs": []
    },
    {
      "cell_type": "code",
      "metadata": {
        "id": "NQpoSa4uqBoC",
        "colab_type": "code",
        "colab": {}
      },
      "source": [
        "from sklearn.model_selection import KFold\n",
        "kf = KFold(n_splits=5)\n",
        "kf.split(normalised_train_df) \n",
        "f1_scores = []\n",
        "#run for every split\n",
        "for train_index, test_index in kf.split(normalised_train_df):\n",
        "    x_train, x_test = normalised_train_df.iloc[train_index],normalised_train_df.iloc[test_index]\n",
        "    y_train, y_test = y_balanced[train_index],y_balanced[test_index]\n",
        "    model = LogisticRegression().fit(x_train, y_train)\n",
        "#save result to list\n",
        "    f1_scores.append(f1_score(y_true=y_test, y_pred=model.predict(x_test),pos_label='2A')*100)"
      ],
      "execution_count": 61,
      "outputs": []
    },
    {
      "cell_type": "markdown",
      "metadata": {
        "id": "ePCq8msArLCl",
        "colab_type": "text"
      },
      "source": [
        "**stratified KFold cross validation**"
      ]
    },
    {
      "cell_type": "code",
      "metadata": {
        "id": "awbgVqLqqb6W",
        "colab_type": "code",
        "colab": {}
      },
      "source": [
        "from sklearn.model_selection import StratifiedKFold\n",
        "skf = StratifiedKFold(n_splits=5, shuffle=True, random_state=1)\n",
        "f1_scores = []\n",
        "#run for every split\n",
        "for train_index, test_index in skf.split(normalised_train_df, y_balanced):\n",
        "    x_train, x_test = np.array(normalised_train_df)[train_index], np.array(normalised_train_df)[test_index]\n",
        "    y_train, y_test  = y_balanced[train_index], y_balanced[test_index]\n",
        "    model = LogisticRegression().fit(x_train, y_train)\n",
        "#save result to list\n",
        "    f1_scores.append(f1_score(y_true=y_test, y_pred=model.predict(x_test), pos_label='2A'))"
      ],
      "execution_count": 62,
      "outputs": []
    },
    {
      "cell_type": "markdown",
      "metadata": {
        "id": "bXkJdsTGrr7O",
        "colab_type": "text"
      },
      "source": [
        "**leave one out cross validation (loocv)**"
      ]
    },
    {
      "cell_type": "code",
      "metadata": {
        "id": "HNuDYxumrZrj",
        "colab_type": "code",
        "colab": {}
      },
      "source": [
        "from sklearn.model_selection import LeaveOneOut\n",
        "loo = LeaveOneOut()\n",
        "scores = cross_val_score(LogisticRegression(), normalised_train_df, y_balanced, cv=loo,scoring='f1_macro')\n",
        "average_score = scores.mean() * 100"
      ],
      "execution_count": 63,
      "outputs": []
    },
    {
      "cell_type": "markdown",
      "metadata": {
        "id": "nl3R7C2psBrN",
        "colab_type": "text"
      },
      "source": [
        "**Evaluation Metrics Used in Measuring The Performance of Classification Models**"
      ]
    },
    {
      "cell_type": "markdown",
      "metadata": {
        "id": "GTZxNY6KtJFl",
        "colab_type": "text"
      },
      "source": [
        "**1. confusion matrix**"
      ]
    },
    {
      "cell_type": "code",
      "metadata": {
        "id": "n74NIWa4r54e",
        "colab_type": "code",
        "colab": {}
      },
      "source": [
        "new_predictions = log_reg.predict(normalised_test_df)\n",
        "cnf_mat = confusion_matrix(y_true=y_test, y_pred=new_predictions, labels=['2A', '3A'])"
      ],
      "execution_count": null,
      "outputs": []
    },
    {
      "cell_type": "markdown",
      "metadata": {
        "id": "-2sdL66ZvV5y",
        "colab_type": "text"
      },
      "source": [
        "**2. Accuracy**"
      ]
    },
    {
      "cell_type": "code",
      "metadata": {
        "id": "1UP_CFU7slAq",
        "colab_type": "code",
        "colab": {}
      },
      "source": [
        "accuracy = accuracy_score(y_true=y_test, y_pred=new_predictions)\n",
        "print('Accuracy: {}'.format(round(accuracy*100), 2)) "
      ],
      "execution_count": null,
      "outputs": []
    },
    {
      "cell_type": "markdown",
      "metadata": {
        "id": "K5dP22tbvkhj",
        "colab_type": "text"
      },
      "source": [
        "**3. precission**"
      ]
    },
    {
      "cell_type": "code",
      "metadata": {
        "id": "2aKLRCfAuzni",
        "colab_type": "code",
        "colab": {}
      },
      "source": [
        "precision = precision_score(y_true=y_test, y_pred=new_predictions, pos_label='2A')\n",
        "print('Precision: {}'.format(round(precision*100), 2))"
      ],
      "execution_count": null,
      "outputs": []
    },
    {
      "cell_type": "markdown",
      "metadata": {
        "id": "0FmbuhcXvwSV",
        "colab_type": "text"
      },
      "source": [
        "**4. Recall**"
      ]
    },
    {
      "cell_type": "code",
      "metadata": {
        "id": "Emga-LCSvuaS",
        "colab_type": "code",
        "colab": {}
      },
      "source": [
        "recall = recall_score(y_true=y_test, y_pred=new_predictions, pos_label='2A')\n",
        "print('Recall: {}'.format(round(recall*100), 2))"
      ],
      "execution_count": null,
      "outputs": []
    },
    {
      "cell_type": "markdown",
      "metadata": {
        "id": "xi8vhQitv4qO",
        "colab_type": "text"
      },
      "source": [
        "**5. f1_score**"
      ]
    },
    {
      "cell_type": "code",
      "metadata": {
        "id": "IWfMEfgQv3KX",
        "colab_type": "code",
        "colab": {}
      },
      "source": [
        "f1 = f1_score(y_true=y_test, y_pred=new_predictions, pos_label='2A')\n",
        "print('F1: {}'.format(round(f1*100), 2))"
      ],
      "execution_count": null,
      "outputs": []
    }
  ]
}