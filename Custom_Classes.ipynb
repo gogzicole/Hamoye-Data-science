{
  "nbformat": 4,
  "nbformat_minor": 0,
  "metadata": {
    "colab": {
      "name": "Custom_Classes.ipynb",
      "provenance": [],
      "authorship_tag": "ABX9TyMP1slV5MMTZGdft47+6sB0",
      "include_colab_link": true
    },
    "kernelspec": {
      "name": "python3",
      "display_name": "Python 3"
    }
  },
  "cells": [
    {
      "cell_type": "markdown",
      "metadata": {
        "id": "view-in-github",
        "colab_type": "text"
      },
      "source": [
        "<a href=\"https://colab.research.google.com/github/gogzicole/Hamoye-Data-science/blob/master/Custom_Classes.ipynb\" target=\"_parent\"><img src=\"https://colab.research.google.com/assets/colab-badge.svg\" alt=\"Open In Colab\"/></a>"
      ]
    },
    {
      "cell_type": "code",
      "metadata": {
        "id": "QrzLfNSk0Hf3"
      },
      "source": [
        "import pandas as pd \n",
        "import numpy as np \n",
        "from pandas import Series, DataFrame\n",
        "from sklearn.datasets import fetch_california_housing"
      ],
      "execution_count": 1,
      "outputs": []
    },
    {
      "cell_type": "code",
      "metadata": {
        "id": "eCerXP2k0nT5",
        "outputId": "ed67aea1-cb36-497f-d4c5-7a1933f671f4",
        "colab": {
          "base_uri": "https://localhost:8080/",
          "height": 34
        }
      },
      "source": [
        "dataset = fetch_california_housing()"
      ],
      "execution_count": 2,
      "outputs": [
        {
          "output_type": "stream",
          "text": [
            "Downloading Cal. housing from https://ndownloader.figshare.com/files/5976036 to /root/scikit_learn_data\n"
          ],
          "name": "stderr"
        }
      ]
    },
    {
      "cell_type": "code",
      "metadata": {
        "id": "89k0CO6U0znD"
      },
      "source": [
        "X = dataset['data']\n",
        "y = dataset['target']"
      ],
      "execution_count": 49,
      "outputs": []
    },
    {
      "cell_type": "code",
      "metadata": {
        "id": "9P3seC8g1EnS",
        "outputId": "a1f56ad4-0f36-44b6-b13a-7c2540b2ca78",
        "colab": {
          "base_uri": "https://localhost:8080/",
          "height": 197
        }
      },
      "source": [
        "df = DataFrame(dataset.data, columns = dataset['feature_names'])\n",
        "df.head()"
      ],
      "execution_count": 4,
      "outputs": [
        {
          "output_type": "execute_result",
          "data": {
            "text/html": [
              "<div>\n",
              "<style scoped>\n",
              "    .dataframe tbody tr th:only-of-type {\n",
              "        vertical-align: middle;\n",
              "    }\n",
              "\n",
              "    .dataframe tbody tr th {\n",
              "        vertical-align: top;\n",
              "    }\n",
              "\n",
              "    .dataframe thead th {\n",
              "        text-align: right;\n",
              "    }\n",
              "</style>\n",
              "<table border=\"1\" class=\"dataframe\">\n",
              "  <thead>\n",
              "    <tr style=\"text-align: right;\">\n",
              "      <th></th>\n",
              "      <th>MedInc</th>\n",
              "      <th>HouseAge</th>\n",
              "      <th>AveRooms</th>\n",
              "      <th>AveBedrms</th>\n",
              "      <th>Population</th>\n",
              "      <th>AveOccup</th>\n",
              "      <th>Latitude</th>\n",
              "      <th>Longitude</th>\n",
              "    </tr>\n",
              "  </thead>\n",
              "  <tbody>\n",
              "    <tr>\n",
              "      <th>0</th>\n",
              "      <td>8.3252</td>\n",
              "      <td>41.0</td>\n",
              "      <td>6.984127</td>\n",
              "      <td>1.023810</td>\n",
              "      <td>322.0</td>\n",
              "      <td>2.555556</td>\n",
              "      <td>37.88</td>\n",
              "      <td>-122.23</td>\n",
              "    </tr>\n",
              "    <tr>\n",
              "      <th>1</th>\n",
              "      <td>8.3014</td>\n",
              "      <td>21.0</td>\n",
              "      <td>6.238137</td>\n",
              "      <td>0.971880</td>\n",
              "      <td>2401.0</td>\n",
              "      <td>2.109842</td>\n",
              "      <td>37.86</td>\n",
              "      <td>-122.22</td>\n",
              "    </tr>\n",
              "    <tr>\n",
              "      <th>2</th>\n",
              "      <td>7.2574</td>\n",
              "      <td>52.0</td>\n",
              "      <td>8.288136</td>\n",
              "      <td>1.073446</td>\n",
              "      <td>496.0</td>\n",
              "      <td>2.802260</td>\n",
              "      <td>37.85</td>\n",
              "      <td>-122.24</td>\n",
              "    </tr>\n",
              "    <tr>\n",
              "      <th>3</th>\n",
              "      <td>5.6431</td>\n",
              "      <td>52.0</td>\n",
              "      <td>5.817352</td>\n",
              "      <td>1.073059</td>\n",
              "      <td>558.0</td>\n",
              "      <td>2.547945</td>\n",
              "      <td>37.85</td>\n",
              "      <td>-122.25</td>\n",
              "    </tr>\n",
              "    <tr>\n",
              "      <th>4</th>\n",
              "      <td>3.8462</td>\n",
              "      <td>52.0</td>\n",
              "      <td>6.281853</td>\n",
              "      <td>1.081081</td>\n",
              "      <td>565.0</td>\n",
              "      <td>2.181467</td>\n",
              "      <td>37.85</td>\n",
              "      <td>-122.25</td>\n",
              "    </tr>\n",
              "  </tbody>\n",
              "</table>\n",
              "</div>"
            ],
            "text/plain": [
              "   MedInc  HouseAge  AveRooms  ...  AveOccup  Latitude  Longitude\n",
              "0  8.3252      41.0  6.984127  ...  2.555556     37.88    -122.23\n",
              "1  8.3014      21.0  6.238137  ...  2.109842     37.86    -122.22\n",
              "2  7.2574      52.0  8.288136  ...  2.802260     37.85    -122.24\n",
              "3  5.6431      52.0  5.817352  ...  2.547945     37.85    -122.25\n",
              "4  3.8462      52.0  6.281853  ...  2.181467     37.85    -122.25\n",
              "\n",
              "[5 rows x 8 columns]"
            ]
          },
          "metadata": {
            "tags": []
          },
          "execution_count": 4
        }
      ]
    },
    {
      "cell_type": "code",
      "metadata": {
        "id": "eV1Gi6bX18p-",
        "outputId": "44803446-488b-41b7-f7a3-43948e409554",
        "colab": {
          "base_uri": "https://localhost:8080/",
          "height": 745
        }
      },
      "source": [
        "print(dataset['DESCR'])"
      ],
      "execution_count": 5,
      "outputs": [
        {
          "output_type": "stream",
          "text": [
            ".. _california_housing_dataset:\n",
            "\n",
            "California Housing dataset\n",
            "--------------------------\n",
            "\n",
            "**Data Set Characteristics:**\n",
            "\n",
            "    :Number of Instances: 20640\n",
            "\n",
            "    :Number of Attributes: 8 numeric, predictive attributes and the target\n",
            "\n",
            "    :Attribute Information:\n",
            "        - MedInc        median income in block\n",
            "        - HouseAge      median house age in block\n",
            "        - AveRooms      average number of rooms\n",
            "        - AveBedrms     average number of bedrooms\n",
            "        - Population    block population\n",
            "        - AveOccup      average house occupancy\n",
            "        - Latitude      house block latitude\n",
            "        - Longitude     house block longitude\n",
            "\n",
            "    :Missing Attribute Values: None\n",
            "\n",
            "This dataset was obtained from the StatLib repository.\n",
            "http://lib.stat.cmu.edu/datasets/\n",
            "\n",
            "The target variable is the median house value for California districts.\n",
            "\n",
            "This dataset was derived from the 1990 U.S. census, using one row per census\n",
            "block group. A block group is the smallest geographical unit for which the U.S.\n",
            "Census Bureau publishes sample data (a block group typically has a population\n",
            "of 600 to 3,000 people).\n",
            "\n",
            "It can be downloaded/loaded using the\n",
            ":func:`sklearn.datasets.fetch_california_housing` function.\n",
            "\n",
            ".. topic:: References\n",
            "\n",
            "    - Pace, R. Kelley and Ronald Barry, Sparse Spatial Autoregressions,\n",
            "      Statistics and Probability Letters, 33 (1997) 291-297\n",
            "\n"
          ],
          "name": "stdout"
        }
      ]
    },
    {
      "cell_type": "markdown",
      "metadata": {
        "id": "dxryG5Wq4Niz"
      },
      "source": [
        "**Column Transformers**"
      ]
    },
    {
      "cell_type": "markdown",
      "metadata": {
        "id": "0sJd2gFs4T4q"
      },
      "source": [
        "for illustration  would perform Standard scaling on all the caiifornia dataset features except lattitude and longitude. in this case i would select all the columns that would be scaled while letting the remainder passthrough using te remainder arguement."
      ]
    },
    {
      "cell_type": "code",
      "metadata": {
        "id": "o1lR5qj91dbS"
      },
      "source": [
        "from sklearn.compose import ColumnTransformer\n",
        "from sklearn.preprocessing import StandardScaler"
      ],
      "execution_count": 6,
      "outputs": []
    },
    {
      "cell_type": "code",
      "metadata": {
        "id": "ncEc4Z6m2l7k"
      },
      "source": [
        "col_transformer = ColumnTransformer(remainder = 'passthrough',transformers =\n",
        "                                    [('scaler', StandardScaler(), slice(0,6))])\n",
        "col_transformer.fit(dataset.data)\n",
        "Xt = col_transformer.transform(dataset.data)\n",
        "\n"
      ],
      "execution_count": 7,
      "outputs": []
    },
    {
      "cell_type": "markdown",
      "metadata": {
        "id": "JH5-gG998Hc2"
      },
      "source": [
        "Dataset after Transformation"
      ]
    },
    {
      "cell_type": "code",
      "metadata": {
        "id": "9QQYCGT45Kiv",
        "outputId": "29d00a63-98d8-4ae7-ca43-2466902be3d0",
        "colab": {
          "base_uri": "https://localhost:8080/",
          "height": 197
        }
      },
      "source": [
        "df1 = DataFrame(Xt, columns = dataset['feature_names'])\n",
        "df.head()"
      ],
      "execution_count": 8,
      "outputs": [
        {
          "output_type": "execute_result",
          "data": {
            "text/html": [
              "<div>\n",
              "<style scoped>\n",
              "    .dataframe tbody tr th:only-of-type {\n",
              "        vertical-align: middle;\n",
              "    }\n",
              "\n",
              "    .dataframe tbody tr th {\n",
              "        vertical-align: top;\n",
              "    }\n",
              "\n",
              "    .dataframe thead th {\n",
              "        text-align: right;\n",
              "    }\n",
              "</style>\n",
              "<table border=\"1\" class=\"dataframe\">\n",
              "  <thead>\n",
              "    <tr style=\"text-align: right;\">\n",
              "      <th></th>\n",
              "      <th>MedInc</th>\n",
              "      <th>HouseAge</th>\n",
              "      <th>AveRooms</th>\n",
              "      <th>AveBedrms</th>\n",
              "      <th>Population</th>\n",
              "      <th>AveOccup</th>\n",
              "      <th>Latitude</th>\n",
              "      <th>Longitude</th>\n",
              "    </tr>\n",
              "  </thead>\n",
              "  <tbody>\n",
              "    <tr>\n",
              "      <th>0</th>\n",
              "      <td>8.3252</td>\n",
              "      <td>41.0</td>\n",
              "      <td>6.984127</td>\n",
              "      <td>1.023810</td>\n",
              "      <td>322.0</td>\n",
              "      <td>2.555556</td>\n",
              "      <td>37.88</td>\n",
              "      <td>-122.23</td>\n",
              "    </tr>\n",
              "    <tr>\n",
              "      <th>1</th>\n",
              "      <td>8.3014</td>\n",
              "      <td>21.0</td>\n",
              "      <td>6.238137</td>\n",
              "      <td>0.971880</td>\n",
              "      <td>2401.0</td>\n",
              "      <td>2.109842</td>\n",
              "      <td>37.86</td>\n",
              "      <td>-122.22</td>\n",
              "    </tr>\n",
              "    <tr>\n",
              "      <th>2</th>\n",
              "      <td>7.2574</td>\n",
              "      <td>52.0</td>\n",
              "      <td>8.288136</td>\n",
              "      <td>1.073446</td>\n",
              "      <td>496.0</td>\n",
              "      <td>2.802260</td>\n",
              "      <td>37.85</td>\n",
              "      <td>-122.24</td>\n",
              "    </tr>\n",
              "    <tr>\n",
              "      <th>3</th>\n",
              "      <td>5.6431</td>\n",
              "      <td>52.0</td>\n",
              "      <td>5.817352</td>\n",
              "      <td>1.073059</td>\n",
              "      <td>558.0</td>\n",
              "      <td>2.547945</td>\n",
              "      <td>37.85</td>\n",
              "      <td>-122.25</td>\n",
              "    </tr>\n",
              "    <tr>\n",
              "      <th>4</th>\n",
              "      <td>3.8462</td>\n",
              "      <td>52.0</td>\n",
              "      <td>6.281853</td>\n",
              "      <td>1.081081</td>\n",
              "      <td>565.0</td>\n",
              "      <td>2.181467</td>\n",
              "      <td>37.85</td>\n",
              "      <td>-122.25</td>\n",
              "    </tr>\n",
              "  </tbody>\n",
              "</table>\n",
              "</div>"
            ],
            "text/plain": [
              "   MedInc  HouseAge  AveRooms  ...  AveOccup  Latitude  Longitude\n",
              "0  8.3252      41.0  6.984127  ...  2.555556     37.88    -122.23\n",
              "1  8.3014      21.0  6.238137  ...  2.109842     37.86    -122.22\n",
              "2  7.2574      52.0  8.288136  ...  2.802260     37.85    -122.24\n",
              "3  5.6431      52.0  5.817352  ...  2.547945     37.85    -122.25\n",
              "4  3.8462      52.0  6.281853  ...  2.181467     37.85    -122.25\n",
              "\n",
              "[5 rows x 8 columns]"
            ]
          },
          "metadata": {
            "tags": []
          },
          "execution_count": 8
        }
      ]
    },
    {
      "cell_type": "markdown",
      "metadata": {
        "id": "3Joczs0Q8Ulc"
      },
      "source": [
        "also we could re-write our column transformer to drop MedInC, let lattitude and longitude passthrough while performing transformation."
      ]
    },
    {
      "cell_type": "code",
      "metadata": {
        "id": "NkhJH_h15Nji"
      },
      "source": [
        "col_transformer = ColumnTransformer( remainder = 'passthrough', transformers =\n",
        "                                    [('remove','drop', 0),('scaler',StandardScaler(), slice(1,6))])\n",
        "col_transformer.fit(X) # X is the same as dataset.data\n",
        "Xt1 = col_transformer.transform(X)"
      ],
      "execution_count": 9,
      "outputs": []
    },
    {
      "cell_type": "code",
      "metadata": {
        "id": "9Tmok1nZ9s5u",
        "outputId": "1a70752e-dac9-4cdb-ccde-8b7662145bef",
        "colab": {
          "base_uri": "https://localhost:8080/",
          "height": 197
        }
      },
      "source": [
        "df2 = DataFrame(Xt1, columns = dataset.feature_names[1:])\n",
        "df2.head()"
      ],
      "execution_count": 10,
      "outputs": [
        {
          "output_type": "execute_result",
          "data": {
            "text/html": [
              "<div>\n",
              "<style scoped>\n",
              "    .dataframe tbody tr th:only-of-type {\n",
              "        vertical-align: middle;\n",
              "    }\n",
              "\n",
              "    .dataframe tbody tr th {\n",
              "        vertical-align: top;\n",
              "    }\n",
              "\n",
              "    .dataframe thead th {\n",
              "        text-align: right;\n",
              "    }\n",
              "</style>\n",
              "<table border=\"1\" class=\"dataframe\">\n",
              "  <thead>\n",
              "    <tr style=\"text-align: right;\">\n",
              "      <th></th>\n",
              "      <th>HouseAge</th>\n",
              "      <th>AveRooms</th>\n",
              "      <th>AveBedrms</th>\n",
              "      <th>Population</th>\n",
              "      <th>AveOccup</th>\n",
              "      <th>Latitude</th>\n",
              "      <th>Longitude</th>\n",
              "    </tr>\n",
              "  </thead>\n",
              "  <tbody>\n",
              "    <tr>\n",
              "      <th>0</th>\n",
              "      <td>0.982143</td>\n",
              "      <td>0.628559</td>\n",
              "      <td>-0.153758</td>\n",
              "      <td>-0.974429</td>\n",
              "      <td>-0.049597</td>\n",
              "      <td>37.88</td>\n",
              "      <td>-122.23</td>\n",
              "    </tr>\n",
              "    <tr>\n",
              "      <th>1</th>\n",
              "      <td>-0.607019</td>\n",
              "      <td>0.327041</td>\n",
              "      <td>-0.263336</td>\n",
              "      <td>0.861439</td>\n",
              "      <td>-0.092512</td>\n",
              "      <td>37.86</td>\n",
              "      <td>-122.22</td>\n",
              "    </tr>\n",
              "    <tr>\n",
              "      <th>2</th>\n",
              "      <td>1.856182</td>\n",
              "      <td>1.155620</td>\n",
              "      <td>-0.049016</td>\n",
              "      <td>-0.820777</td>\n",
              "      <td>-0.025843</td>\n",
              "      <td>37.85</td>\n",
              "      <td>-122.24</td>\n",
              "    </tr>\n",
              "    <tr>\n",
              "      <th>3</th>\n",
              "      <td>1.856182</td>\n",
              "      <td>0.156966</td>\n",
              "      <td>-0.049833</td>\n",
              "      <td>-0.766028</td>\n",
              "      <td>-0.050329</td>\n",
              "      <td>37.85</td>\n",
              "      <td>-122.25</td>\n",
              "    </tr>\n",
              "    <tr>\n",
              "      <th>4</th>\n",
              "      <td>1.856182</td>\n",
              "      <td>0.344711</td>\n",
              "      <td>-0.032906</td>\n",
              "      <td>-0.759847</td>\n",
              "      <td>-0.085616</td>\n",
              "      <td>37.85</td>\n",
              "      <td>-122.25</td>\n",
              "    </tr>\n",
              "  </tbody>\n",
              "</table>\n",
              "</div>"
            ],
            "text/plain": [
              "   HouseAge  AveRooms  AveBedrms  Population  AveOccup  Latitude  Longitude\n",
              "0  0.982143  0.628559  -0.153758   -0.974429 -0.049597     37.88    -122.23\n",
              "1 -0.607019  0.327041  -0.263336    0.861439 -0.092512     37.86    -122.22\n",
              "2  1.856182  1.155620  -0.049016   -0.820777 -0.025843     37.85    -122.24\n",
              "3  1.856182  0.156966  -0.049833   -0.766028 -0.050329     37.85    -122.25\n",
              "4  1.856182  0.344711  -0.032906   -0.759847 -0.085616     37.85    -122.25"
            ]
          },
          "metadata": {
            "tags": []
          },
          "execution_count": 10
        }
      ]
    },
    {
      "cell_type": "markdown",
      "metadata": {
        "id": "oZhsi-0M3uz1"
      },
      "source": [
        "**Feature Unions and Pipe Lines**"
      ]
    },
    {
      "cell_type": "markdown",
      "metadata": {
        "id": "0GnTdImM39EL"
      },
      "source": [
        "to illustrate Feature union we will apply the PCA and select KBest transformers. The PCA, principal components analysis, transformer returns a new set of uncorrelated features based on the original features whie select KBest returns the KBest features based on a p-assed criterion. For the example, the selector will return the two features with the largest correlati0n with the labels. When using PCA the data needs to have zero mean As a result we create a pipeline object that represents the required two step process.We will have the PCA object return $ uncorrelated features. The result of the Union between PCA an SelectKBest will be a dataset of six features."
      ]
    },
    {
      "cell_type": "code",
      "metadata": {
        "id": "7j6NEc3i32MB"
      },
      "source": [
        "from sklearn.feature_selection import f_regression, SelectKBest\n",
        "from sklearn.decomposition import PCA \n",
        "from sklearn.pipeline import Pipeline\n",
        "from sklearn.pipeline import FeatureUnion\n",
        "from sklearn.linear_model import LinearRegression"
      ],
      "execution_count": 16,
      "outputs": []
    },
    {
      "cell_type": "code",
      "metadata": {
        "id": "ikx8n18l6RfZ"
      },
      "source": [
        "scaler = StandardScaler()\n",
        "pca = PCA(n_components = 4)\n",
        "selector = SelectKBest(f_regression, k = 2)\n",
        "lin_reg = LinearRegression()"
      ],
      "execution_count": 21,
      "outputs": []
    },
    {
      "cell_type": "code",
      "metadata": {
        "id": "Tuye_xV46RNu",
        "outputId": "e7c72684-71a2-4498-e5aa-71acfaf88ca4",
        "colab": {
          "base_uri": "https://localhost:8080/",
          "height": 478
        }
      },
      "source": [
        "pca_pipe = Pipeline([('scaler', scaler),('dim_red', pca)])\n",
        "union = FeatureUnion([('pca_pipe',pca_pipe),('selector', selector)])\n",
        "pipe = Pipeline([('union', union),('lin_reg',lin_reg)])\n",
        "pipe.fit(X,y)"
      ],
      "execution_count": 23,
      "outputs": [
        {
          "output_type": "execute_result",
          "data": {
            "text/plain": [
              "Pipeline(memory=None,\n",
              "         steps=[('union',\n",
              "                 FeatureUnion(n_jobs=None,\n",
              "                              transformer_list=[('pca_pipe',\n",
              "                                                 Pipeline(memory=None,\n",
              "                                                          steps=[('scaler',\n",
              "                                                                  StandardScaler(copy=True,\n",
              "                                                                                 with_mean=True,\n",
              "                                                                                 with_std=True)),\n",
              "                                                                 ('dim_red',\n",
              "                                                                  PCA(copy=True,\n",
              "                                                                      iterated_power='auto',\n",
              "                                                                      n_components=4,\n",
              "                                                                      random_state=None,\n",
              "                                                                      svd_solver='auto',\n",
              "                                                                      tol=0.0,\n",
              "                                                                      whiten=False))],\n",
              "                                                          verbose=False)),\n",
              "                                                ('selector',\n",
              "                                                 SelectKBest(k=2,\n",
              "                                                             score_func=<function f_regression at 0x7f26df738a60>))],\n",
              "                              transformer_weights=None, verbose=False)),\n",
              "                ('lin_reg',\n",
              "                 LinearRegression(copy_X=True, fit_intercept=True, n_jobs=None,\n",
              "                                  normalize=False))],\n",
              "         verbose=False)"
            ]
          },
          "metadata": {
            "tags": []
          },
          "execution_count": 23
        }
      ]
    },
    {
      "cell_type": "code",
      "metadata": {
        "id": "PBGEtMx18fh4",
        "outputId": "136b3d2a-2e12-4982-8e50-8563c01abadd",
        "colab": {
          "base_uri": "https://localhost:8080/",
          "height": 34
        }
      },
      "source": [
        "print('R^2 value of the model is {}'.format(pipe.score(X,y)))"
      ],
      "execution_count": 32,
      "outputs": [
        {
          "output_type": "stream",
          "text": [
            "R^2 value of the model is 0.5288130088767813\n"
          ],
          "name": "stdout"
        }
      ]
    },
    {
      "cell_type": "markdown",
      "metadata": {
        "id": "FhZKKZ3N0paK"
      },
      "source": [
        "**Custom Estimators**"
      ]
    },
    {
      "cell_type": "markdown",
      "metadata": {
        "id": "DW2ym3xb0w2P"
      },
      "source": [
        "we would create a custom transformer that replaces outliers, values outside a given interval. The algorithm of the transformer is as follows.\n",
        "\n",
        "1. for each feature, determine the lower and upper bound of acceptable values. Those lower and upper bounds are based on  the qth percentile. for example if the 5% and 95% percentile for a feature is 1.3 and 7.5 respectively then all values outside of (1.3,7.5) is considered an outlier.\n",
        "\n",
        "2. for each outlier value of  feature it is rplaced with the qth percentile of the feature. Using the same values as before, if a value for a feature is 0.7 and the acceptable range is (1.3,7.5), it is replaced by 1.3. if the value resides to the right of the interval, larger than the upper bound, then it is replaced by 7.5."
      ]
    },
    {
      "cell_type": "code",
      "metadata": {
        "id": "t-DHquYF92vh"
      },
      "source": [
        "from sklearn.base import BaseEstimator, TransformerMixin\n",
        "class OutlierReplacer(BaseEstimator, TransformerMixin):\n",
        "  def __init__(self,q_lower,q_upper):\n",
        "    self.q_upper = q_upper\n",
        "    self.q_lower = q_lower\n",
        "\n",
        "  def fit(self, X, y = None):\n",
        "    self.upper = np.percentile(X, self.q_upper, axis = 0)\n",
        "    self.lower = np.percentile(X, self.q_lower, axis = 0)\n",
        "    return self\n",
        "\n",
        "  def transform(self, X):\n",
        "    Xt = X.copy()\n",
        "    ind_lower = X < self.q_lower\n",
        "    ind_upper = X > self.q_upper\n",
        "    for i in range(X.shape[-1]):\n",
        "        Xt[ind_lower[:,i], i] = self.lower[i]\n",
        "        Xt[ind_upper[:,i], i] = self.upper[i]\n",
        "    return Xt"
      ],
      "execution_count": 43,
      "outputs": []
    },
    {
      "cell_type": "code",
      "metadata": {
        "id": "SAtvNJJCFDGP"
      },
      "source": [
        "replacer = OutlierReplacer(5, 95)\n",
        "replacer.fit(X)\n",
        "Xt = replacer.transform(X)"
      ],
      "execution_count": 44,
      "outputs": []
    },
    {
      "cell_type": "markdown",
      "metadata": {
        "id": "XeH9ALoIG11W"
      },
      "source": [
        "1. The california housing data has feature for latittude and longitude. Create a custom tranformer that return the distance away from a given set of coordinates. Use this custom transformer to create feature for the distance away from Los Angeles and San Francisco and include them with the origina feaures.  "
      ]
    },
    {
      "cell_type": "code",
      "metadata": {
        "id": "3dbeokDtGa8Q"
      },
      "source": [
        "class Distance(BaseEstimator, TransformerMixin):\n",
        "  def __init__(self, coord):\n",
        "    self.coord = coord   #coord would be a list or turple wheer the 0 index is the lat and the 1 index is tyhe long\n",
        "\n",
        "  def fit(self, X, y = None):\n",
        "    return self\n",
        "\n",
        "  def transform(self, X):\n",
        "    lat = X[:,0]\n",
        "    lon = X[:,1]\n",
        "    \n",
        "    dist = np.sqrt((lat - self.coord[0])**2 +(lon - self.coord[1])**2)\n",
        "    dist = dist.reshape(-1,1)\n",
        "\n",
        "    return dist\n",
        "  \n"
      ],
      "execution_count": 54,
      "outputs": []
    },
    {
      "cell_type": "code",
      "metadata": {
        "id": "4BBQ0qZfN5tp",
        "outputId": "3b86c329-0b8b-49e3-d05c-9d3e94b6919e",
        "colab": {
          "base_uri": "https://localhost:8080/",
          "height": 34
        }
      },
      "source": [
        "coord_LA = (34, -118)\n",
        "dist_LA = Distance(coord_LA)\n",
        "dis = dist_LA.fit_transform(X[:,-2:])\n",
        "dis.shape"
      ],
      "execution_count": 55,
      "outputs": [
        {
          "output_type": "execute_result",
          "data": {
            "text/plain": [
              "(20640, 1)"
            ]
          },
          "metadata": {
            "tags": []
          },
          "execution_count": 55
        }
      ]
    },
    {
      "cell_type": "markdown",
      "metadata": {
        "id": "2KOCIVMrS9DB"
      },
      "source": [
        "lets create a drop class that drops the un needed columns instead of slicing it in the fit_transform method"
      ]
    },
    {
      "cell_type": "code",
      "metadata": {
        "id": "lX_2w9zIQZJT"
      },
      "source": [
        "class Drop_col(BaseEstimator, TransformerMixin):\n",
        "  def __init__(self, ind_col):\n",
        "    self.ind_col = ind_col\n",
        "\n",
        "  def fit(self, X, y = None):\n",
        "    return self\n",
        "\n",
        "  def transform(self, X):\n",
        "    return X[:, self.ind_col]"
      ],
      "execution_count": 56,
      "outputs": []
    },
    {
      "cell_type": "code",
      "metadata": {
        "id": "vhGX2GyUUL2G",
        "outputId": "f0f9aafb-2e7d-4c08-ac09-74ddae0c77f5",
        "colab": {
          "base_uri": "https://localhost:8080/",
          "height": 283
        }
      },
      "source": [
        "coord_LA = (34, -118)\n",
        "coord_SF = ( 37, -112)\n",
        "dist_LA = Distance(coord_LA)\n",
        "dist_SF = Distance(coord_SF)\n",
        "drop = Drop_col([0,1,2,3,4,5])\n",
        "union = FeatureUnion([('drop', drop),('LA', dist_LA),('SF',dist_SF)])\n",
        "pipe = Pipeline([('union', union), ('lin_reg', lin_reg)])\n",
        "pipe.fit(X,y)"
      ],
      "execution_count": 58,
      "outputs": [
        {
          "output_type": "execute_result",
          "data": {
            "text/plain": [
              "Pipeline(memory=None,\n",
              "         steps=[('union',\n",
              "                 FeatureUnion(n_jobs=None,\n",
              "                              transformer_list=[('drop',\n",
              "                                                 Drop_col(ind_col=[0, 1, 2, 3,\n",
              "                                                                   4, 5])),\n",
              "                                                ('LA',\n",
              "                                                 Distance(coord=(34, -118))),\n",
              "                                                ('SF',\n",
              "                                                 Distance(coord=(37, -112)))],\n",
              "                              transformer_weights=None, verbose=False)),\n",
              "                ('lin_reg',\n",
              "                 LinearRegression(copy_X=True, fit_intercept=True, n_jobs=None,\n",
              "                                  normalize=False))],\n",
              "         verbose=False)"
            ]
          },
          "metadata": {
            "tags": []
          },
          "execution_count": 58
        }
      ]
    },
    {
      "cell_type": "code",
      "metadata": {
        "id": "RBQmQBuQVYpD",
        "outputId": "57232eff-3560-43de-a32c-51b1903bdde9",
        "colab": {
          "base_uri": "https://localhost:8080/",
          "height": 34
        }
      },
      "source": [
        "pipe.score(X,y)"
      ],
      "execution_count": 59,
      "outputs": [
        {
          "output_type": "execute_result",
          "data": {
            "text/plain": [
              "0.5491806157969854"
            ]
          },
          "metadata": {
            "tags": []
          },
          "execution_count": 59
        }
      ]
    },
    {
      "cell_type": "code",
      "metadata": {
        "id": "sPZbcUZxVuYX",
        "outputId": "0144a3c1-df64-40f1-ca5f-92832bed9c44",
        "colab": {
          "base_uri": "https://localhost:8080/",
          "height": 52
        }
      },
      "source": [
        "pipe.predict(X)"
      ],
      "execution_count": 60,
      "outputs": [
        {
          "output_type": "execute_result",
          "data": {
            "text/plain": [
              "array([4.18426961, 4.00041895, 3.70072415, ..., 0.62692676, 0.7715129 ,\n",
              "       1.09751205])"
            ]
          },
          "metadata": {
            "tags": []
          },
          "execution_count": 60
        }
      ]
    },
    {
      "cell_type": "code",
      "metadata": {
        "id": "_fPZXl1GVzgp",
        "outputId": "8863b40a-0a91-40fe-8c26-914189046719",
        "colab": {
          "base_uri": "https://localhost:8080/",
          "height": 123
        }
      },
      "source": [
        "pipe.named_steps"
      ],
      "execution_count": 61,
      "outputs": [
        {
          "output_type": "execute_result",
          "data": {
            "text/plain": [
              "{'lin_reg': LinearRegression(copy_X=True, fit_intercept=True, n_jobs=None, normalize=False),\n",
              " 'union': FeatureUnion(n_jobs=None,\n",
              "              transformer_list=[('drop', Drop_col(ind_col=[0, 1, 2, 3, 4, 5])),\n",
              "                                ('LA', Distance(coord=(34, -118))),\n",
              "                                ('SF', Distance(coord=(37, -112)))],\n",
              "              transformer_weights=None, verbose=False)}"
            ]
          },
          "metadata": {
            "tags": []
          },
          "execution_count": 61
        }
      ]
    },
    {
      "cell_type": "code",
      "metadata": {
        "id": "VnbrxzeXV8vO"
      },
      "source": [
        ""
      ],
      "execution_count": null,
      "outputs": []
    }
  ]
}