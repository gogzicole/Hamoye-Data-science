{
  "nbformat": 4,
  "nbformat_minor": 0,
  "metadata": {
    "colab": {
      "name": "Backward Elimination OSP.ipynb",
      "provenance": [],
      "authorship_tag": "ABX9TyMdKYWL31fxRrhKdTMoIqj2",
      "include_colab_link": true
    },
    "kernelspec": {
      "name": "python3",
      "display_name": "Python 3"
    }
  },
  "cells": [
    {
      "cell_type": "markdown",
      "metadata": {
        "id": "view-in-github",
        "colab_type": "text"
      },
      "source": [
        "<a href=\"https://colab.research.google.com/github/gogzicole/Hamoye-Data-science/blob/master/Backward_Elimination_OSP.ipynb\" target=\"_parent\"><img src=\"https://colab.research.google.com/assets/colab-badge.svg\" alt=\"Open In Colab\"/></a>"
      ]
    },
    {
      "cell_type": "code",
      "metadata": {
        "id": "pX0FoCrtZr_C",
        "colab_type": "code",
        "colab": {}
      },
      "source": [
        "import numpy as np\n",
        "import pandas as pd\n",
        "from pandas import Series, DataFrame"
      ],
      "execution_count": 1,
      "outputs": []
    },
    {
      "cell_type": "markdown",
      "metadata": {
        "id": "CrA9O8KVzQCa",
        "colab_type": "text"
      },
      "source": [
        "**Loading Dataset**"
      ]
    },
    {
      "cell_type": "code",
      "metadata": {
        "id": "3LbVzoaLwILG",
        "colab_type": "code",
        "colab": {
          "base_uri": "https://localhost:8080/",
          "height": 204
        },
        "outputId": "cc0625c1-1c99-47d3-c84e-7f7a421906a9"
      },
      "source": [
        "data_set = pd.read_csv('https://raw.githubusercontent.com/gogzicole/Hamoye-Data-science/master/Admission_Predict.csv')\n",
        "data_set.head()"
      ],
      "execution_count": 2,
      "outputs": [
        {
          "output_type": "execute_result",
          "data": {
            "text/html": [
              "<div>\n",
              "<style scoped>\n",
              "    .dataframe tbody tr th:only-of-type {\n",
              "        vertical-align: middle;\n",
              "    }\n",
              "\n",
              "    .dataframe tbody tr th {\n",
              "        vertical-align: top;\n",
              "    }\n",
              "\n",
              "    .dataframe thead th {\n",
              "        text-align: right;\n",
              "    }\n",
              "</style>\n",
              "<table border=\"1\" class=\"dataframe\">\n",
              "  <thead>\n",
              "    <tr style=\"text-align: right;\">\n",
              "      <th></th>\n",
              "      <th>Serial No.</th>\n",
              "      <th>GRE Score</th>\n",
              "      <th>TOEFL Score</th>\n",
              "      <th>University Rating</th>\n",
              "      <th>SOP</th>\n",
              "      <th>LOR</th>\n",
              "      <th>CGPA</th>\n",
              "      <th>Research</th>\n",
              "      <th>Chance of Admit</th>\n",
              "    </tr>\n",
              "  </thead>\n",
              "  <tbody>\n",
              "    <tr>\n",
              "      <th>0</th>\n",
              "      <td>1</td>\n",
              "      <td>337</td>\n",
              "      <td>118</td>\n",
              "      <td>4</td>\n",
              "      <td>4.5</td>\n",
              "      <td>4.5</td>\n",
              "      <td>9.65</td>\n",
              "      <td>1</td>\n",
              "      <td>0.92</td>\n",
              "    </tr>\n",
              "    <tr>\n",
              "      <th>1</th>\n",
              "      <td>2</td>\n",
              "      <td>324</td>\n",
              "      <td>107</td>\n",
              "      <td>4</td>\n",
              "      <td>4.0</td>\n",
              "      <td>4.5</td>\n",
              "      <td>8.87</td>\n",
              "      <td>1</td>\n",
              "      <td>0.76</td>\n",
              "    </tr>\n",
              "    <tr>\n",
              "      <th>2</th>\n",
              "      <td>3</td>\n",
              "      <td>316</td>\n",
              "      <td>104</td>\n",
              "      <td>3</td>\n",
              "      <td>3.0</td>\n",
              "      <td>3.5</td>\n",
              "      <td>8.00</td>\n",
              "      <td>1</td>\n",
              "      <td>0.72</td>\n",
              "    </tr>\n",
              "    <tr>\n",
              "      <th>3</th>\n",
              "      <td>4</td>\n",
              "      <td>322</td>\n",
              "      <td>110</td>\n",
              "      <td>3</td>\n",
              "      <td>3.5</td>\n",
              "      <td>2.5</td>\n",
              "      <td>8.67</td>\n",
              "      <td>1</td>\n",
              "      <td>0.80</td>\n",
              "    </tr>\n",
              "    <tr>\n",
              "      <th>4</th>\n",
              "      <td>5</td>\n",
              "      <td>314</td>\n",
              "      <td>103</td>\n",
              "      <td>2</td>\n",
              "      <td>2.0</td>\n",
              "      <td>3.0</td>\n",
              "      <td>8.21</td>\n",
              "      <td>0</td>\n",
              "      <td>0.65</td>\n",
              "    </tr>\n",
              "  </tbody>\n",
              "</table>\n",
              "</div>"
            ],
            "text/plain": [
              "   Serial No.  GRE Score  TOEFL Score  ...  CGPA  Research  Chance of Admit \n",
              "0           1        337          118  ...  9.65         1              0.92\n",
              "1           2        324          107  ...  8.87         1              0.76\n",
              "2           3        316          104  ...  8.00         1              0.72\n",
              "3           4        322          110  ...  8.67         1              0.80\n",
              "4           5        314          103  ...  8.21         0              0.65\n",
              "\n",
              "[5 rows x 9 columns]"
            ]
          },
          "metadata": {
            "tags": []
          },
          "execution_count": 2
        }
      ]
    },
    {
      "cell_type": "markdown",
      "metadata": {
        "id": "NkkH2LtNzYXz",
        "colab_type": "text"
      },
      "source": [
        "**Converting space to  '_'**"
      ]
    },
    {
      "cell_type": "code",
      "metadata": {
        "id": "1V7Buw1BwdE2",
        "colab_type": "code",
        "colab": {}
      },
      "source": [
        "data_set.columns = data_set.columns.str.strip().str.replace(\" \",'_')"
      ],
      "execution_count": 3,
      "outputs": []
    },
    {
      "cell_type": "code",
      "metadata": {
        "id": "5myClSVEwtEA",
        "colab_type": "code",
        "colab": {
          "base_uri": "https://localhost:8080/",
          "height": 204
        },
        "outputId": "1596e37d-faf0-4586-ab3e-fbca255e1f7e"
      },
      "source": [
        "data_set.head()"
      ],
      "execution_count": 4,
      "outputs": [
        {
          "output_type": "execute_result",
          "data": {
            "text/html": [
              "<div>\n",
              "<style scoped>\n",
              "    .dataframe tbody tr th:only-of-type {\n",
              "        vertical-align: middle;\n",
              "    }\n",
              "\n",
              "    .dataframe tbody tr th {\n",
              "        vertical-align: top;\n",
              "    }\n",
              "\n",
              "    .dataframe thead th {\n",
              "        text-align: right;\n",
              "    }\n",
              "</style>\n",
              "<table border=\"1\" class=\"dataframe\">\n",
              "  <thead>\n",
              "    <tr style=\"text-align: right;\">\n",
              "      <th></th>\n",
              "      <th>Serial_No.</th>\n",
              "      <th>GRE_Score</th>\n",
              "      <th>TOEFL_Score</th>\n",
              "      <th>University_Rating</th>\n",
              "      <th>SOP</th>\n",
              "      <th>LOR</th>\n",
              "      <th>CGPA</th>\n",
              "      <th>Research</th>\n",
              "      <th>Chance_of_Admit</th>\n",
              "    </tr>\n",
              "  </thead>\n",
              "  <tbody>\n",
              "    <tr>\n",
              "      <th>0</th>\n",
              "      <td>1</td>\n",
              "      <td>337</td>\n",
              "      <td>118</td>\n",
              "      <td>4</td>\n",
              "      <td>4.5</td>\n",
              "      <td>4.5</td>\n",
              "      <td>9.65</td>\n",
              "      <td>1</td>\n",
              "      <td>0.92</td>\n",
              "    </tr>\n",
              "    <tr>\n",
              "      <th>1</th>\n",
              "      <td>2</td>\n",
              "      <td>324</td>\n",
              "      <td>107</td>\n",
              "      <td>4</td>\n",
              "      <td>4.0</td>\n",
              "      <td>4.5</td>\n",
              "      <td>8.87</td>\n",
              "      <td>1</td>\n",
              "      <td>0.76</td>\n",
              "    </tr>\n",
              "    <tr>\n",
              "      <th>2</th>\n",
              "      <td>3</td>\n",
              "      <td>316</td>\n",
              "      <td>104</td>\n",
              "      <td>3</td>\n",
              "      <td>3.0</td>\n",
              "      <td>3.5</td>\n",
              "      <td>8.00</td>\n",
              "      <td>1</td>\n",
              "      <td>0.72</td>\n",
              "    </tr>\n",
              "    <tr>\n",
              "      <th>3</th>\n",
              "      <td>4</td>\n",
              "      <td>322</td>\n",
              "      <td>110</td>\n",
              "      <td>3</td>\n",
              "      <td>3.5</td>\n",
              "      <td>2.5</td>\n",
              "      <td>8.67</td>\n",
              "      <td>1</td>\n",
              "      <td>0.80</td>\n",
              "    </tr>\n",
              "    <tr>\n",
              "      <th>4</th>\n",
              "      <td>5</td>\n",
              "      <td>314</td>\n",
              "      <td>103</td>\n",
              "      <td>2</td>\n",
              "      <td>2.0</td>\n",
              "      <td>3.0</td>\n",
              "      <td>8.21</td>\n",
              "      <td>0</td>\n",
              "      <td>0.65</td>\n",
              "    </tr>\n",
              "  </tbody>\n",
              "</table>\n",
              "</div>"
            ],
            "text/plain": [
              "   Serial_No.  GRE_Score  TOEFL_Score  ...  CGPA  Research  Chance_of_Admit\n",
              "0           1        337          118  ...  9.65         1             0.92\n",
              "1           2        324          107  ...  8.87         1             0.76\n",
              "2           3        316          104  ...  8.00         1             0.72\n",
              "3           4        322          110  ...  8.67         1             0.80\n",
              "4           5        314          103  ...  8.21         0             0.65\n",
              "\n",
              "[5 rows x 9 columns]"
            ]
          },
          "metadata": {
            "tags": []
          },
          "execution_count": 4
        }
      ]
    },
    {
      "cell_type": "markdown",
      "metadata": {
        "id": "1v4QSSCUzsvT",
        "colab_type": "text"
      },
      "source": [
        "**Checking for issing Values**"
      ]
    },
    {
      "cell_type": "code",
      "metadata": {
        "id": "NoUTXEWRwwK8",
        "colab_type": "code",
        "colab": {
          "base_uri": "https://localhost:8080/",
          "height": 187
        },
        "outputId": "e0d724ed-901d-40e4-a5f0-4e9c41269d07"
      },
      "source": [
        "data_set.isnull().sum()"
      ],
      "execution_count": 5,
      "outputs": [
        {
          "output_type": "execute_result",
          "data": {
            "text/plain": [
              "Serial_No.           0\n",
              "GRE_Score            0\n",
              "TOEFL_Score          0\n",
              "University_Rating    0\n",
              "SOP                  0\n",
              "LOR                  0\n",
              "CGPA                 0\n",
              "Research             0\n",
              "Chance_of_Admit      0\n",
              "dtype: int64"
            ]
          },
          "metadata": {
            "tags": []
          },
          "execution_count": 5
        }
      ]
    },
    {
      "cell_type": "markdown",
      "metadata": {
        "id": "fGkBHa_T5SUn",
        "colab_type": "text"
      },
      "source": [
        "**Check for Dataset Correlation**"
      ]
    },
    {
      "cell_type": "code",
      "metadata": {
        "id": "QxlnK8SU5aL9",
        "colab_type": "code",
        "colab": {
          "base_uri": "https://localhost:8080/",
          "height": 187
        },
        "outputId": "cc091a9e-f966-479c-9389-e4dcfc62c294"
      },
      "source": [
        "corr_matrix = data_set.corr()\n",
        "corr_matrix[\"Chance_of_Admit\"].sort_values(ascending = False)"
      ],
      "execution_count": 25,
      "outputs": [
        {
          "output_type": "execute_result",
          "data": {
            "text/plain": [
              "Chance_of_Admit      1.000000\n",
              "CGPA                 0.873289\n",
              "GRE_Score            0.802610\n",
              "TOEFL_Score          0.791594\n",
              "University_Rating    0.711250\n",
              "SOP                  0.675732\n",
              "LOR                  0.669889\n",
              "Research             0.553202\n",
              "Serial_No.           0.042336\n",
              "Name: Chance_of_Admit, dtype: float64"
            ]
          },
          "metadata": {
            "tags": []
          },
          "execution_count": 25
        }
      ]
    },
    {
      "cell_type": "code",
      "metadata": {
        "id": "40Xctp2V5rKp",
        "colab_type": "code",
        "colab": {
          "base_uri": "https://localhost:8080/",
          "height": 328
        },
        "outputId": "04d28c76-623b-42ac-c958-66041bb121ba"
      },
      "source": [
        "corr_matrix"
      ],
      "execution_count": 26,
      "outputs": [
        {
          "output_type": "execute_result",
          "data": {
            "text/html": [
              "<div>\n",
              "<style scoped>\n",
              "    .dataframe tbody tr th:only-of-type {\n",
              "        vertical-align: middle;\n",
              "    }\n",
              "\n",
              "    .dataframe tbody tr th {\n",
              "        vertical-align: top;\n",
              "    }\n",
              "\n",
              "    .dataframe thead th {\n",
              "        text-align: right;\n",
              "    }\n",
              "</style>\n",
              "<table border=\"1\" class=\"dataframe\">\n",
              "  <thead>\n",
              "    <tr style=\"text-align: right;\">\n",
              "      <th></th>\n",
              "      <th>Serial_No.</th>\n",
              "      <th>GRE_Score</th>\n",
              "      <th>TOEFL_Score</th>\n",
              "      <th>University_Rating</th>\n",
              "      <th>SOP</th>\n",
              "      <th>LOR</th>\n",
              "      <th>CGPA</th>\n",
              "      <th>Research</th>\n",
              "      <th>Chance_of_Admit</th>\n",
              "    </tr>\n",
              "  </thead>\n",
              "  <tbody>\n",
              "    <tr>\n",
              "      <th>Serial_No.</th>\n",
              "      <td>1.000000</td>\n",
              "      <td>-0.097526</td>\n",
              "      <td>-0.147932</td>\n",
              "      <td>-0.169948</td>\n",
              "      <td>-0.166932</td>\n",
              "      <td>-0.088221</td>\n",
              "      <td>-0.045608</td>\n",
              "      <td>-0.063138</td>\n",
              "      <td>0.042336</td>\n",
              "    </tr>\n",
              "    <tr>\n",
              "      <th>GRE_Score</th>\n",
              "      <td>-0.097526</td>\n",
              "      <td>1.000000</td>\n",
              "      <td>0.835977</td>\n",
              "      <td>0.668976</td>\n",
              "      <td>0.612831</td>\n",
              "      <td>0.557555</td>\n",
              "      <td>0.833060</td>\n",
              "      <td>0.580391</td>\n",
              "      <td>0.802610</td>\n",
              "    </tr>\n",
              "    <tr>\n",
              "      <th>TOEFL_Score</th>\n",
              "      <td>-0.147932</td>\n",
              "      <td>0.835977</td>\n",
              "      <td>1.000000</td>\n",
              "      <td>0.695590</td>\n",
              "      <td>0.657981</td>\n",
              "      <td>0.567721</td>\n",
              "      <td>0.828417</td>\n",
              "      <td>0.489858</td>\n",
              "      <td>0.791594</td>\n",
              "    </tr>\n",
              "    <tr>\n",
              "      <th>University_Rating</th>\n",
              "      <td>-0.169948</td>\n",
              "      <td>0.668976</td>\n",
              "      <td>0.695590</td>\n",
              "      <td>1.000000</td>\n",
              "      <td>0.734523</td>\n",
              "      <td>0.660123</td>\n",
              "      <td>0.746479</td>\n",
              "      <td>0.447783</td>\n",
              "      <td>0.711250</td>\n",
              "    </tr>\n",
              "    <tr>\n",
              "      <th>SOP</th>\n",
              "      <td>-0.166932</td>\n",
              "      <td>0.612831</td>\n",
              "      <td>0.657981</td>\n",
              "      <td>0.734523</td>\n",
              "      <td>1.000000</td>\n",
              "      <td>0.729593</td>\n",
              "      <td>0.718144</td>\n",
              "      <td>0.444029</td>\n",
              "      <td>0.675732</td>\n",
              "    </tr>\n",
              "    <tr>\n",
              "      <th>LOR</th>\n",
              "      <td>-0.088221</td>\n",
              "      <td>0.557555</td>\n",
              "      <td>0.567721</td>\n",
              "      <td>0.660123</td>\n",
              "      <td>0.729593</td>\n",
              "      <td>1.000000</td>\n",
              "      <td>0.670211</td>\n",
              "      <td>0.396859</td>\n",
              "      <td>0.669889</td>\n",
              "    </tr>\n",
              "    <tr>\n",
              "      <th>CGPA</th>\n",
              "      <td>-0.045608</td>\n",
              "      <td>0.833060</td>\n",
              "      <td>0.828417</td>\n",
              "      <td>0.746479</td>\n",
              "      <td>0.718144</td>\n",
              "      <td>0.670211</td>\n",
              "      <td>1.000000</td>\n",
              "      <td>0.521654</td>\n",
              "      <td>0.873289</td>\n",
              "    </tr>\n",
              "    <tr>\n",
              "      <th>Research</th>\n",
              "      <td>-0.063138</td>\n",
              "      <td>0.580391</td>\n",
              "      <td>0.489858</td>\n",
              "      <td>0.447783</td>\n",
              "      <td>0.444029</td>\n",
              "      <td>0.396859</td>\n",
              "      <td>0.521654</td>\n",
              "      <td>1.000000</td>\n",
              "      <td>0.553202</td>\n",
              "    </tr>\n",
              "    <tr>\n",
              "      <th>Chance_of_Admit</th>\n",
              "      <td>0.042336</td>\n",
              "      <td>0.802610</td>\n",
              "      <td>0.791594</td>\n",
              "      <td>0.711250</td>\n",
              "      <td>0.675732</td>\n",
              "      <td>0.669889</td>\n",
              "      <td>0.873289</td>\n",
              "      <td>0.553202</td>\n",
              "      <td>1.000000</td>\n",
              "    </tr>\n",
              "  </tbody>\n",
              "</table>\n",
              "</div>"
            ],
            "text/plain": [
              "                   Serial_No.  GRE_Score  ...  Research  Chance_of_Admit\n",
              "Serial_No.           1.000000  -0.097526  ... -0.063138         0.042336\n",
              "GRE_Score           -0.097526   1.000000  ...  0.580391         0.802610\n",
              "TOEFL_Score         -0.147932   0.835977  ...  0.489858         0.791594\n",
              "University_Rating   -0.169948   0.668976  ...  0.447783         0.711250\n",
              "SOP                 -0.166932   0.612831  ...  0.444029         0.675732\n",
              "LOR                 -0.088221   0.557555  ...  0.396859         0.669889\n",
              "CGPA                -0.045608   0.833060  ...  0.521654         0.873289\n",
              "Research            -0.063138   0.580391  ...  1.000000         0.553202\n",
              "Chance_of_Admit      0.042336   0.802610  ...  0.553202         1.000000\n",
              "\n",
              "[9 rows x 9 columns]"
            ]
          },
          "metadata": {
            "tags": []
          },
          "execution_count": 26
        }
      ]
    },
    {
      "cell_type": "markdown",
      "metadata": {
        "id": "5KcglMDvz0il",
        "colab_type": "text"
      },
      "source": [
        "**Defining dependent and Independent Variables**"
      ]
    },
    {
      "cell_type": "code",
      "metadata": {
        "id": "Gsiof8jSw1rk",
        "colab_type": "code",
        "colab": {}
      },
      "source": [
        "x = data_set.drop(['Serial_No.','Chance_of_Admit'], axis = 1)\n",
        "y = data_set['Chance_of_Admit']"
      ],
      "execution_count": 8,
      "outputs": []
    },
    {
      "cell_type": "code",
      "metadata": {
        "id": "lM1bD--5xLuY",
        "colab_type": "code",
        "colab": {
          "base_uri": "https://localhost:8080/",
          "height": 142
        },
        "outputId": "6ed1be83-4b5a-4464-9601-bc11abfddd3d"
      },
      "source": [
        "x.head(3)"
      ],
      "execution_count": 10,
      "outputs": [
        {
          "output_type": "execute_result",
          "data": {
            "text/html": [
              "<div>\n",
              "<style scoped>\n",
              "    .dataframe tbody tr th:only-of-type {\n",
              "        vertical-align: middle;\n",
              "    }\n",
              "\n",
              "    .dataframe tbody tr th {\n",
              "        vertical-align: top;\n",
              "    }\n",
              "\n",
              "    .dataframe thead th {\n",
              "        text-align: right;\n",
              "    }\n",
              "</style>\n",
              "<table border=\"1\" class=\"dataframe\">\n",
              "  <thead>\n",
              "    <tr style=\"text-align: right;\">\n",
              "      <th></th>\n",
              "      <th>GRE_Score</th>\n",
              "      <th>TOEFL_Score</th>\n",
              "      <th>University_Rating</th>\n",
              "      <th>SOP</th>\n",
              "      <th>LOR</th>\n",
              "      <th>CGPA</th>\n",
              "      <th>Research</th>\n",
              "    </tr>\n",
              "  </thead>\n",
              "  <tbody>\n",
              "    <tr>\n",
              "      <th>0</th>\n",
              "      <td>337</td>\n",
              "      <td>118</td>\n",
              "      <td>4</td>\n",
              "      <td>4.5</td>\n",
              "      <td>4.5</td>\n",
              "      <td>9.65</td>\n",
              "      <td>1</td>\n",
              "    </tr>\n",
              "    <tr>\n",
              "      <th>1</th>\n",
              "      <td>324</td>\n",
              "      <td>107</td>\n",
              "      <td>4</td>\n",
              "      <td>4.0</td>\n",
              "      <td>4.5</td>\n",
              "      <td>8.87</td>\n",
              "      <td>1</td>\n",
              "    </tr>\n",
              "    <tr>\n",
              "      <th>2</th>\n",
              "      <td>316</td>\n",
              "      <td>104</td>\n",
              "      <td>3</td>\n",
              "      <td>3.0</td>\n",
              "      <td>3.5</td>\n",
              "      <td>8.00</td>\n",
              "      <td>1</td>\n",
              "    </tr>\n",
              "  </tbody>\n",
              "</table>\n",
              "</div>"
            ],
            "text/plain": [
              "   GRE_Score  TOEFL_Score  University_Rating  SOP  LOR  CGPA  Research\n",
              "0        337          118                  4  4.5  4.5  9.65         1\n",
              "1        324          107                  4  4.0  4.5  8.87         1\n",
              "2        316          104                  3  3.0  3.5  8.00         1"
            ]
          },
          "metadata": {
            "tags": []
          },
          "execution_count": 10
        }
      ]
    },
    {
      "cell_type": "code",
      "metadata": {
        "id": "GkpmyxswxWMN",
        "colab_type": "code",
        "colab": {
          "base_uri": "https://localhost:8080/",
          "height": 85
        },
        "outputId": "e7b400fb-eedd-4e45-908e-49a581b7f0d5"
      },
      "source": [
        "y.head(3)"
      ],
      "execution_count": 11,
      "outputs": [
        {
          "output_type": "execute_result",
          "data": {
            "text/plain": [
              "0    0.92\n",
              "1    0.76\n",
              "2    0.72\n",
              "Name: Chance_of_Admit, dtype: float64"
            ]
          },
          "metadata": {
            "tags": []
          },
          "execution_count": 11
        }
      ]
    },
    {
      "cell_type": "markdown",
      "metadata": {
        "id": "iUCuUgBU0Lvg",
        "colab_type": "text"
      },
      "source": [
        "**Splitting Data to Train and Test Split**"
      ]
    },
    {
      "cell_type": "code",
      "metadata": {
        "id": "tZVALEc9xbsd",
        "colab_type": "code",
        "colab": {}
      },
      "source": [
        "from sklearn.model_selection import train_test_split\n",
        "x_train,x_test,y_train,y_test = train_test_split(x, y, test_size = 0.3, random_state = 0)"
      ],
      "execution_count": 16,
      "outputs": []
    },
    {
      "cell_type": "code",
      "metadata": {
        "id": "RSl0Dzxsx5LU",
        "colab_type": "code",
        "colab": {
          "base_uri": "https://localhost:8080/",
          "height": 85
        },
        "outputId": "707cff3b-cceb-4962-fa35-f65b83873cab"
      },
      "source": [
        "print(x_train.shape)\n",
        "print(x_test.shape)\n",
        "print(y_train.shape)\n",
        "print(y_test.shape)"
      ],
      "execution_count": 18,
      "outputs": [
        {
          "output_type": "stream",
          "text": [
            "(280, 7)\n",
            "(120, 7)\n",
            "(280,)\n",
            "(120,)\n"
          ],
          "name": "stdout"
        }
      ]
    },
    {
      "cell_type": "markdown",
      "metadata": {
        "id": "8I0loYKe0Zqp",
        "colab_type": "text"
      },
      "source": [
        "**Linear Regression Model**"
      ]
    },
    {
      "cell_type": "code",
      "metadata": {
        "id": "4yqq9Hxmx7Z8",
        "colab_type": "code",
        "colab": {
          "base_uri": "https://localhost:8080/",
          "height": 34
        },
        "outputId": "8cfc7841-79c4-4d43-b577-2dd62112eea4"
      },
      "source": [
        "from sklearn.linear_model import LinearRegression\n",
        "regressor = LinearRegression()\n",
        "regressor.fit(x_train,y_train)"
      ],
      "execution_count": 19,
      "outputs": [
        {
          "output_type": "execute_result",
          "data": {
            "text/plain": [
              "LinearRegression(copy_X=True, fit_intercept=True, n_jobs=None, normalize=False)"
            ]
          },
          "metadata": {
            "tags": []
          },
          "execution_count": 19
        }
      ]
    },
    {
      "cell_type": "code",
      "metadata": {
        "id": "R1bYxIAHyopl",
        "colab_type": "code",
        "colab": {}
      },
      "source": [
        "y_pred = regressor.predict(x_test)"
      ],
      "execution_count": 20,
      "outputs": []
    },
    {
      "cell_type": "markdown",
      "metadata": {
        "id": "lm-01qRO04j_",
        "colab_type": "text"
      },
      "source": [
        "**Evaluation Metrics**"
      ]
    },
    {
      "cell_type": "markdown",
      "metadata": {
        "id": "xSD7psbh0_9m",
        "colab_type": "text"
      },
      "source": [
        "**r2_score**"
      ]
    },
    {
      "cell_type": "code",
      "metadata": {
        "id": "gndgX7wTyxeL",
        "colab_type": "code",
        "colab": {
          "base_uri": "https://localhost:8080/",
          "height": 34
        },
        "outputId": "ef685386-5159-4b3c-b540-823d7365b982"
      },
      "source": [
        "from sklearn.metrics import r2_score\n",
        "r2_score = r2_score(y_test,y_pred)\n",
        "round(r2_score,4)"
      ],
      "execution_count": 22,
      "outputs": [
        {
          "output_type": "execute_result",
          "data": {
            "text/plain": [
              "0.7457"
            ]
          },
          "metadata": {
            "tags": []
          },
          "execution_count": 22
        }
      ]
    },
    {
      "cell_type": "markdown",
      "metadata": {
        "id": "iksVemV71qc1",
        "colab_type": "text"
      },
      "source": [
        "**mean absolute error**"
      ]
    },
    {
      "cell_type": "code",
      "metadata": {
        "id": "hKQDojKH1FkV",
        "colab_type": "code",
        "colab": {
          "base_uri": "https://localhost:8080/",
          "height": 34
        },
        "outputId": "3c8d803f-578c-4d70-fd4c-7f75ca3e5466"
      },
      "source": [
        "from sklearn.metrics import mean_absolute_error\n",
        "mae = mean_absolute_error(y_test,y_pred)\n",
        "round(mae,4)"
      ],
      "execution_count": 23,
      "outputs": [
        {
          "output_type": "execute_result",
          "data": {
            "text/plain": [
              "0.0469"
            ]
          },
          "metadata": {
            "tags": []
          },
          "execution_count": 23
        }
      ]
    },
    {
      "cell_type": "markdown",
      "metadata": {
        "id": "I_hxEifx2WQG",
        "colab_type": "text"
      },
      "source": [
        "**root ean square error**"
      ]
    },
    {
      "cell_type": "code",
      "metadata": {
        "id": "2gh39hSe14w5",
        "colab_type": "code",
        "colab": {
          "base_uri": "https://localhost:8080/",
          "height": 34
        },
        "outputId": "c3f558ec-c46e-48d2-9eb1-a0d6ce14342b"
      },
      "source": [
        "from sklearn.metrics import mean_squared_error\n",
        "rmse = np.sqrt(mean_squared_error(y_test,y_pred))\n",
        "round(rmse,4)"
      ],
      "execution_count": 24,
      "outputs": [
        {
          "output_type": "execute_result",
          "data": {
            "text/plain": [
              "0.0662"
            ]
          },
          "metadata": {
            "tags": []
          },
          "execution_count": 24
        }
      ]
    },
    {
      "cell_type": "markdown",
      "metadata": {
        "id": "xLR7XF_Y2zEG",
        "colab_type": "text"
      },
      "source": [
        "**Evaluating the model Performance Using Backward Elimination Method**\n",
        "**Evaluation Criterias are:**\n",
        "**1. R-squared Value and Adjusted R-Squared value**\n",
        "**2. Coefficient of Parameters**\n",
        "**3. P-values**"
      ]
    },
    {
      "cell_type": "code",
      "metadata": {
        "id": "emoWiPM-2eXB",
        "colab_type": "code",
        "colab": {
          "base_uri": "https://localhost:8080/",
          "height": 71
        },
        "outputId": "da5cc111-3214-4cd1-fbe2-736794bc28a7"
      },
      "source": [
        "import statsmodels.api as sm"
      ],
      "execution_count": 28,
      "outputs": [
        {
          "output_type": "stream",
          "text": [
            "/usr/local/lib/python3.6/dist-packages/statsmodels/tools/_testing.py:19: FutureWarning: pandas.util.testing is deprecated. Use the functions in the public API at pandas.testing instead.\n",
            "  import pandas.util.testing as tm\n"
          ],
          "name": "stderr"
        }
      ]
    },
    {
      "cell_type": "code",
      "metadata": {
        "id": "yQHrKIBz6eOZ",
        "colab_type": "code",
        "colab": {}
      },
      "source": [
        "X = x = sm.add_constant(x)"
      ],
      "execution_count": 38,
      "outputs": []
    },
    {
      "cell_type": "code",
      "metadata": {
        "id": "lCc-T2U96p0H",
        "colab_type": "code",
        "colab": {
          "base_uri": "https://localhost:8080/",
          "height": 604
        },
        "outputId": "18c5357a-698b-4d5d-aad6-247f1fdd74ed"
      },
      "source": [
        "x_opt = X.iloc[:,[0,1,2,3,4,5,6,7]]\n",
        "stats_model = sm.OLS(endog = y,exog = x_opt)\n",
        "stats_model.fit().summary()"
      ],
      "execution_count": 39,
      "outputs": [
        {
          "output_type": "execute_result",
          "data": {
            "text/html": [
              "<table class=\"simpletable\">\n",
              "<caption>OLS Regression Results</caption>\n",
              "<tr>\n",
              "  <th>Dep. Variable:</th>     <td>Chance_of_Admit</td> <th>  R-squared:         </th> <td>   0.803</td> \n",
              "</tr>\n",
              "<tr>\n",
              "  <th>Model:</th>                   <td>OLS</td>       <th>  Adj. R-squared:    </th> <td>   0.800</td> \n",
              "</tr>\n",
              "<tr>\n",
              "  <th>Method:</th>             <td>Least Squares</td>  <th>  F-statistic:       </th> <td>   228.9</td> \n",
              "</tr>\n",
              "<tr>\n",
              "  <th>Date:</th>             <td>Fri, 25 Sep 2020</td> <th>  Prob (F-statistic):</th> <td>3.12e-134</td>\n",
              "</tr>\n",
              "<tr>\n",
              "  <th>Time:</th>                 <td>15:48:51</td>     <th>  Log-Likelihood:    </th> <td>  537.37</td> \n",
              "</tr>\n",
              "<tr>\n",
              "  <th>No. Observations:</th>      <td>   400</td>      <th>  AIC:               </th> <td>  -1059.</td> \n",
              "</tr>\n",
              "<tr>\n",
              "  <th>Df Residuals:</th>          <td>   392</td>      <th>  BIC:               </th> <td>  -1027.</td> \n",
              "</tr>\n",
              "<tr>\n",
              "  <th>Df Model:</th>              <td>     7</td>      <th>                     </th>     <td> </td>    \n",
              "</tr>\n",
              "<tr>\n",
              "  <th>Covariance Type:</th>      <td>nonrobust</td>    <th>                     </th>     <td> </td>    \n",
              "</tr>\n",
              "</table>\n",
              "<table class=\"simpletable\">\n",
              "<tr>\n",
              "          <td></td>             <th>coef</th>     <th>std err</th>      <th>t</th>      <th>P>|t|</th>  <th>[0.025</th>    <th>0.975]</th>  \n",
              "</tr>\n",
              "<tr>\n",
              "  <th>const</th>             <td>   -1.2594</td> <td>    0.125</td> <td>  -10.097</td> <td> 0.000</td> <td>   -1.505</td> <td>   -1.014</td>\n",
              "</tr>\n",
              "<tr>\n",
              "  <th>GRE_Score</th>         <td>    0.0017</td> <td>    0.001</td> <td>    2.906</td> <td> 0.004</td> <td>    0.001</td> <td>    0.003</td>\n",
              "</tr>\n",
              "<tr>\n",
              "  <th>TOEFL_Score</th>       <td>    0.0029</td> <td>    0.001</td> <td>    2.680</td> <td> 0.008</td> <td>    0.001</td> <td>    0.005</td>\n",
              "</tr>\n",
              "<tr>\n",
              "  <th>University_Rating</th> <td>    0.0057</td> <td>    0.005</td> <td>    1.198</td> <td> 0.232</td> <td>   -0.004</td> <td>    0.015</td>\n",
              "</tr>\n",
              "<tr>\n",
              "  <th>SOP</th>               <td>   -0.0033</td> <td>    0.006</td> <td>   -0.594</td> <td> 0.553</td> <td>   -0.014</td> <td>    0.008</td>\n",
              "</tr>\n",
              "<tr>\n",
              "  <th>LOR</th>               <td>    0.0224</td> <td>    0.006</td> <td>    4.034</td> <td> 0.000</td> <td>    0.011</td> <td>    0.033</td>\n",
              "</tr>\n",
              "<tr>\n",
              "  <th>CGPA</th>              <td>    0.1189</td> <td>    0.012</td> <td>    9.734</td> <td> 0.000</td> <td>    0.095</td> <td>    0.143</td>\n",
              "</tr>\n",
              "<tr>\n",
              "  <th>Research</th>          <td>    0.0245</td> <td>    0.008</td> <td>    3.081</td> <td> 0.002</td> <td>    0.009</td> <td>    0.040</td>\n",
              "</tr>\n",
              "</table>\n",
              "<table class=\"simpletable\">\n",
              "<tr>\n",
              "  <th>Omnibus:</th>       <td>87.895</td> <th>  Durbin-Watson:     </th> <td>   0.759</td>\n",
              "</tr>\n",
              "<tr>\n",
              "  <th>Prob(Omnibus):</th> <td> 0.000</td> <th>  Jarque-Bera (JB):  </th> <td> 181.191</td>\n",
              "</tr>\n",
              "<tr>\n",
              "  <th>Skew:</th>          <td>-1.159</td> <th>  Prob(JB):          </th> <td>4.52e-40</td>\n",
              "</tr>\n",
              "<tr>\n",
              "  <th>Kurtosis:</th>      <td> 5.344</td> <th>  Cond. No.          </th> <td>1.31e+04</td>\n",
              "</tr>\n",
              "</table><br/><br/>Warnings:<br/>[1] Standard Errors assume that the covariance matrix of the errors is correctly specified.<br/>[2] The condition number is large, 1.31e+04. This might indicate that there are<br/>strong multicollinearity or other numerical problems."
            ],
            "text/plain": [
              "<class 'statsmodels.iolib.summary.Summary'>\n",
              "\"\"\"\n",
              "                            OLS Regression Results                            \n",
              "==============================================================================\n",
              "Dep. Variable:        Chance_of_Admit   R-squared:                       0.803\n",
              "Model:                            OLS   Adj. R-squared:                  0.800\n",
              "Method:                 Least Squares   F-statistic:                     228.9\n",
              "Date:                Fri, 25 Sep 2020   Prob (F-statistic):          3.12e-134\n",
              "Time:                        15:48:51   Log-Likelihood:                 537.37\n",
              "No. Observations:                 400   AIC:                            -1059.\n",
              "Df Residuals:                     392   BIC:                            -1027.\n",
              "Df Model:                           7                                         \n",
              "Covariance Type:            nonrobust                                         \n",
              "=====================================================================================\n",
              "                        coef    std err          t      P>|t|      [0.025      0.975]\n",
              "-------------------------------------------------------------------------------------\n",
              "const                -1.2594      0.125    -10.097      0.000      -1.505      -1.014\n",
              "GRE_Score             0.0017      0.001      2.906      0.004       0.001       0.003\n",
              "TOEFL_Score           0.0029      0.001      2.680      0.008       0.001       0.005\n",
              "University_Rating     0.0057      0.005      1.198      0.232      -0.004       0.015\n",
              "SOP                  -0.0033      0.006     -0.594      0.553      -0.014       0.008\n",
              "LOR                   0.0224      0.006      4.034      0.000       0.011       0.033\n",
              "CGPA                  0.1189      0.012      9.734      0.000       0.095       0.143\n",
              "Research              0.0245      0.008      3.081      0.002       0.009       0.040\n",
              "==============================================================================\n",
              "Omnibus:                       87.895   Durbin-Watson:                   0.759\n",
              "Prob(Omnibus):                  0.000   Jarque-Bera (JB):              181.191\n",
              "Skew:                          -1.159   Prob(JB):                     4.52e-40\n",
              "Kurtosis:                       5.344   Cond. No.                     1.31e+04\n",
              "==============================================================================\n",
              "\n",
              "Warnings:\n",
              "[1] Standard Errors assume that the covariance matrix of the errors is correctly specified.\n",
              "[2] The condition number is large, 1.31e+04. This might indicate that there are\n",
              "strong multicollinearity or other numerical problems.\n",
              "\"\"\""
            ]
          },
          "metadata": {
            "tags": []
          },
          "execution_count": 39
        }
      ]
    },
    {
      "cell_type": "code",
      "metadata": {
        "id": "S1L6o1zM8nYS",
        "colab_type": "code",
        "colab": {
          "base_uri": "https://localhost:8080/",
          "height": 583
        },
        "outputId": "cbe5d21a-2e02-4775-d89c-ea8d76154f6f"
      },
      "source": [
        "x_opt = X.iloc[:,[0,1,2,3,5,6,7]]\n",
        "stats_model = sm.OLS(endog = y,exog = x_opt)\n",
        "stats_model.fit().summary()"
      ],
      "execution_count": 42,
      "outputs": [
        {
          "output_type": "execute_result",
          "data": {
            "text/html": [
              "<table class=\"simpletable\">\n",
              "<caption>OLS Regression Results</caption>\n",
              "<tr>\n",
              "  <th>Dep. Variable:</th>     <td>Chance_of_Admit</td> <th>  R-squared:         </th> <td>   0.803</td> \n",
              "</tr>\n",
              "<tr>\n",
              "  <th>Model:</th>                   <td>OLS</td>       <th>  Adj. R-squared:    </th> <td>   0.800</td> \n",
              "</tr>\n",
              "<tr>\n",
              "  <th>Method:</th>             <td>Least Squares</td>  <th>  F-statistic:       </th> <td>   267.5</td> \n",
              "</tr>\n",
              "<tr>\n",
              "  <th>Date:</th>             <td>Fri, 25 Sep 2020</td> <th>  Prob (F-statistic):</th> <td>2.18e-135</td>\n",
              "</tr>\n",
              "<tr>\n",
              "  <th>Time:</th>                 <td>15:52:40</td>     <th>  Log-Likelihood:    </th> <td>  537.19</td> \n",
              "</tr>\n",
              "<tr>\n",
              "  <th>No. Observations:</th>      <td>   400</td>      <th>  AIC:               </th> <td>  -1060.</td> \n",
              "</tr>\n",
              "<tr>\n",
              "  <th>Df Residuals:</th>          <td>   393</td>      <th>  BIC:               </th> <td>  -1032.</td> \n",
              "</tr>\n",
              "<tr>\n",
              "  <th>Df Model:</th>              <td>     6</td>      <th>                     </th>     <td> </td>    \n",
              "</tr>\n",
              "<tr>\n",
              "  <th>Covariance Type:</th>      <td>nonrobust</td>    <th>                     </th>     <td> </td>    \n",
              "</tr>\n",
              "</table>\n",
              "<table class=\"simpletable\">\n",
              "<tr>\n",
              "          <td></td>             <th>coef</th>     <th>std err</th>      <th>t</th>      <th>P>|t|</th>  <th>[0.025</th>    <th>0.975]</th>  \n",
              "</tr>\n",
              "<tr>\n",
              "  <th>const</th>             <td>   -1.2543</td> <td>    0.124</td> <td>  -10.089</td> <td> 0.000</td> <td>   -1.499</td> <td>   -1.010</td>\n",
              "</tr>\n",
              "<tr>\n",
              "  <th>GRE_Score</th>         <td>    0.0018</td> <td>    0.001</td> <td>    2.962</td> <td> 0.003</td> <td>    0.001</td> <td>    0.003</td>\n",
              "</tr>\n",
              "<tr>\n",
              "  <th>TOEFL_Score</th>       <td>    0.0028</td> <td>    0.001</td> <td>    2.628</td> <td> 0.009</td> <td>    0.001</td> <td>    0.005</td>\n",
              "</tr>\n",
              "<tr>\n",
              "  <th>University_Rating</th> <td>    0.0049</td> <td>    0.005</td> <td>    1.069</td> <td> 0.286</td> <td>   -0.004</td> <td>    0.014</td>\n",
              "</tr>\n",
              "<tr>\n",
              "  <th>LOR</th>               <td>    0.0210</td> <td>    0.005</td> <td>    4.147</td> <td> 0.000</td> <td>    0.011</td> <td>    0.031</td>\n",
              "</tr>\n",
              "<tr>\n",
              "  <th>CGPA</th>              <td>    0.1179</td> <td>    0.012</td> <td>    9.756</td> <td> 0.000</td> <td>    0.094</td> <td>    0.142</td>\n",
              "</tr>\n",
              "<tr>\n",
              "  <th>Research</th>          <td>    0.0242</td> <td>    0.008</td> <td>    3.046</td> <td> 0.002</td> <td>    0.009</td> <td>    0.040</td>\n",
              "</tr>\n",
              "</table>\n",
              "<table class=\"simpletable\">\n",
              "<tr>\n",
              "  <th>Omnibus:</th>       <td>89.012</td> <th>  Durbin-Watson:     </th> <td>   0.748</td>\n",
              "</tr>\n",
              "<tr>\n",
              "  <th>Prob(Omnibus):</th> <td> 0.000</td> <th>  Jarque-Bera (JB):  </th> <td> 184.552</td>\n",
              "</tr>\n",
              "<tr>\n",
              "  <th>Skew:</th>          <td>-1.171</td> <th>  Prob(JB):          </th> <td>8.41e-41</td>\n",
              "</tr>\n",
              "<tr>\n",
              "  <th>Kurtosis:</th>      <td> 5.364</td> <th>  Cond. No.          </th> <td>1.31e+04</td>\n",
              "</tr>\n",
              "</table><br/><br/>Warnings:<br/>[1] Standard Errors assume that the covariance matrix of the errors is correctly specified.<br/>[2] The condition number is large, 1.31e+04. This might indicate that there are<br/>strong multicollinearity or other numerical problems."
            ],
            "text/plain": [
              "<class 'statsmodels.iolib.summary.Summary'>\n",
              "\"\"\"\n",
              "                            OLS Regression Results                            \n",
              "==============================================================================\n",
              "Dep. Variable:        Chance_of_Admit   R-squared:                       0.803\n",
              "Model:                            OLS   Adj. R-squared:                  0.800\n",
              "Method:                 Least Squares   F-statistic:                     267.5\n",
              "Date:                Fri, 25 Sep 2020   Prob (F-statistic):          2.18e-135\n",
              "Time:                        15:52:40   Log-Likelihood:                 537.19\n",
              "No. Observations:                 400   AIC:                            -1060.\n",
              "Df Residuals:                     393   BIC:                            -1032.\n",
              "Df Model:                           6                                         \n",
              "Covariance Type:            nonrobust                                         \n",
              "=====================================================================================\n",
              "                        coef    std err          t      P>|t|      [0.025      0.975]\n",
              "-------------------------------------------------------------------------------------\n",
              "const                -1.2543      0.124    -10.089      0.000      -1.499      -1.010\n",
              "GRE_Score             0.0018      0.001      2.962      0.003       0.001       0.003\n",
              "TOEFL_Score           0.0028      0.001      2.628      0.009       0.001       0.005\n",
              "University_Rating     0.0049      0.005      1.069      0.286      -0.004       0.014\n",
              "LOR                   0.0210      0.005      4.147      0.000       0.011       0.031\n",
              "CGPA                  0.1179      0.012      9.756      0.000       0.094       0.142\n",
              "Research              0.0242      0.008      3.046      0.002       0.009       0.040\n",
              "==============================================================================\n",
              "Omnibus:                       89.012   Durbin-Watson:                   0.748\n",
              "Prob(Omnibus):                  0.000   Jarque-Bera (JB):              184.552\n",
              "Skew:                          -1.171   Prob(JB):                     8.41e-41\n",
              "Kurtosis:                       5.364   Cond. No.                     1.31e+04\n",
              "==============================================================================\n",
              "\n",
              "Warnings:\n",
              "[1] Standard Errors assume that the covariance matrix of the errors is correctly specified.\n",
              "[2] The condition number is large, 1.31e+04. This might indicate that there are\n",
              "strong multicollinearity or other numerical problems.\n",
              "\"\"\""
            ]
          },
          "metadata": {
            "tags": []
          },
          "execution_count": 42
        }
      ]
    },
    {
      "cell_type": "code",
      "metadata": {
        "id": "rjU0TXxh92nh",
        "colab_type": "code",
        "colab": {
          "base_uri": "https://localhost:8080/",
          "height": 562
        },
        "outputId": "7393eadf-c1fb-46a9-f65f-7e461a799bb0"
      },
      "source": [
        "x_opt = X.iloc[:,[0,1,2,5,6,7]]\n",
        "stats_model = sm.OLS(endog = y,exog = x_opt)\n",
        "stats_model.fit().summary()"
      ],
      "execution_count": 44,
      "outputs": [
        {
          "output_type": "execute_result",
          "data": {
            "text/html": [
              "<table class=\"simpletable\">\n",
              "<caption>OLS Regression Results</caption>\n",
              "<tr>\n",
              "  <th>Dep. Variable:</th>     <td>Chance_of_Admit</td> <th>  R-squared:         </th> <td>   0.803</td> \n",
              "</tr>\n",
              "<tr>\n",
              "  <th>Model:</th>                   <td>OLS</td>       <th>  Adj. R-squared:    </th> <td>   0.800</td> \n",
              "</tr>\n",
              "<tr>\n",
              "  <th>Method:</th>             <td>Least Squares</td>  <th>  F-statistic:       </th> <td>   320.6</td> \n",
              "</tr>\n",
              "<tr>\n",
              "  <th>Date:</th>             <td>Fri, 25 Sep 2020</td> <th>  Prob (F-statistic):</th> <td>2.04e-136</td>\n",
              "</tr>\n",
              "<tr>\n",
              "  <th>Time:</th>                 <td>15:56:06</td>     <th>  Log-Likelihood:    </th> <td>  536.61</td> \n",
              "</tr>\n",
              "<tr>\n",
              "  <th>No. Observations:</th>      <td>   400</td>      <th>  AIC:               </th> <td>  -1061.</td> \n",
              "</tr>\n",
              "<tr>\n",
              "  <th>Df Residuals:</th>          <td>   394</td>      <th>  BIC:               </th> <td>  -1037.</td> \n",
              "</tr>\n",
              "<tr>\n",
              "  <th>Df Model:</th>              <td>     5</td>      <th>                     </th>     <td> </td>    \n",
              "</tr>\n",
              "<tr>\n",
              "  <th>Covariance Type:</th>      <td>nonrobust</td>    <th>                     </th>     <td> </td>    \n",
              "</tr>\n",
              "</table>\n",
              "<table class=\"simpletable\">\n",
              "<tr>\n",
              "       <td></td>          <th>coef</th>     <th>std err</th>      <th>t</th>      <th>P>|t|</th>  <th>[0.025</th>    <th>0.975]</th>  \n",
              "</tr>\n",
              "<tr>\n",
              "  <th>const</th>       <td>   -1.2985</td> <td>    0.117</td> <td>  -11.070</td> <td> 0.000</td> <td>   -1.529</td> <td>   -1.068</td>\n",
              "</tr>\n",
              "<tr>\n",
              "  <th>GRE_Score</th>   <td>    0.0018</td> <td>    0.001</td> <td>    2.992</td> <td> 0.003</td> <td>    0.001</td> <td>    0.003</td>\n",
              "</tr>\n",
              "<tr>\n",
              "  <th>TOEFL_Score</th> <td>    0.0030</td> <td>    0.001</td> <td>    2.847</td> <td> 0.005</td> <td>    0.001</td> <td>    0.005</td>\n",
              "</tr>\n",
              "<tr>\n",
              "  <th>LOR</th>         <td>    0.0228</td> <td>    0.005</td> <td>    4.741</td> <td> 0.000</td> <td>    0.013</td> <td>    0.032</td>\n",
              "</tr>\n",
              "<tr>\n",
              "  <th>CGPA</th>        <td>    0.1210</td> <td>    0.012</td> <td>   10.312</td> <td> 0.000</td> <td>    0.098</td> <td>    0.144</td>\n",
              "</tr>\n",
              "<tr>\n",
              "  <th>Research</th>    <td>    0.0246</td> <td>    0.008</td> <td>    3.103</td> <td> 0.002</td> <td>    0.009</td> <td>    0.040</td>\n",
              "</tr>\n",
              "</table>\n",
              "<table class=\"simpletable\">\n",
              "<tr>\n",
              "  <th>Omnibus:</th>       <td>87.489</td> <th>  Durbin-Watson:     </th> <td>   0.750</td>\n",
              "</tr>\n",
              "<tr>\n",
              "  <th>Prob(Omnibus):</th> <td> 0.000</td> <th>  Jarque-Bera (JB):  </th> <td> 179.337</td>\n",
              "</tr>\n",
              "<tr>\n",
              "  <th>Skew:</th>          <td>-1.157</td> <th>  Prob(JB):          </th> <td>1.14e-39</td>\n",
              "</tr>\n",
              "<tr>\n",
              "  <th>Kurtosis:</th>      <td> 5.325</td> <th>  Cond. No.          </th> <td>1.23e+04</td>\n",
              "</tr>\n",
              "</table><br/><br/>Warnings:<br/>[1] Standard Errors assume that the covariance matrix of the errors is correctly specified.<br/>[2] The condition number is large, 1.23e+04. This might indicate that there are<br/>strong multicollinearity or other numerical problems."
            ],
            "text/plain": [
              "<class 'statsmodels.iolib.summary.Summary'>\n",
              "\"\"\"\n",
              "                            OLS Regression Results                            \n",
              "==============================================================================\n",
              "Dep. Variable:        Chance_of_Admit   R-squared:                       0.803\n",
              "Model:                            OLS   Adj. R-squared:                  0.800\n",
              "Method:                 Least Squares   F-statistic:                     320.6\n",
              "Date:                Fri, 25 Sep 2020   Prob (F-statistic):          2.04e-136\n",
              "Time:                        15:56:06   Log-Likelihood:                 536.61\n",
              "No. Observations:                 400   AIC:                            -1061.\n",
              "Df Residuals:                     394   BIC:                            -1037.\n",
              "Df Model:                           5                                         \n",
              "Covariance Type:            nonrobust                                         \n",
              "===============================================================================\n",
              "                  coef    std err          t      P>|t|      [0.025      0.975]\n",
              "-------------------------------------------------------------------------------\n",
              "const          -1.2985      0.117    -11.070      0.000      -1.529      -1.068\n",
              "GRE_Score       0.0018      0.001      2.992      0.003       0.001       0.003\n",
              "TOEFL_Score     0.0030      0.001      2.847      0.005       0.001       0.005\n",
              "LOR             0.0228      0.005      4.741      0.000       0.013       0.032\n",
              "CGPA            0.1210      0.012     10.312      0.000       0.098       0.144\n",
              "Research        0.0246      0.008      3.103      0.002       0.009       0.040\n",
              "==============================================================================\n",
              "Omnibus:                       87.489   Durbin-Watson:                   0.750\n",
              "Prob(Omnibus):                  0.000   Jarque-Bera (JB):              179.337\n",
              "Skew:                          -1.157   Prob(JB):                     1.14e-39\n",
              "Kurtosis:                       5.325   Cond. No.                     1.23e+04\n",
              "==============================================================================\n",
              "\n",
              "Warnings:\n",
              "[1] Standard Errors assume that the covariance matrix of the errors is correctly specified.\n",
              "[2] The condition number is large, 1.23e+04. This might indicate that there are\n",
              "strong multicollinearity or other numerical problems.\n",
              "\"\"\""
            ]
          },
          "metadata": {
            "tags": []
          },
          "execution_count": 44
        }
      ]
    },
    {
      "cell_type": "code",
      "metadata": {
        "id": "Hj8kTGYI-5q6",
        "colab_type": "code",
        "colab": {}
      },
      "source": [
        ""
      ],
      "execution_count": null,
      "outputs": []
    }
  ]
}