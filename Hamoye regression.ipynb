{
  "nbformat": 4,
  "nbformat_minor": 0,
  "metadata": {
    "colab": {
      "name": "stage B.ipynb",
      "provenance": [],
      "authorship_tag": "ABX9TyNMuTTrsbCPNIBGgp5msZwH",
      "include_colab_link": true
    },
    "kernelspec": {
      "name": "python3",
      "display_name": "Python 3"
    }
  },
  "cells": [
    {
      "cell_type": "markdown",
      "metadata": {
        "id": "view-in-github",
        "colab_type": "text"
      },
      "source": [
        "<a href=\"https://colab.research.google.com/github/gogzicole/Hamoye-Data-science/blob/master/stage_B.ipynb\" target=\"_parent\"><img src=\"https://colab.research.google.com/assets/colab-badge.svg\" alt=\"Open In Colab\"/></a>"
      ]
    },
    {
      "cell_type": "code",
      "metadata": {
        "id": "zpmDsLUIi915",
        "colab_type": "code",
        "colab": {}
      },
      "source": [
        "import pandas as pd\n",
        "import numpy as np \n",
        "import matplotlib.pyplot as plt\n",
        "import seaborn as sns\n",
        "from pandas import Series, DataFrame\n"
      ],
      "execution_count": 27,
      "outputs": []
    },
    {
      "cell_type": "markdown",
      "metadata": {
        "id": "dEce3N_j-pfd",
        "colab_type": "text"
      },
      "source": [
        "**importing dataset from url using pandas library read_excel method**"
      ]
    },
    {
      "cell_type": "code",
      "metadata": {
        "id": "FdzCuHKsFojA",
        "colab_type": "code",
        "colab": {}
      },
      "source": [
        "url = 'https://archive.ics.uci.edu/ml/machine-learning-databases/00242/ENB2012_data.xlsx'\n",
        "df1  = pd.read_excel(url)"
      ],
      "execution_count": 8,
      "outputs": []
    },
    {
      "cell_type": "markdown",
      "metadata": {
        "id": "To-BKLZLDpyQ",
        "colab_type": "text"
      },
      "source": [
        "**assigning name S/n to rows index and title to dataset**"
      ]
    },
    {
      "cell_type": "code",
      "metadata": {
        "id": "kdAjOafI-UVy",
        "colab_type": "code",
        "colab": {}
      },
      "source": [
        "df1.index.name = \"S/n\"\n",
        "df1.name = \"Energy Efficiency Data Set\"\n",
        "df1"
      ],
      "execution_count": null,
      "outputs": []
    },
    {
      "cell_type": "markdown",
      "metadata": {
        "id": "w6RqAPkWDouy",
        "colab_type": "text"
      },
      "source": [
        "**creating a dictionary of old and new column names**"
      ]
    },
    {
      "cell_type": "code",
      "metadata": {
        "id": "6tv1GKlx-bk_",
        "colab_type": "code",
        "colab": {}
      },
      "source": [
        "new_column_names = {'X1':'Relative_Compactness', 'X2': 'Surface_Area', \n",
        "                'X3':  'Wall_Area', 'X4': 'Roof_Area', 'X5': 'Overall_Height',\n",
        "                'X6': 'Orientation', 'X7': 'Glazing_Area', \n",
        "                'X8': 'Glazing_Area_Distribution', \n",
        "                'Y1': 'Heating_Load', 'Y2': 'Cooling_Load'}\n"
      ],
      "execution_count": 13,
      "outputs": []
    },
    {
      "cell_type": "markdown",
      "metadata": {
        "id": "ThoGYYMY_Twc",
        "colab_type": "text"
      },
      "source": [
        "**renaming the columns of the imported datframe**"
      ]
    },
    {
      "cell_type": "code",
      "metadata": {
        "id": "YnIFNX2d-kkS",
        "colab_type": "code",
        "colab": {}
      },
      "source": [
        "df1 = df1.rename(columns = new_column_names)\n",
        "df1"
      ],
      "execution_count": null,
      "outputs": []
    },
    {
      "cell_type": "markdown",
      "metadata": {
        "id": "PdSB-klYEcEq",
        "colab_type": "text"
      },
      "source": [
        "**selecting a slice of the dataframe for analysis**"
      ]
    },
    {
      "cell_type": "code",
      "metadata": {
        "id": "s0RyJMttBHH8",
        "colab_type": "code",
        "colab": {}
      },
      "source": [
        "df2 = df1.iloc[:,[0,9]].sample(15,random_state = 2)\n",
        "df2"
      ],
      "execution_count": null,
      "outputs": []
    },
    {
      "cell_type": "markdown",
      "metadata": {
        "id": "_MzHVBY9Euo3",
        "colab_type": "text"
      },
      "source": [
        "**Regression plot**"
      ]
    },
    {
      "cell_type": "code",
      "metadata": {
        "id": "Mr3BCD6qCMtn",
        "colab_type": "code",
        "colab": {}
      },
      "source": [
        "sns.regplot(x= \"Relative_Compactness\",y=\"Cooling_Load\", data = df2)"
      ],
      "execution_count": null,
      "outputs": []
    },
    {
      "cell_type": "markdown",
      "metadata": {
        "id": "ENazeDybVLwY",
        "colab_type": "text"
      },
      "source": [
        "**Data pre processing feature scalling**"
      ]
    },
    {
      "cell_type": "code",
      "metadata": {
        "id": "WRsFEztmVV5Y",
        "colab_type": "code",
        "colab": {}
      },
      "source": [
        "from sklearn.preprocessing import MinMaxScaler\n",
        "scaler = MinMaxScaler()\n",
        "normalised_df1 = pd.DataFrame(scaler.fit_transform(df1),columns = df1.columns )\n",
        "features_df1 = normalised_df1.drop(columns = [\"Heating_Load\",\"Cooling_Load\"])\n",
        "Heating_Target = normalised_df1[\"Heating_Load\"]\n"
      ],
      "execution_count": 16,
      "outputs": []
    },
    {
      "cell_type": "markdown",
      "metadata": {
        "id": "xmupnXvPXTAf",
        "colab_type": "text"
      },
      "source": [
        "**Splitting Data set into test_train**"
      ]
    },
    {
      "cell_type": "code",
      "metadata": {
        "id": "brvcUBTcXct4",
        "colab_type": "code",
        "colab": {}
      },
      "source": [
        "from sklearn.model_selection import train_test_split\n",
        "x_train,x_test,y_train,y_test = train_test_split(features_df1, Heating_Target,test_size = 0.3, random_state = 1)"
      ],
      "execution_count": 17,
      "outputs": []
    },
    {
      "cell_type": "markdown",
      "metadata": {
        "id": "ppxiQHNMYtYw",
        "colab_type": "text"
      },
      "source": [
        "**Linear Regression**"
      ]
    },
    {
      "cell_type": "code",
      "metadata": {
        "id": "NnlVmgTdY1bC",
        "colab_type": "code",
        "colab": {}
      },
      "source": [
        "from sklearn.linear_model import LinearRegression\n",
        "linear_model = LinearRegression()\n",
        "linear_model.fit(x_train, y_train)\n",
        "y_pred = linear_model.predict(x_test)\n",
        "y_pred.reshape(-1,1)"
      ],
      "execution_count": null,
      "outputs": []
    },
    {
      "cell_type": "markdown",
      "metadata": {
        "id": "pZd2a-rQUoL6",
        "colab_type": "text"
      },
      "source": [
        "**mean absolute error**"
      ]
    },
    {
      "cell_type": "code",
      "metadata": {
        "id": "SFhRRRPVUutg",
        "colab_type": "code",
        "colab": {
          "base_uri": "https://localhost:8080/",
          "height": 34
        },
        "outputId": "9ce7f5c4-0c4c-4dd8-cee0-575f914924fa"
      },
      "source": [
        "from sklearn.metrics import mean_absolute_error\n",
        "mea = mean_absolute_error(y_test, y_pred)\n",
        "round(mea,3)"
      ],
      "execution_count": null,
      "outputs": [
        {
          "output_type": "execute_result",
          "data": {
            "text/plain": [
              "0.063"
            ]
          },
          "metadata": {
            "tags": []
          },
          "execution_count": 46
        }
      ]
    },
    {
      "cell_type": "markdown",
      "metadata": {
        "id": "psEbGx0sbZNq",
        "colab_type": "text"
      },
      "source": [
        "**R squared**"
      ]
    },
    {
      "cell_type": "code",
      "metadata": {
        "id": "wDLh4y-jVDCC",
        "colab_type": "code",
        "colab": {
          "base_uri": "https://localhost:8080/",
          "height": 34
        },
        "outputId": "ea3f711e-c218-4647-9d2b-a4c7bf9efed6"
      },
      "source": [
        "from sklearn.metrics import r2_score\n",
        "r2_score = r2_score(y_test, y_pred)\n",
        "round(r2_score, 3)"
      ],
      "execution_count": null,
      "outputs": [
        {
          "output_type": "execute_result",
          "data": {
            "text/plain": [
              "0.893"
            ]
          },
          "metadata": {
            "tags": []
          },
          "execution_count": 49
        }
      ]
    },
    {
      "cell_type": "markdown",
      "metadata": {
        "id": "9NdpfcTEb6Ww",
        "colab_type": "text"
      },
      "source": [
        "**Residual sum of squares**"
      ]
    },
    {
      "cell_type": "code",
      "metadata": {
        "id": "kQqa7tznblz0",
        "colab_type": "code",
        "colab": {
          "base_uri": "https://localhost:8080/",
          "height": 34
        },
        "outputId": "820b71db-f36c-4f05-e680-bc89d08b6348"
      },
      "source": [
        "import numpy as np\n",
        "rss = np.sum(np.square(y_test-y_pred))\n",
        "round(rss, 3)"
      ],
      "execution_count": null,
      "outputs": [
        {
          "output_type": "execute_result",
          "data": {
            "text/plain": [
              "1.823"
            ]
          },
          "metadata": {
            "tags": []
          },
          "execution_count": 47
        }
      ]
    },
    {
      "cell_type": "markdown",
      "metadata": {
        "id": "Oqk1TDCPcZrn",
        "colab_type": "text"
      },
      "source": [
        "**Root mean square Error**"
      ]
    },
    {
      "cell_type": "code",
      "metadata": {
        "id": "64jaulrwcTw5",
        "colab_type": "code",
        "colab": {}
      },
      "source": [
        "from sklearn.metrics import mean_squared_error\n",
        "rmse = np.sqrt(mean_squared_error(y_test,y_pred))\n",
        "round(rmse,3)"
      ],
      "execution_count": null,
      "outputs": []
    },
    {
      "cell_type": "markdown",
      "metadata": {
        "id": "V8-Le6yYK7fe",
        "colab_type": "text"
      },
      "source": [
        "**Correlation for Heating Load and Data**"
      ]
    },
    {
      "cell_type": "code",
      "metadata": {
        "id": "po71ZLvB5lBt",
        "colab_type": "code",
        "colab": {}
      },
      "source": [
        "A = df1.iloc[:,8]\n",
        "a,b,c,d,e,f,g,h = [df1.iloc[:,0],df1.iloc[:,1],df1.iloc[:,2],df1.iloc[:,3],df1.iloc[:,4],df1.iloc[:,5],df1.iloc[:,6],df1.iloc[:,7]]"
      ],
      "execution_count": null,
      "outputs": []
    },
    {
      "cell_type": "code",
      "metadata": {
        "id": "4nt6OKVkGSz0",
        "colab_type": "code",
        "colab": {}
      },
      "source": [
        "def correl(a,b,c,d,e,f,g,h):       #defines a function that return the correlation of variable A to ech column \n",
        "  answer = []                         #and append the result to list\n",
        "  for i in a,b,c,d,e,f,g,h:\n",
        "    answer.append(A.corr(i))\n",
        "  return answer\n",
        "correl(a,b,c,d,e,f,g,h)\n",
        "D = correl(a,b,c,d,e,f,g,h)\n",
        "ans = Series(D)"
      ],
      "execution_count": null,
      "outputs": []
    },
    {
      "cell_type": "code",
      "metadata": {
        "id": "bIv0UaECHAQk",
        "colab_type": "code",
        "colab": {
          "base_uri": "https://localhost:8080/",
          "height": 100
        },
        "outputId": "a1cace13-901b-487e-de1f-fcf13d09aa40"
      },
      "source": [
        "ans1 = ans.to_dict()\n",
        "ans2 = DataFrame(ans1, index = [1])\n",
        "ans2.columns =['Relative_Compactness','surface_Area','Wall_Area','Roof_Area','Overall_Height','Orientation','Glazing_Area','Glazing_Area_Distribution']\n",
        "ans2"
      ],
      "execution_count": null,
      "outputs": [
        {
          "output_type": "execute_result",
          "data": {
            "text/html": [
              "<div>\n",
              "<style scoped>\n",
              "    .dataframe tbody tr th:only-of-type {\n",
              "        vertical-align: middle;\n",
              "    }\n",
              "\n",
              "    .dataframe tbody tr th {\n",
              "        vertical-align: top;\n",
              "    }\n",
              "\n",
              "    .dataframe thead th {\n",
              "        text-align: right;\n",
              "    }\n",
              "</style>\n",
              "<table border=\"1\" class=\"dataframe\">\n",
              "  <thead>\n",
              "    <tr style=\"text-align: right;\">\n",
              "      <th></th>\n",
              "      <th>Relative_Compactness</th>\n",
              "      <th>surface_Area</th>\n",
              "      <th>Wall_Area</th>\n",
              "      <th>Roof_Area</th>\n",
              "      <th>Overall_Height</th>\n",
              "      <th>Orientation</th>\n",
              "      <th>Glazing_Area</th>\n",
              "      <th>Glazing_Area_Distribution</th>\n",
              "    </tr>\n",
              "  </thead>\n",
              "  <tbody>\n",
              "    <tr>\n",
              "      <th>1</th>\n",
              "      <td>0.622272</td>\n",
              "      <td>-0.65812</td>\n",
              "      <td>0.455671</td>\n",
              "      <td>-0.861828</td>\n",
              "      <td>0.88943</td>\n",
              "      <td>-0.002587</td>\n",
              "      <td>0.269842</td>\n",
              "      <td>0.087368</td>\n",
              "    </tr>\n",
              "  </tbody>\n",
              "</table>\n",
              "</div>"
            ],
            "text/plain": [
              "   Relative_Compactness  surface_Area  ...  Glazing_Area  Glazing_Area_Distribution\n",
              "1              0.622272      -0.65812  ...      0.269842                   0.087368\n",
              "\n",
              "[1 rows x 8 columns]"
            ]
          },
          "metadata": {
            "tags": []
          },
          "execution_count": 101
        }
      ]
    },
    {
      "cell_type": "markdown",
      "metadata": {
        "id": "K5xYleYILUFw",
        "colab_type": "text"
      },
      "source": [
        "**Correlation for cooling load and data**"
      ]
    },
    {
      "cell_type": "code",
      "metadata": {
        "id": "regTFLYnHbS2",
        "colab_type": "code",
        "colab": {}
      },
      "source": [
        "B = df1.iloc[:,9]\n",
        "def correl(a,b,c,d,e,f,g,h):       #defines a function that return the correlation of variable A to ech column \n",
        "  answer = []                         #and append the result to list\n",
        "  for i in a,b,c,d,e,f,g,h:\n",
        "    answer.append(B.corr(i))\n",
        "  return answer\n",
        "correl(a,b,c,d,e,f,g,h)\n",
        "C = correl(a,b,c,d,e,f,g,h)\n",
        "ans = Series(C)"
      ],
      "execution_count": null,
      "outputs": []
    },
    {
      "cell_type": "code",
      "metadata": {
        "id": "jeo0H_AqIYfu",
        "colab_type": "code",
        "colab": {
          "base_uri": "https://localhost:8080/",
          "height": 100
        },
        "outputId": "7a76637c-38f0-43cd-b937-d7817ebfb06b"
      },
      "source": [
        "ans3 = ans.to_dict()\n",
        "ans4 = DataFrame(ans1, index = [1])\n",
        "ans4.columns =['Relative_Compactness','surface_Area','Wall_Area','Roof_Area','Overall_Height','Orientation','Glazing_Area','Glazing_Area_Distribution']\n",
        "ans4"
      ],
      "execution_count": null,
      "outputs": [
        {
          "output_type": "execute_result",
          "data": {
            "text/html": [
              "<div>\n",
              "<style scoped>\n",
              "    .dataframe tbody tr th:only-of-type {\n",
              "        vertical-align: middle;\n",
              "    }\n",
              "\n",
              "    .dataframe tbody tr th {\n",
              "        vertical-align: top;\n",
              "    }\n",
              "\n",
              "    .dataframe thead th {\n",
              "        text-align: right;\n",
              "    }\n",
              "</style>\n",
              "<table border=\"1\" class=\"dataframe\">\n",
              "  <thead>\n",
              "    <tr style=\"text-align: right;\">\n",
              "      <th></th>\n",
              "      <th>Relative_Compactness</th>\n",
              "      <th>surface_Area</th>\n",
              "      <th>Wall_Area</th>\n",
              "      <th>Roof_Area</th>\n",
              "      <th>Overall_Height</th>\n",
              "      <th>Orientation</th>\n",
              "      <th>Glazing_Area</th>\n",
              "      <th>Glazing_Area_Distribution</th>\n",
              "    </tr>\n",
              "  </thead>\n",
              "  <tbody>\n",
              "    <tr>\n",
              "      <th>1</th>\n",
              "      <td>0.622272</td>\n",
              "      <td>-0.65812</td>\n",
              "      <td>0.455671</td>\n",
              "      <td>-0.861828</td>\n",
              "      <td>0.88943</td>\n",
              "      <td>-0.002587</td>\n",
              "      <td>0.269842</td>\n",
              "      <td>0.087368</td>\n",
              "    </tr>\n",
              "  </tbody>\n",
              "</table>\n",
              "</div>"
            ],
            "text/plain": [
              "   Relative_Compactness  surface_Area  ...  Glazing_Area  Glazing_Area_Distribution\n",
              "1              0.622272      -0.65812  ...      0.269842                   0.087368\n",
              "\n",
              "[1 rows x 8 columns]"
            ]
          },
          "metadata": {
            "tags": []
          },
          "execution_count": 103
        }
      ]
    },
    {
      "cell_type": "markdown",
      "metadata": {
        "id": "e6y2WqOOCfWc",
        "colab_type": "text"
      },
      "source": [
        "**comparing the effects of regularisation**"
      ]
    },
    {
      "cell_type": "code",
      "metadata": {
        "id": "PXhyw4TZOp-c",
        "colab_type": "code",
        "colab": {}
      },
      "source": [
        "def get_weights(model,feat,col_name):\n",
        "    weights = Series(model.coef_,feat.columns).sort_values()\n",
        "    weights = DataFrame(weights).reset_index()\n",
        "    weights.columns = ['Features',col_name]\n",
        "    weights[col_name].round(3)\n",
        "    return weights\n"
      ],
      "execution_count": 51,
      "outputs": []
    },
    {
      "cell_type": "markdown",
      "metadata": {
        "id": "XWEs2-_0EeZE",
        "colab_type": "text"
      },
      "source": [
        "**Lasso Regression**"
      ]
    },
    {
      "cell_type": "code",
      "metadata": {
        "id": "nyiqNbSgEjyf",
        "colab_type": "code",
        "colab": {}
      },
      "source": [
        "from sklearn.linear_model import Lasso\n",
        "lasso_reg = Lasso(alpha = 0.001)\n",
        "lasso_reg.fit(x_train,y_train) "
      ],
      "execution_count": null,
      "outputs": []
    },
    {
      "cell_type": "markdown",
      "metadata": {
        "id": "ohhzUWEfGRuZ",
        "colab_type": "text"
      },
      "source": [
        "**Ridge Regression**"
      ]
    },
    {
      "cell_type": "code",
      "metadata": {
        "id": "txEWcs3wGW2_",
        "colab_type": "code",
        "colab": {}
      },
      "source": [
        "from sklearn.linear_model import Ridge\n",
        "ridge_reg = Ridge(alpha = 0.5)\n",
        "ridge_reg.fit(x_train,y_train)"
      ],
      "execution_count": null,
      "outputs": []
    },
    {
      "cell_type": "markdown",
      "metadata": {
        "id": "0D2AyUhgRfd1",
        "colab_type": "text"
      },
      "source": [
        "**Linear Regression**"
      ]
    },
    {
      "cell_type": "code",
      "metadata": {
        "id": "X6EkK0DuRkVI",
        "colab_type": "code",
        "colab": {}
      },
      "source": [
        "from sklearn.linear_model import LinearRegression\n",
        "linear_reg = LinearRegression()\n",
        "linear_reg.fit(x_train,y_train)"
      ],
      "execution_count": null,
      "outputs": []
    },
    {
      "cell_type": "markdown",
      "metadata": {
        "id": "2EK_N7aHG8Od",
        "colab_type": "text"
      },
      "source": [
        "**Computing the weights\n",
        "Linear Model**"
      ]
    },
    {
      "cell_type": "code",
      "metadata": {
        "id": "vLuBE-D8DiUU",
        "colab_type": "code",
        "colab": {}
      },
      "source": [
        "linear_model_weights = get_weights(linear_reg,x_train,'Linear_Model_Weight')\n",
        "linear_model_weights"
      ],
      "execution_count": null,
      "outputs": []
    },
    {
      "cell_type": "markdown",
      "metadata": {
        "id": "r9JfPYhWIYok",
        "colab_type": "text"
      },
      "source": [
        "**Ridge Model**"
      ]
    },
    {
      "cell_type": "code",
      "metadata": {
        "id": "5dA93MmbD2dI",
        "colab_type": "code",
        "colab": {}
      },
      "source": [
        "ridge_weights = get_weights(ridge_reg,x_train,\"Ridge_Weight\")\n",
        "ridge_weights"
      ],
      "execution_count": null,
      "outputs": []
    },
    {
      "cell_type": "markdown",
      "metadata": {
        "id": "2C4Dmr7AJA6K",
        "colab_type": "text"
      },
      "source": [
        "**Lasso Model**"
      ]
    },
    {
      "cell_type": "code",
      "metadata": {
        "id": "c94liAQYI3Da",
        "colab_type": "code",
        "colab": {}
      },
      "source": [
        "lasso_weights = get_weights(lasso_reg , x_train,\"Lasso_weight\")\n",
        "lasso_weights"
      ],
      "execution_count": null,
      "outputs": []
    },
    {
      "cell_type": "code",
      "metadata": {
        "id": "eWJUb5-YJSwI",
        "colab_type": "code",
        "colab": {
          "base_uri": "https://localhost:8080/",
          "height": 297
        },
        "outputId": "707863fe-fe74-4504-d11f-fc155fe96aa1"
      },
      "source": [
        "final_weights = pd.merge(linear_model_weights,ridge_weights,on= 'Features')\n",
        "final_weights = pd.merge(final_weights,lasso_weights, on= 'Features')\n",
        "final_weights"
      ],
      "execution_count": 62,
      "outputs": [
        {
          "output_type": "execute_result",
          "data": {
            "text/html": [
              "<div>\n",
              "<style scoped>\n",
              "    .dataframe tbody tr th:only-of-type {\n",
              "        vertical-align: middle;\n",
              "    }\n",
              "\n",
              "    .dataframe tbody tr th {\n",
              "        vertical-align: top;\n",
              "    }\n",
              "\n",
              "    .dataframe thead th {\n",
              "        text-align: right;\n",
              "    }\n",
              "</style>\n",
              "<table border=\"1\" class=\"dataframe\">\n",
              "  <thead>\n",
              "    <tr style=\"text-align: right;\">\n",
              "      <th></th>\n",
              "      <th>Features</th>\n",
              "      <th>Linear_Model_Weight</th>\n",
              "      <th>Ridge_Weight</th>\n",
              "      <th>Lasso_weight</th>\n",
              "    </tr>\n",
              "  </thead>\n",
              "  <tbody>\n",
              "    <tr>\n",
              "      <th>0</th>\n",
              "      <td>Surface_Area</td>\n",
              "      <td>-6.387091e+12</td>\n",
              "      <td>-0.062275</td>\n",
              "      <td>0.000000</td>\n",
              "    </tr>\n",
              "    <tr>\n",
              "      <th>1</th>\n",
              "      <td>Relative_Compactness</td>\n",
              "      <td>-6.064125e-01</td>\n",
              "      <td>-0.283471</td>\n",
              "      <td>-0.027719</td>\n",
              "    </tr>\n",
              "    <tr>\n",
              "      <th>2</th>\n",
              "      <td>Orientation</td>\n",
              "      <td>-2.822876e-03</td>\n",
              "      <td>0.003369</td>\n",
              "      <td>0.000000</td>\n",
              "    </tr>\n",
              "    <tr>\n",
              "      <th>3</th>\n",
              "      <td>Glazing_Area_Distribution</td>\n",
              "      <td>1.913548e-02</td>\n",
              "      <td>0.029088</td>\n",
              "      <td>0.021431</td>\n",
              "    </tr>\n",
              "    <tr>\n",
              "      <th>4</th>\n",
              "      <td>Glazing_Area</td>\n",
              "      <td>2.295933e-01</td>\n",
              "      <td>0.212449</td>\n",
              "      <td>0.206132</td>\n",
              "    </tr>\n",
              "    <tr>\n",
              "      <th>5</th>\n",
              "      <td>Overall_Height</td>\n",
              "      <td>3.852539e-01</td>\n",
              "      <td>0.442467</td>\n",
              "      <td>0.463482</td>\n",
              "    </tr>\n",
              "    <tr>\n",
              "      <th>6</th>\n",
              "      <td>Wall_Area</td>\n",
              "      <td>3.725803e+12</td>\n",
              "      <td>0.103061</td>\n",
              "      <td>0.200087</td>\n",
              "    </tr>\n",
              "    <tr>\n",
              "      <th>7</th>\n",
              "      <td>Roof_Area</td>\n",
              "      <td>4.790318e+12</td>\n",
              "      <td>-0.163192</td>\n",
              "      <td>-0.000000</td>\n",
              "    </tr>\n",
              "  </tbody>\n",
              "</table>\n",
              "</div>"
            ],
            "text/plain": [
              "                    Features  Linear_Model_Weight  Ridge_Weight  Lasso_weight\n",
              "0               Surface_Area        -6.387091e+12     -0.062275      0.000000\n",
              "1       Relative_Compactness        -6.064125e-01     -0.283471     -0.027719\n",
              "2                Orientation        -2.822876e-03      0.003369      0.000000\n",
              "3  Glazing_Area_Distribution         1.913548e-02      0.029088      0.021431\n",
              "4               Glazing_Area         2.295933e-01      0.212449      0.206132\n",
              "5             Overall_Height         3.852539e-01      0.442467      0.463482\n",
              "6                  Wall_Area         3.725803e+12      0.103061      0.200087\n",
              "7                  Roof_Area         4.790318e+12     -0.163192     -0.000000"
            ]
          },
          "metadata": {
            "tags": []
          },
          "execution_count": 62
        }
      ]
    },
    {
      "cell_type": "code",
      "metadata": {
        "id": "5azGz5fDTfmi",
        "colab_type": "code",
        "colab": {}
      },
      "source": [
        ""
      ],
      "execution_count": null,
      "outputs": []
    }
  ]
}
