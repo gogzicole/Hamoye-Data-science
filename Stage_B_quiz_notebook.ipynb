{
  "nbformat": 4,
  "nbformat_minor": 0,
  "metadata": {
    "colab": {
      "name": "Stage B quiz-notebook.ipynb",
      "provenance": [],
      "authorship_tag": "ABX9TyMXaS9Kt1Mgu+WSMWz4oPnR",
      "include_colab_link": true
    },
    "kernelspec": {
      "name": "python3",
      "display_name": "Python 3"
    }
  },
  "cells": [
    {
      "cell_type": "markdown",
      "metadata": {
        "id": "view-in-github",
        "colab_type": "text"
      },
      "source": [
        "<a href=\"https://colab.research.google.com/github/gogzicole/Hamoye-Data-science/blob/master/Stage_B_quiz_notebook.ipynb\" target=\"_parent\"><img src=\"https://colab.research.google.com/assets/colab-badge.svg\" alt=\"Open In Colab\"/></a>"
      ]
    },
    {
      "cell_type": "code",
      "metadata": {
        "id": "8PnvOlpih-h7",
        "colab_type": "code",
        "colab": {}
      },
      "source": [
        "import numpy as np\n",
        "import pandas as pd\n",
        "from pandas import DataFrame, Series\n",
        "import matplotlib.pyplot as plt"
      ],
      "execution_count": 2,
      "outputs": []
    },
    {
      "cell_type": "code",
      "metadata": {
        "id": "HKdDbTo4tifS",
        "colab_type": "code",
        "colab": {}
      },
      "source": [
        "url = \"https://raw.githubusercontent.com/gogzicole/Hamoye-Data-science/master/energydata_complete.csv\"\n",
        "df = pd.read_csv(url)"
      ],
      "execution_count": 3,
      "outputs": []
    },
    {
      "cell_type": "code",
      "metadata": {
        "id": "7clsgrnDi3OM",
        "colab_type": "code",
        "colab": {}
      },
      "source": [
        "df.head()"
      ],
      "execution_count": null,
      "outputs": []
    },
    {
      "cell_type": "markdown",
      "metadata": {
        "id": "DexNRts4kjTx",
        "colab_type": "text"
      },
      "source": [
        "**NORMALIZING DATASET**"
      ]
    },
    {
      "cell_type": "code",
      "metadata": {
        "id": "C2utpXR4i60f",
        "colab_type": "code",
        "colab": {}
      },
      "source": [
        "from sklearn.preprocessing import MinMaxScaler\n",
        "scaler = MinMaxScaler()\n",
        "dropped_df = df.drop(columns=['date','lights'])\n",
        "normalised_dropped_df = DataFrame(scaler.fit_transform(dropped_df),columns = dropped_df.columns)\n",
        "independent_variable = normalised_dropped_df.drop(columns=['Appliances'])\n",
        "target_variable = normalised_dropped_df['Appliances']"
      ],
      "execution_count": 108,
      "outputs": []
    },
    {
      "cell_type": "markdown",
      "metadata": {
        "id": "tIugSOJeAT91",
        "colab_type": "text"
      },
      "source": [
        "**FITTING LINEAR MODEL FOR T2 AND T6**"
      ]
    },
    {
      "cell_type": "code",
      "metadata": {
        "id": "-InwwN1wny9L",
        "colab_type": "code",
        "colab": {}
      },
      "source": [
        "x = normalised_dropped_df.iloc[:,3].values\n",
        "y = normalised_dropped_df.iloc[:,11].values"
      ],
      "execution_count": 91,
      "outputs": []
    },
    {
      "cell_type": "code",
      "metadata": {
        "id": "lZ5Q2htwoRcq",
        "colab_type": "code",
        "colab": {}
      },
      "source": [
        "from sklearn.model_selection import train_test_split\n",
        "x_train,x_test,y_train,y_test = train_test_split(x,y,test_size=0.3,random_state = 42)\n",
        "x_train = x_train.reshape(-1,1)\n",
        "y_train = y_train.reshape(-1,1)\n",
        "x_test = x_test.reshape(-1,1)"
      ],
      "execution_count": 138,
      "outputs": []
    },
    {
      "cell_type": "code",
      "metadata": {
        "id": "4UIAKECRoR5b",
        "colab_type": "code",
        "colab": {
          "base_uri": "https://localhost:8080/",
          "height": 34
        },
        "outputId": "097243e3-452f-40d2-d07f-13a9d4021bc8"
      },
      "source": [
        "from sklearn.linear_model import LinearRegression\n",
        "regressor = LinearRegression()\n",
        "regressor.fit(x_train,y_train)"
      ],
      "execution_count": 139,
      "outputs": [
        {
          "output_type": "execute_result",
          "data": {
            "text/plain": [
              "LinearRegression(copy_X=True, fit_intercept=True, n_jobs=None, normalize=False)"
            ]
          },
          "metadata": {
            "tags": []
          },
          "execution_count": 139
        }
      ]
    },
    {
      "cell_type": "code",
      "metadata": {
        "id": "N7PBKKL_BO4U",
        "colab_type": "code",
        "colab": {}
      },
      "source": [
        "y_pred = regressor.predict(x_test)\n",
        "y_pred"
      ],
      "execution_count": null,
      "outputs": []
    },
    {
      "cell_type": "code",
      "metadata": {
        "id": "lOskI1kyBFAj",
        "colab_type": "code",
        "colab": {
          "base_uri": "https://localhost:8080/",
          "height": 34
        },
        "outputId": "73221242-5e5f-4756-9df4-711dbb3a02ab"
      },
      "source": [
        "from sklearn.metrics import r2_score\n",
        "r2_score = r2_score(y_test,y_pred)\n",
        "round(r2_score,2)  # R-squared value for T2 and T6 is 0.64"
      ],
      "execution_count": 142,
      "outputs": [
        {
          "output_type": "execute_result",
          "data": {
            "text/plain": [
              "0.64"
            ]
          },
          "metadata": {
            "tags": []
          },
          "execution_count": 142
        }
      ]
    },
    {
      "cell_type": "markdown",
      "metadata": {
        "id": "VbGjgIVtmO9n",
        "colab_type": "text"
      },
      "source": [
        "**TRAINING DATA SET**"
      ]
    },
    {
      "cell_type": "code",
      "metadata": {
        "id": "cjBavbmfltfw",
        "colab_type": "code",
        "colab": {}
      },
      "source": [
        "from sklearn.model_selection import train_test_split\n",
        "x_train,x_test,y_train,y_test = train_test_split(independent_variable,target_variable,test_size=0.3,random_state = 42)"
      ],
      "execution_count": 109,
      "outputs": []
    },
    {
      "cell_type": "markdown",
      "metadata": {
        "id": "q56w-tE4nd5u",
        "colab_type": "text"
      },
      "source": [
        "**FITTING TRAINING SET TO SIMPLE LINEAR REGRESSION**"
      ]
    },
    {
      "cell_type": "code",
      "metadata": {
        "id": "iBu9qY5Lnb-W",
        "colab_type": "code",
        "colab": {
          "base_uri": "https://localhost:8080/",
          "height": 34
        },
        "outputId": "6250145b-c11b-41a4-dd8c-3dfb79d69c63"
      },
      "source": [
        "from sklearn.linear_model import LinearRegression\n",
        "regressor = LinearRegression()\n",
        "regressor.fit(x_train,y_train)\n"
      ],
      "execution_count": 110,
      "outputs": [
        {
          "output_type": "execute_result",
          "data": {
            "text/plain": [
              "LinearRegression(copy_X=True, fit_intercept=True, n_jobs=None, normalize=False)"
            ]
          },
          "metadata": {
            "tags": []
          },
          "execution_count": 110
        }
      ]
    },
    {
      "cell_type": "code",
      "metadata": {
        "id": "ojJPO1fpnK_a",
        "colab_type": "code",
        "colab": {}
      },
      "source": [
        "y_pred = regressor.predict(x_test)\n",
        "y_pred.reshape(-1,1)"
      ],
      "execution_count": null,
      "outputs": []
    },
    {
      "cell_type": "markdown",
      "metadata": {
        "id": "qlRq9ZBSo6nA",
        "colab_type": "text"
      },
      "source": [
        "**FITTING TRAINNG SET TO LASSO REGRESSION**"
      ]
    },
    {
      "cell_type": "code",
      "metadata": {
        "id": "CCPhnngaozLL",
        "colab_type": "code",
        "colab": {}
      },
      "source": [
        "from sklearn.linear_model import Lasso\n",
        "lasso_reg = Lasso(alpha = 0.0001)\n",
        "lasso_reg.fit(x_train,y_train)"
      ],
      "execution_count": null,
      "outputs": []
    },
    {
      "cell_type": "markdown",
      "metadata": {
        "id": "P-vUqfURbiag",
        "colab_type": "text"
      },
      "source": [
        "**computing the new rmse with lasso reg**"
      ]
    },
    {
      "cell_type": "code",
      "metadata": {
        "id": "yi92Itmtbvaa",
        "colab_type": "code",
        "colab": {}
      },
      "source": [
        "y_lasso_pred = lasso_reg.predict(x_test)\n",
        "y_lasso_pred.reshape(-1,1)"
      ],
      "execution_count": null,
      "outputs": []
    },
    {
      "cell_type": "code",
      "metadata": {
        "id": "KnP1OzbWcDRF",
        "colab_type": "code",
        "colab": {}
      },
      "source": [
        "from sklearn.metrics import mean_squared_error\n",
        "rmse = np.sqrt(mean_squared_error(y_test,y_lasso_pred))\n",
        "round(rmse,3)  #the value changes to 0.094"
      ],
      "execution_count": null,
      "outputs": []
    },
    {
      "cell_type": "markdown",
      "metadata": {
        "id": "fpv4dPRBplNx",
        "colab_type": "text"
      },
      "source": [
        "**FITTING TRAINING SET TO RIDGE REGRESSION**"
      ]
    },
    {
      "cell_type": "code",
      "metadata": {
        "id": "uPTLx5JBpE4W",
        "colab_type": "code",
        "colab": {
          "base_uri": "https://localhost:8080/",
          "height": 51
        },
        "outputId": "ed0eaa36-60a7-441e-a403-727a31353333"
      },
      "source": [
        "from sklearn.linear_model import Ridge\n",
        "ridge_reg = Ridge(alpha = 0.4)\n",
        "ridge_reg.fit(x_train,y_train)"
      ],
      "execution_count": 121,
      "outputs": [
        {
          "output_type": "execute_result",
          "data": {
            "text/plain": [
              "Ridge(alpha=0.4, copy_X=True, fit_intercept=True, max_iter=None,\n",
              "      normalize=False, random_state=None, solver='auto', tol=0.001)"
            ]
          },
          "metadata": {
            "tags": []
          },
          "execution_count": 121
        }
      ]
    },
    {
      "cell_type": "markdown",
      "metadata": {
        "id": "70F0JkjaYB-G",
        "colab_type": "text"
      },
      "source": [
        "**testing if the rmse changes when fitted to ridge reg**"
      ]
    },
    {
      "cell_type": "code",
      "metadata": {
        "id": "pPYp8rR_YMiR",
        "colab_type": "code",
        "colab": {}
      },
      "source": [
        "y_ridge_pred = ridge_reg.predict(x_test)\n",
        "y_ridge_pred.reshape(-1,1)"
      ],
      "execution_count": null,
      "outputs": []
    },
    {
      "cell_type": "code",
      "metadata": {
        "id": "aWQjBZCXYoaS",
        "colab_type": "code",
        "colab": {}
      },
      "source": [
        "from sklearn.metrics import mean_squared_error\n",
        "rmse = np.sqrt(mean_squared_error(y_test,y_ridge_pred))\n",
        "round(rmse,3)  #the value is the same with that of linear_model"
      ],
      "execution_count": null,
      "outputs": []
    },
    {
      "cell_type": "markdown",
      "metadata": {
        "id": "s7C7Qyjsp9V_",
        "colab_type": "text"
      },
      "source": [
        "**LINEAR REGRESSION**"
      ]
    },
    {
      "cell_type": "code",
      "metadata": {
        "id": "0-h4pxZXp51z",
        "colab_type": "code",
        "colab": {}
      },
      "source": [
        "linear_reg = LinearRegression()\n",
        "linear_reg.fit(x_train,y_train)"
      ],
      "execution_count": null,
      "outputs": []
    },
    {
      "cell_type": "markdown",
      "metadata": {
        "id": "L8YB_066qYHW",
        "colab_type": "text"
      },
      "source": [
        "**COMPUTING THE WEIGHT OF LINEAR MODEL TO GET MIN AND MAX**"
      ]
    },
    {
      "cell_type": "code",
      "metadata": {
        "id": "jW2kvZl-VkMA",
        "colab_type": "code",
        "colab": {}
      },
      "source": [
        "def get_weight(model,feat,col_name):\n",
        "      weights = Series(model.coef_,feat.columns).sort_values()\n",
        "      weights = DataFrame(weights).reset_index()\n",
        "      weights.columns = ['Feaures',col_name]\n",
        "      weights[col_name].round(3)\n",
        "      return weights"
      ],
      "execution_count": 129,
      "outputs": []
    },
    {
      "cell_type": "markdown",
      "metadata": {
        "id": "s4QGkiX-qd1L",
        "colab_type": "text"
      },
      "source": [
        "**linear model**"
      ]
    },
    {
      "cell_type": "code",
      "metadata": {
        "id": "-FKgRJvCqMKu",
        "colab_type": "code",
        "colab": {}
      },
      "source": [
        "linear_model_weights = get_weight(linear_reg,x_train,'Linear_model_weight')\n",
        "linear_model_weights"
      ],
      "execution_count": null,
      "outputs": []
    },
    {
      "cell_type": "markdown",
      "metadata": {
        "id": "EahjVIC_syf5",
        "colab_type": "text"
      },
      "source": [
        "**MEAN ABSOLUTE ERROR LINEAR MODEL**"
      ]
    },
    {
      "cell_type": "code",
      "metadata": {
        "id": "Um78oBlXsmKc",
        "colab_type": "code",
        "colab": {
          "base_uri": "https://localhost:8080/",
          "height": 34
        },
        "outputId": "87bf88cd-00ed-4aab-93b3-8df210eecc4a"
      },
      "source": [
        "from sklearn.metrics import mean_absolute_error\n",
        "mae = mean_absolute_error(y_test,y_pred)\n",
        "round(mae,2)"
      ],
      "execution_count": 41,
      "outputs": [
        {
          "output_type": "execute_result",
          "data": {
            "text/plain": [
              "0.05"
            ]
          },
          "metadata": {
            "tags": []
          },
          "execution_count": 41
        }
      ]
    },
    {
      "cell_type": "markdown",
      "metadata": {
        "id": "FaJC2uRStXKc",
        "colab_type": "text"
      },
      "source": [
        "**R SQUARED LINEAR MODEL**"
      ]
    },
    {
      "cell_type": "code",
      "metadata": {
        "id": "ByLWDDwBtK1s",
        "colab_type": "code",
        "colab": {
          "base_uri": "https://localhost:8080/",
          "height": 34
        },
        "outputId": "37637c8b-7bbf-4911-8750-cd22af9d9613"
      },
      "source": [
        "from sklearn.metrics import r2_score\n",
        "r2_score = r2_score(y_test,y_pred)\n",
        "round(r2_score,2)"
      ],
      "execution_count": 71,
      "outputs": [
        {
          "output_type": "execute_result",
          "data": {
            "text/plain": [
              "0.15"
            ]
          },
          "metadata": {
            "tags": []
          },
          "execution_count": 71
        }
      ]
    },
    {
      "cell_type": "markdown",
      "metadata": {
        "id": "p_Te5HM1txk4",
        "colab_type": "text"
      },
      "source": [
        "**RESIDUAL SUM OF SQUARES LINEAR MODEL**"
      ]
    },
    {
      "cell_type": "code",
      "metadata": {
        "id": "7xDy3dSRtswT",
        "colab_type": "code",
        "colab": {
          "base_uri": "https://localhost:8080/",
          "height": 34
        },
        "outputId": "6f8fb8af-df45-49e4-fa0e-00718a8f9483"
      },
      "source": [
        "rss = np.sum(np.square(y_test-y_pred))\n",
        "round(rss,2)"
      ],
      "execution_count": 42,
      "outputs": [
        {
          "output_type": "execute_result",
          "data": {
            "text/plain": [
              "45.35"
            ]
          },
          "metadata": {
            "tags": []
          },
          "execution_count": 42
        }
      ]
    },
    {
      "cell_type": "markdown",
      "metadata": {
        "id": "WD2WjZeFuhHc",
        "colab_type": "text"
      },
      "source": [
        "**ROOT MEAN SQUARE ERROR OF LINEAR MODEL**"
      ]
    },
    {
      "cell_type": "code",
      "metadata": {
        "id": "2LGL45uauW6P",
        "colab_type": "code",
        "colab": {
          "base_uri": "https://localhost:8080/",
          "height": 34
        },
        "outputId": "c92de787-62f1-4efd-9aba-23e496a336b9"
      },
      "source": [
        "from sklearn.metrics import mean_squared_error\n",
        "rmse = np.sqrt(mean_squared_error(y_test,y_pred))\n",
        "round(rmse,3)"
      ],
      "execution_count": 82,
      "outputs": [
        {
          "output_type": "execute_result",
          "data": {
            "text/plain": [
              "0.088"
            ]
          },
          "metadata": {
            "tags": []
          },
          "execution_count": 82
        }
      ]
    },
    {
      "cell_type": "code",
      "metadata": {
        "id": "_ZoDyIn1urZ9",
        "colab_type": "code",
        "colab": {}
      },
      "source": [
        ""
      ],
      "execution_count": null,
      "outputs": []
    }
  ]
}