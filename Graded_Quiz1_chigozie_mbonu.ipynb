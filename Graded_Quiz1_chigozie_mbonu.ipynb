{
  "nbformat": 4,
  "nbformat_minor": 0,
  "metadata": {
    "colab": {
      "name": "Graded_Quiz1_chigozie_mbonu.ipynb",
      "provenance": [],
      "authorship_tag": "ABX9TyNsMqMMCYS5s6wuou+ezD7G",
      "include_colab_link": true
    },
    "kernelspec": {
      "name": "python3",
      "display_name": "Python 3"
    }
  },
  "cells": [
    {
      "cell_type": "markdown",
      "metadata": {
        "id": "view-in-github",
        "colab_type": "text"
      },
      "source": [
        "<a href=\"https://colab.research.google.com/github/gogzicole/Hamoye-Data-science/blob/master/Graded_Quiz1_chigozie_mbonu.ipynb\" target=\"_parent\"><img src=\"https://colab.research.google.com/assets/colab-badge.svg\" alt=\"Open In Colab\"/></a>"
      ]
    },
    {
      "cell_type": "code",
      "metadata": {
        "id": "toCuT0-wug19",
        "colab_type": "code",
        "colab": {}
      },
      "source": [
        "import pandas as pd #importing the pandas library to read csv from web link. \n",
        "import numpy as np\n",
        "from pandas import DataFrame"
      ],
      "execution_count": 4,
      "outputs": []
    },
    {
      "cell_type": "code",
      "metadata": {
        "id": "aCFAe00xvGXp",
        "colab_type": "code",
        "colab": {}
      },
      "source": [
        "url = \"https://bit.ly/HDSC-StageOneDataset\"    # assingning the web link to variable url"
      ],
      "execution_count": 5,
      "outputs": []
    },
    {
      "cell_type": "code",
      "metadata": {
        "id": "5P9avScvvgur",
        "colab_type": "code",
        "colab": {}
      },
      "source": [
        "df1 = pd.read_csv(url)     #importing the csv file from the url using pandas read csv method.\n",
        "df1"
      ],
      "execution_count": null,
      "outputs": []
    },
    {
      "cell_type": "markdown",
      "metadata": {
        "id": "jE6MvIRZ1ZHe",
        "colab_type": "text"
      },
      "source": [
        "CHECKING FOR MISSING VALUES\n"
      ]
    },
    {
      "cell_type": "code",
      "metadata": {
        "id": "BVItrJQ91nxw",
        "colab_type": "code",
        "colab": {
          "base_uri": "https://localhost:8080/",
          "height": 221
        },
        "outputId": "9e4ac20f-8267-48d9-9642-8cbf5fabf7d0"
      },
      "source": [
        "x = df1.iloc[:]\n",
        "x.isnull().sum()"
      ],
      "execution_count": 120,
      "outputs": [
        {
          "output_type": "execute_result",
          "data": {
            "text/plain": [
              "record_id                         0\n",
              "utility_id_ferc1                  0\n",
              "report_year                       0\n",
              "plant_name_ferc1                  0\n",
              "fuel_type_code_pudl               0\n",
              "fuel_unit                       180\n",
              "fuel_qty_burned                   0\n",
              "fuel_mmbtu_per_unit               0\n",
              "fuel_cost_per_unit_burned         0\n",
              "fuel_cost_per_unit_delivered      0\n",
              "fuel_cost_per_mmbtu               0\n",
              "dtype: int64"
            ]
          },
          "metadata": {
            "tags": []
          },
          "execution_count": 120
        }
      ]
    },
    {
      "cell_type": "markdown",
      "metadata": {
        "id": "aWnK6ux119rM",
        "colab_type": "text"
      },
      "source": [
        "only the fuel unit column has missing values, and it sums up to 180"
      ]
    },
    {
      "cell_type": "code",
      "metadata": {
        "id": "q6dZo5nG2J77",
        "colab_type": "code",
        "colab": {}
      },
      "source": [
        ""
      ],
      "execution_count": null,
      "outputs": []
    },
    {
      "cell_type": "markdown",
      "metadata": {
        "id": "jUedh3oj2UmY",
        "colab_type": "text"
      },
      "source": [
        "SKEWNESS"
      ]
    },
    {
      "cell_type": "code",
      "metadata": {
        "id": "OTh_G3rL2ZlN",
        "colab_type": "code",
        "colab": {
          "base_uri": "https://localhost:8080/",
          "height": 153
        },
        "outputId": "6ce49a54-445d-4029-9059-ac4627dd28ec"
      },
      "source": [
        "df1.skew(axis=0)"
      ],
      "execution_count": 119,
      "outputs": [
        {
          "output_type": "execute_result",
          "data": {
            "text/plain": [
              "utility_id_ferc1                  0.605070\n",
              "report_year                       0.006953\n",
              "fuel_qty_burned                  15.851495\n",
              "fuel_mmbtu_per_unit               4.135217\n",
              "fuel_cost_per_unit_burned        19.787440\n",
              "fuel_cost_per_unit_delivered    105.014227\n",
              "fuel_cost_per_mmbtu             171.675535\n",
              "dtype: float64"
            ]
          },
          "metadata": {
            "tags": []
          },
          "execution_count": 119
        }
      ]
    },
    {
      "cell_type": "markdown",
      "metadata": {
        "id": "zMGbStbC3CB1",
        "colab_type": "text"
      },
      "source": [
        "KURTOSIS"
      ]
    },
    {
      "cell_type": "code",
      "metadata": {
        "id": "SViJ00BT3Hay",
        "colab_type": "code",
        "colab": {
          "base_uri": "https://localhost:8080/",
          "height": 153
        },
        "outputId": "e5f65aa1-870d-4f4a-fcc8-fc6e95540f4b"
      },
      "source": [
        "df1.kurtosis(axis=0)"
      ],
      "execution_count": 118,
      "outputs": [
        {
          "output_type": "execute_result",
          "data": {
            "text/plain": [
              "utility_id_ferc1                    1.088432\n",
              "report_year                        -1.145656\n",
              "fuel_qty_burned                   651.369450\n",
              "fuel_mmbtu_per_unit                55.595695\n",
              "fuel_cost_per_unit_burned         485.255851\n",
              "fuel_cost_per_unit_delivered    11765.054226\n",
              "fuel_cost_per_mmbtu             29489.132594\n",
              "dtype: float64"
            ]
          },
          "metadata": {
            "tags": []
          },
          "execution_count": 118
        }
      ]
    },
    {
      "cell_type": "markdown",
      "metadata": {
        "id": "EbGELVBjNTkd",
        "colab_type": "text"
      },
      "source": [
        "HIGHEST AVERAGE FUEL COST/UNIT DELIVERED YEAR"
      ]
    },
    {
      "cell_type": "code",
      "metadata": {
        "id": "xB9gD2I86M03",
        "colab_type": "code",
        "colab": {
          "base_uri": "https://localhost:8080/",
          "height": 476
        },
        "outputId": "024993dc-b1db-42e5-a6d9-ca2f0ee81b52"
      },
      "source": [
        "fuel_delivered =df1.groupby([\"report_year\",])[\"fuel_cost_per_unit_delivered\"].mean()\n",
        "fuel_delivered"
      ],
      "execution_count": 117,
      "outputs": [
        {
          "output_type": "execute_result",
          "data": {
            "text/plain": [
              "report_year\n",
              "1994       63.636060\n",
              "1995       32.735269\n",
              "1996     9196.705948\n",
              "1997    11140.197239\n",
              "1998      287.154420\n",
              "1999       25.551627\n",
              "2000      985.362877\n",
              "2001       60.050396\n",
              "2002       47.594361\n",
              "2003       55.663493\n",
              "2004      139.524275\n",
              "2005       41.438184\n",
              "2006       38.657484\n",
              "2007       43.325023\n",
              "2008       58.588197\n",
              "2009      652.694163\n",
              "2010       91.862105\n",
              "2011       59.774667\n",
              "2012       60.994502\n",
              "2013      172.307591\n",
              "2014      192.737183\n",
              "2015      326.535511\n",
              "2016      103.901761\n",
              "2017       46.196861\n",
              "2018      499.269966\n",
              "Name: fuel_cost_per_unit_delivered, dtype: float64"
            ]
          },
          "metadata": {
            "tags": []
          },
          "execution_count": 117
        }
      ]
    },
    {
      "cell_type": "markdown",
      "metadata": {
        "id": "Xy4mgChZBaHl",
        "colab_type": "text"
      },
      "source": [
        "PERCENTAGE CHANGE IN MEAN YEARS"
      ]
    },
    {
      "cell_type": "code",
      "metadata": {
        "id": "crbQ8L2pwGkN",
        "colab_type": "code",
        "colab": {
          "base_uri": "https://localhost:8080/",
          "height": 255
        },
        "outputId": "189fcfa9-0d1a-4094-f47d-ac895f1cbc10"
      },
      "source": [
        "mean_cost = df1.groupby([\"report_year\",\"fuel_type_code_pudl\"]).sum()\n",
        "mean_cost.head()"
      ],
      "execution_count": 116,
      "outputs": [
        {
          "output_type": "execute_result",
          "data": {
            "text/html": [
              "<div>\n",
              "<style scoped>\n",
              "    .dataframe tbody tr th:only-of-type {\n",
              "        vertical-align: middle;\n",
              "    }\n",
              "\n",
              "    .dataframe tbody tr th {\n",
              "        vertical-align: top;\n",
              "    }\n",
              "\n",
              "    .dataframe thead th {\n",
              "        text-align: right;\n",
              "    }\n",
              "</style>\n",
              "<table border=\"1\" class=\"dataframe\">\n",
              "  <thead>\n",
              "    <tr style=\"text-align: right;\">\n",
              "      <th></th>\n",
              "      <th></th>\n",
              "      <th>utility_id_ferc1</th>\n",
              "      <th>fuel_qty_burned</th>\n",
              "      <th>fuel_mmbtu_per_unit</th>\n",
              "      <th>fuel_cost_per_unit_burned</th>\n",
              "      <th>fuel_cost_per_unit_delivered</th>\n",
              "      <th>fuel_cost_per_mmbtu</th>\n",
              "    </tr>\n",
              "    <tr>\n",
              "      <th>report_year</th>\n",
              "      <th>fuel_type_code_pudl</th>\n",
              "      <th></th>\n",
              "      <th></th>\n",
              "      <th></th>\n",
              "      <th></th>\n",
              "      <th></th>\n",
              "      <th></th>\n",
              "    </tr>\n",
              "  </thead>\n",
              "  <tbody>\n",
              "    <tr>\n",
              "      <th rowspan=\"5\" valign=\"top\">1994</th>\n",
              "      <th>coal</th>\n",
              "      <td>50430</td>\n",
              "      <td>7.172082e+08</td>\n",
              "      <td>10293.429297</td>\n",
              "      <td>14984.572</td>\n",
              "      <td>59215.371</td>\n",
              "      <td>682.14697</td>\n",
              "    </tr>\n",
              "    <tr>\n",
              "      <th>gas</th>\n",
              "      <td>54449</td>\n",
              "      <td>2.432212e+09</td>\n",
              "      <td>498.035534</td>\n",
              "      <td>10792.496</td>\n",
              "      <td>8099.070</td>\n",
              "      <td>1368.51941</td>\n",
              "    </tr>\n",
              "    <tr>\n",
              "      <th>nuclear</th>\n",
              "      <td>6643</td>\n",
              "      <td>2.069366e+08</td>\n",
              "      <td>1384.184311</td>\n",
              "      <td>227983.354</td>\n",
              "      <td>3483.492</td>\n",
              "      <td>136.53400</td>\n",
              "    </tr>\n",
              "    <tr>\n",
              "      <th>oil</th>\n",
              "      <td>14821</td>\n",
              "      <td>1.469716e+06</td>\n",
              "      <td>960.537684</td>\n",
              "      <td>9362.194</td>\n",
              "      <td>7622.838</td>\n",
              "      <td>1147.21573</td>\n",
              "    </tr>\n",
              "    <tr>\n",
              "      <th>other</th>\n",
              "      <td>1208</td>\n",
              "      <td>5.094458e+06</td>\n",
              "      <td>1.287506</td>\n",
              "      <td>116.737</td>\n",
              "      <td>117.148</td>\n",
              "      <td>27.97400</td>\n",
              "    </tr>\n",
              "  </tbody>\n",
              "</table>\n",
              "</div>"
            ],
            "text/plain": [
              "                                 utility_id_ferc1  ...  fuel_cost_per_mmbtu\n",
              "report_year fuel_type_code_pudl                    ...                     \n",
              "1994        coal                            50430  ...            682.14697\n",
              "            gas                             54449  ...           1368.51941\n",
              "            nuclear                          6643  ...            136.53400\n",
              "            oil                             14821  ...           1147.21573\n",
              "            other                            1208  ...             27.97400\n",
              "\n",
              "[5 rows x 6 columns]"
            ]
          },
          "metadata": {
            "tags": []
          },
          "execution_count": 116
        }
      ]
    },
    {
      "cell_type": "code",
      "metadata": {
        "id": "s4mjjiYIix8w",
        "colab_type": "code",
        "colab": {
          "base_uri": "https://localhost:8080/",
          "height": 85
        },
        "outputId": "2a8020c9-8ea8-4605-e766-04863446a359"
      },
      "source": [
        "mean_cost[\"fuel_cost_per_unit_burned\"].loc[[1994,1998],\"coal\"]"
      ],
      "execution_count": 115,
      "outputs": [
        {
          "output_type": "execute_result",
          "data": {
            "text/plain": [
              "report_year  fuel_type_code_pudl\n",
              "1994         coal                   14984.572\n",
              "1998         coal                   11902.597\n",
              "Name: fuel_cost_per_unit_burned, dtype: float64"
            ]
          },
          "metadata": {
            "tags": []
          },
          "execution_count": 115
        }
      ]
    },
    {
      "cell_type": "code",
      "metadata": {
        "id": "tt5gDMm04ZbZ",
        "colab_type": "code",
        "colab": {
          "base_uri": "https://localhost:8080/",
          "height": 34
        },
        "outputId": "cbfe9b67-2941-426b-a1b1-a500e813668e"
      },
      "source": [
        "year_1994,year_1998 = mean_cost[\"fuel_cost_per_unit_burned\"].loc[[1994,1998],\"coal\"]\n",
        "perc_change = ((year_1998 - year_1994))/ (year_1994) *100\n",
        "perc_change"
      ],
      "execution_count": 114,
      "outputs": [
        {
          "output_type": "execute_result",
          "data": {
            "text/plain": [
              "-20.56765451826049"
            ]
          },
          "metadata": {
            "tags": []
          },
          "execution_count": 114
        }
      ]
    },
    {
      "cell_type": "markdown",
      "metadata": {
        "id": "znFfIEtmhTU0",
        "colab_type": "text"
      },
      "source": [
        "CALCULATION OF CORRELATION"
      ]
    },
    {
      "cell_type": "code",
      "metadata": {
        "id": "5ZiEMachh2PG",
        "colab_type": "code",
        "colab": {
          "base_uri": "https://localhost:8080/",
          "height": 439
        },
        "outputId": "39a62716-1a1c-4bbb-a8f0-a34357a3b6cf"
      },
      "source": [
        "A =  df1.iloc[:,8]       #assigning fuel_cost_per_unit_burnt to variable A\n",
        "B = df1.iloc[:,[1,2,6,7,9,10]] #assigning the remeining integer dataset to variable B\n",
        "B"
      ],
      "execution_count": 111,
      "outputs": [
        {
          "output_type": "execute_result",
          "data": {
            "text/html": [
              "<div>\n",
              "<style scoped>\n",
              "    .dataframe tbody tr th:only-of-type {\n",
              "        vertical-align: middle;\n",
              "    }\n",
              "\n",
              "    .dataframe tbody tr th {\n",
              "        vertical-align: top;\n",
              "    }\n",
              "\n",
              "    .dataframe thead th {\n",
              "        text-align: right;\n",
              "    }\n",
              "</style>\n",
              "<table border=\"1\" class=\"dataframe\">\n",
              "  <thead>\n",
              "    <tr style=\"text-align: right;\">\n",
              "      <th></th>\n",
              "      <th>utility_id_ferc1</th>\n",
              "      <th>report_year</th>\n",
              "      <th>fuel_qty_burned</th>\n",
              "      <th>fuel_mmbtu_per_unit</th>\n",
              "      <th>fuel_cost_per_unit_delivered</th>\n",
              "      <th>fuel_cost_per_mmbtu</th>\n",
              "    </tr>\n",
              "  </thead>\n",
              "  <tbody>\n",
              "    <tr>\n",
              "      <th>0</th>\n",
              "      <td>1</td>\n",
              "      <td>1994</td>\n",
              "      <td>5377489.0</td>\n",
              "      <td>16.590</td>\n",
              "      <td>18.53</td>\n",
              "      <td>1.121</td>\n",
              "    </tr>\n",
              "    <tr>\n",
              "      <th>1</th>\n",
              "      <td>1</td>\n",
              "      <td>1994</td>\n",
              "      <td>10486945.0</td>\n",
              "      <td>16.592</td>\n",
              "      <td>18.53</td>\n",
              "      <td>1.120</td>\n",
              "    </tr>\n",
              "    <tr>\n",
              "      <th>2</th>\n",
              "      <td>2</td>\n",
              "      <td>1994</td>\n",
              "      <td>2978683.0</td>\n",
              "      <td>24.130</td>\n",
              "      <td>38.12</td>\n",
              "      <td>1.650</td>\n",
              "    </tr>\n",
              "    <tr>\n",
              "      <th>3</th>\n",
              "      <td>2</td>\n",
              "      <td>1994</td>\n",
              "      <td>3739484.0</td>\n",
              "      <td>23.950</td>\n",
              "      <td>45.99</td>\n",
              "      <td>1.970</td>\n",
              "    </tr>\n",
              "    <tr>\n",
              "      <th>4</th>\n",
              "      <td>2</td>\n",
              "      <td>1994</td>\n",
              "      <td>40533.0</td>\n",
              "      <td>1.000</td>\n",
              "      <td>2.77</td>\n",
              "      <td>2.570</td>\n",
              "    </tr>\n",
              "    <tr>\n",
              "      <th>...</th>\n",
              "      <td>...</td>\n",
              "      <td>...</td>\n",
              "      <td>...</td>\n",
              "      <td>...</td>\n",
              "      <td>...</td>\n",
              "      <td>...</td>\n",
              "    </tr>\n",
              "    <tr>\n",
              "      <th>29518</th>\n",
              "      <td>12</td>\n",
              "      <td>2018</td>\n",
              "      <td>18799.0</td>\n",
              "      <td>1.059</td>\n",
              "      <td>4.78</td>\n",
              "      <td>9.030</td>\n",
              "    </tr>\n",
              "    <tr>\n",
              "      <th>29519</th>\n",
              "      <td>12</td>\n",
              "      <td>2018</td>\n",
              "      <td>806730.0</td>\n",
              "      <td>1.050</td>\n",
              "      <td>3.65</td>\n",
              "      <td>6.950</td>\n",
              "    </tr>\n",
              "    <tr>\n",
              "      <th>29520</th>\n",
              "      <td>12</td>\n",
              "      <td>2018</td>\n",
              "      <td>104554.0</td>\n",
              "      <td>1.060</td>\n",
              "      <td>4.77</td>\n",
              "      <td>8.990</td>\n",
              "    </tr>\n",
              "    <tr>\n",
              "      <th>29521</th>\n",
              "      <td>12</td>\n",
              "      <td>2018</td>\n",
              "      <td>315945.0</td>\n",
              "      <td>16.108</td>\n",
              "      <td>14.76</td>\n",
              "      <td>1.110</td>\n",
              "    </tr>\n",
              "    <tr>\n",
              "      <th>29522</th>\n",
              "      <td>12</td>\n",
              "      <td>2018</td>\n",
              "      <td>17853.0</td>\n",
              "      <td>1.059</td>\n",
              "      <td>0.00</td>\n",
              "      <td>11.680</td>\n",
              "    </tr>\n",
              "  </tbody>\n",
              "</table>\n",
              "<p>29523 rows × 6 columns</p>\n",
              "</div>"
            ],
            "text/plain": [
              "       utility_id_ferc1  ...  fuel_cost_per_mmbtu\n",
              "0                     1  ...                1.121\n",
              "1                     1  ...                1.120\n",
              "2                     2  ...                1.650\n",
              "3                     2  ...                1.970\n",
              "4                     2  ...                2.570\n",
              "...                 ...  ...                  ...\n",
              "29518                12  ...                9.030\n",
              "29519                12  ...                6.950\n",
              "29520                12  ...                8.990\n",
              "29521                12  ...                1.110\n",
              "29522                12  ...               11.680\n",
              "\n",
              "[29523 rows x 6 columns]"
            ]
          },
          "metadata": {
            "tags": []
          },
          "execution_count": 111
        }
      ]
    },
    {
      "cell_type": "code",
      "metadata": {
        "id": "KRENYrCVls5M",
        "colab_type": "code",
        "colab": {}
      },
      "source": [
        "a,b,c,d,e,f = [B.iloc[:,0],B.iloc[:,1],B.iloc[:,2],B.iloc[:,3],B.iloc[:,4],B.iloc[:,5]] #unpacking each column to variables a,b,c,d,e,f\n"
      ],
      "execution_count": 112,
      "outputs": []
    },
    {
      "cell_type": "code",
      "metadata": {
        "id": "EsO88nrFoKHn",
        "colab_type": "code",
        "colab": {
          "base_uri": "https://localhost:8080/",
          "height": 119
        },
        "outputId": "06bcc65a-f62d-49a8-82aa-d27ce03d83f8"
      },
      "source": [
        "def correl(a,b,c,d,e,f):       #defines a function that return the correlation of variable A to ech column \n",
        "  answer = []                         #and append the result to list\n",
        "  for i in a,b,c,d,e,f:\n",
        "    answer.append(A.corr(i))\n",
        "  return answer\n",
        "correl(a,b,c,d,e,f)\n",
        "D = correl(a,b,c,d,e,f)\n",
        "D"
      ],
      "execution_count": 113,
      "outputs": [
        {
          "output_type": "execute_result",
          "data": {
            "text/plain": [
              "[-0.0378627075999726,\n",
              " 0.013599134438134116,\n",
              " -0.018535416794825225,\n",
              " -0.010033808428853071,\n",
              " 0.01100740329916511,\n",
              " -0.0004372104439704003]"
            ]
          },
          "metadata": {
            "tags": []
          },
          "execution_count": 113
        }
      ]
    },
    {
      "cell_type": "code",
      "metadata": {
        "id": "dURSz-dZuUhY",
        "colab_type": "code",
        "colab": {
          "base_uri": "https://localhost:8080/",
          "height": 100
        },
        "outputId": "1932b5b4-6f37-4982-99ac-5a8b36c53546"
      },
      "source": [
        "df2 = {\"utility_id_ferc1\":-0.0378627075999726,\"report_year\":-0.018535416794825225,\"fuel_qty_burned\":-0.010033808428853071,\"fuel_mmbtu_per_unit\":-0.0004372104439704003,\"fuel_cost_per_unit_delivered\":0.01100740329916511,\"fuel_cost_per_mmbtu\":0.013599134438134116}\n",
        "correlation = DataFrame(df2, index = [1]) #creates a dictionay with the correlation and hence forms a Dataframe with the answer.\n",
        "correlation"
      ],
      "execution_count": 108,
      "outputs": [
        {
          "output_type": "execute_result",
          "data": {
            "text/html": [
              "<div>\n",
              "<style scoped>\n",
              "    .dataframe tbody tr th:only-of-type {\n",
              "        vertical-align: middle;\n",
              "    }\n",
              "\n",
              "    .dataframe tbody tr th {\n",
              "        vertical-align: top;\n",
              "    }\n",
              "\n",
              "    .dataframe thead th {\n",
              "        text-align: right;\n",
              "    }\n",
              "</style>\n",
              "<table border=\"1\" class=\"dataframe\">\n",
              "  <thead>\n",
              "    <tr style=\"text-align: right;\">\n",
              "      <th></th>\n",
              "      <th>utility_id_ferc1</th>\n",
              "      <th>report_year</th>\n",
              "      <th>fuel_qty_burned</th>\n",
              "      <th>fuel_mmbtu_per_unit</th>\n",
              "      <th>fuel_cost_per_unit_delivered</th>\n",
              "      <th>fuel_cost_per_mmbtu</th>\n",
              "    </tr>\n",
              "  </thead>\n",
              "  <tbody>\n",
              "    <tr>\n",
              "      <th>1</th>\n",
              "      <td>-0.037863</td>\n",
              "      <td>-0.018535</td>\n",
              "      <td>-0.010034</td>\n",
              "      <td>-0.000437</td>\n",
              "      <td>0.011007</td>\n",
              "      <td>0.013599</td>\n",
              "    </tr>\n",
              "  </tbody>\n",
              "</table>\n",
              "</div>"
            ],
            "text/plain": [
              "   utility_id_ferc1  ...  fuel_cost_per_mmbtu\n",
              "1         -0.037863  ...             0.013599\n",
              "\n",
              "[1 rows x 6 columns]"
            ]
          },
          "metadata": {
            "tags": []
          },
          "execution_count": 108
        }
      ]
    },
    {
      "cell_type": "code",
      "metadata": {
        "id": "b-iRaiq0ofvo",
        "colab_type": "code",
        "colab": {
          "base_uri": "https://localhost:8080/",
          "height": 136
        },
        "outputId": "97af853a-1df7-4382-a3c3-81e92bf2c4bc"
      },
      "source": [
        "correlation.min()"
      ],
      "execution_count": 428,
      "outputs": [
        {
          "output_type": "execute_result",
          "data": {
            "text/plain": [
              "utility_id_ferc1               -0.037863\n",
              "report_year                    -0.018535\n",
              "fuel_qty_burned                -0.010034\n",
              "fuel_mmbtu_per_unit            -0.000437\n",
              "fuel_cost_per_unit_delivered    0.011007\n",
              "fuel_cost_per_mmbtu             0.013599\n",
              "dtype: float64"
            ]
          },
          "metadata": {
            "tags": []
          },
          "execution_count": 428
        }
      ]
    },
    {
      "cell_type": "code",
      "metadata": {
        "id": "zUCVf7otwvkC",
        "colab_type": "code",
        "colab": {}
      },
      "source": [
        ""
      ],
      "execution_count": null,
      "outputs": []
    },
    {
      "cell_type": "markdown",
      "metadata": {
        "id": "UGSybjJywtx_",
        "colab_type": "text"
      },
      "source": [
        "GETING THE STANDARD DEVIATION AND 75TH PERCENTILE"
      ]
    },
    {
      "cell_type": "code",
      "metadata": {
        "id": "_V37igeS2Ror",
        "colab_type": "code",
        "colab": {
          "base_uri": "https://localhost:8080/",
          "height": 317
        },
        "outputId": "f2a51a56-859f-4d11-c8cb-5ac11daa0128"
      },
      "source": [
        "df1.describe()"
      ],
      "execution_count": 107,
      "outputs": [
        {
          "output_type": "execute_result",
          "data": {
            "text/html": [
              "<div>\n",
              "<style scoped>\n",
              "    .dataframe tbody tr th:only-of-type {\n",
              "        vertical-align: middle;\n",
              "    }\n",
              "\n",
              "    .dataframe tbody tr th {\n",
              "        vertical-align: top;\n",
              "    }\n",
              "\n",
              "    .dataframe thead th {\n",
              "        text-align: right;\n",
              "    }\n",
              "</style>\n",
              "<table border=\"1\" class=\"dataframe\">\n",
              "  <thead>\n",
              "    <tr style=\"text-align: right;\">\n",
              "      <th></th>\n",
              "      <th>utility_id_ferc1</th>\n",
              "      <th>report_year</th>\n",
              "      <th>fuel_qty_burned</th>\n",
              "      <th>fuel_mmbtu_per_unit</th>\n",
              "      <th>fuel_cost_per_unit_burned</th>\n",
              "      <th>fuel_cost_per_unit_delivered</th>\n",
              "      <th>fuel_cost_per_mmbtu</th>\n",
              "    </tr>\n",
              "  </thead>\n",
              "  <tbody>\n",
              "    <tr>\n",
              "      <th>count</th>\n",
              "      <td>29523.000000</td>\n",
              "      <td>29523.000000</td>\n",
              "      <td>2.952300e+04</td>\n",
              "      <td>29523.000000</td>\n",
              "      <td>29523.000000</td>\n",
              "      <td>2.952300e+04</td>\n",
              "      <td>29523.000000</td>\n",
              "    </tr>\n",
              "    <tr>\n",
              "      <th>mean</th>\n",
              "      <td>118.601836</td>\n",
              "      <td>2005.806050</td>\n",
              "      <td>2.622119e+06</td>\n",
              "      <td>8.492111</td>\n",
              "      <td>208.649031</td>\n",
              "      <td>9.175704e+02</td>\n",
              "      <td>19.304354</td>\n",
              "    </tr>\n",
              "    <tr>\n",
              "      <th>std</th>\n",
              "      <td>74.178353</td>\n",
              "      <td>7.025483</td>\n",
              "      <td>9.118004e+06</td>\n",
              "      <td>10.600220</td>\n",
              "      <td>2854.490090</td>\n",
              "      <td>6.877593e+04</td>\n",
              "      <td>2091.540939</td>\n",
              "    </tr>\n",
              "    <tr>\n",
              "      <th>min</th>\n",
              "      <td>1.000000</td>\n",
              "      <td>1994.000000</td>\n",
              "      <td>1.000000e+00</td>\n",
              "      <td>0.000001</td>\n",
              "      <td>-276.080000</td>\n",
              "      <td>-8.749370e+02</td>\n",
              "      <td>-41.501000</td>\n",
              "    </tr>\n",
              "    <tr>\n",
              "      <th>25%</th>\n",
              "      <td>55.000000</td>\n",
              "      <td>2000.000000</td>\n",
              "      <td>1.381700e+04</td>\n",
              "      <td>1.024000</td>\n",
              "      <td>5.207000</td>\n",
              "      <td>3.778500e+00</td>\n",
              "      <td>1.940000</td>\n",
              "    </tr>\n",
              "    <tr>\n",
              "      <th>50%</th>\n",
              "      <td>122.000000</td>\n",
              "      <td>2006.000000</td>\n",
              "      <td>2.533220e+05</td>\n",
              "      <td>5.762694</td>\n",
              "      <td>26.000000</td>\n",
              "      <td>1.737100e+01</td>\n",
              "      <td>4.127000</td>\n",
              "    </tr>\n",
              "    <tr>\n",
              "      <th>75%</th>\n",
              "      <td>176.000000</td>\n",
              "      <td>2012.000000</td>\n",
              "      <td>1.424034e+06</td>\n",
              "      <td>17.006000</td>\n",
              "      <td>47.113000</td>\n",
              "      <td>4.213700e+01</td>\n",
              "      <td>7.745000</td>\n",
              "    </tr>\n",
              "    <tr>\n",
              "      <th>max</th>\n",
              "      <td>514.000000</td>\n",
              "      <td>2018.000000</td>\n",
              "      <td>5.558942e+08</td>\n",
              "      <td>341.260000</td>\n",
              "      <td>139358.000000</td>\n",
              "      <td>7.964521e+06</td>\n",
              "      <td>359278.000000</td>\n",
              "    </tr>\n",
              "  </tbody>\n",
              "</table>\n",
              "</div>"
            ],
            "text/plain": [
              "       utility_id_ferc1  ...  fuel_cost_per_mmbtu\n",
              "count      29523.000000  ...         29523.000000\n",
              "mean         118.601836  ...            19.304354\n",
              "std           74.178353  ...          2091.540939\n",
              "min            1.000000  ...           -41.501000\n",
              "25%           55.000000  ...             1.940000\n",
              "50%          122.000000  ...             4.127000\n",
              "75%          176.000000  ...             7.745000\n",
              "max          514.000000  ...        359278.000000\n",
              "\n",
              "[8 rows x 7 columns]"
            ]
          },
          "metadata": {
            "tags": []
          },
          "execution_count": 107
        }
      ]
    },
    {
      "cell_type": "code",
      "metadata": {
        "id": "1ajovk3ZwdJy",
        "colab_type": "code",
        "colab": {}
      },
      "source": [
        ""
      ],
      "execution_count": null,
      "outputs": []
    }
  ]
}