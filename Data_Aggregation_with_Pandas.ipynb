{
  "nbformat": 4,
  "nbformat_minor": 0,
  "metadata": {
    "colab": {
      "name": "Data Aggregation with Pandas.ipynb",
      "provenance": [],
      "authorship_tag": "ABX9TyOEWc/CQUap0ySEnkS4Tc7v",
      "include_colab_link": true
    },
    "kernelspec": {
      "name": "python3",
      "display_name": "Python 3"
    }
  },
  "cells": [
    {
      "cell_type": "markdown",
      "metadata": {
        "id": "view-in-github",
        "colab_type": "text"
      },
      "source": [
        "<a href=\"https://colab.research.google.com/github/gogzicole/Hamoye-Data-science/blob/master/Data_Aggregation_with_Pandas.ipynb\" target=\"_parent\"><img src=\"https://colab.research.google.com/assets/colab-badge.svg\" alt=\"Open In Colab\"/></a>"
      ]
    },
    {
      "cell_type": "code",
      "metadata": {
        "id": "xMwdXAWbFaA2",
        "colab_type": "code",
        "colab": {}
      },
      "source": [
        "import pandas as pd\n",
        "import numpy as np\n",
        "from pandas import Series, DataFrame "
      ],
      "execution_count": 8,
      "outputs": []
    },
    {
      "cell_type": "code",
      "metadata": {
        "id": "l0MOcFsVH0wr",
        "colab_type": "code",
        "colab": {
          "base_uri": "https://localhost:8080/",
          "height": 34
        },
        "outputId": "672e3f86-93d7-4774-a8be-6892a88978f6"
      },
      "source": [
        "pip install simplejson"
      ],
      "execution_count": 9,
      "outputs": [
        {
          "output_type": "stream",
          "text": [
            "Requirement already satisfied: simplejson in /usr/local/lib/python3.6/dist-packages (3.17.2)\n"
          ],
          "name": "stdout"
        }
      ]
    },
    {
      "cell_type": "code",
      "metadata": {
        "id": "ND3KpBFaFkVv",
        "colab_type": "code",
        "colab": {
          "base_uri": "https://localhost:8080/",
          "height": 34
        },
        "outputId": "33606a56-b863-4f07-8482-bf8164945f36"
      },
      "source": [
        "!ls -lh ./data/yelp.json.gz"
      ],
      "execution_count": 10,
      "outputs": [
        {
          "output_type": "stream",
          "text": [
            "ls: cannot access './data/yelp.json.gz': No such file or directory\n"
          ],
          "name": "stdout"
        }
      ]
    },
    {
      "cell_type": "code",
      "metadata": {
        "id": "u1KoHvzoF4zL",
        "colab_type": "code",
        "colab": {}
      },
      "source": [
        "import gzip\n",
        "import simplejson as json\n",
        "\n",
        "with gzip.open('yelp.json.gz', 'r') as f:\n",
        "    yelp_data = [json.loads(line) for line in f]\n",
        "    \n",
        "yelp_df = pd.DataFrame(yelp_data)\n"
      ],
      "execution_count": null,
      "outputs": []
    },
    {
      "cell_type": "code",
      "metadata": {
        "id": "PP_SeMiHHnLp",
        "colab_type": "code",
        "colab": {
          "base_uri": "https://localhost:8080/",
          "height": 357
        },
        "outputId": "dbe65c9e-5ad3-4fc7-a29c-eaa012890f55"
      },
      "source": [
        "yelp_df.head(3)   "
      ],
      "execution_count": 14,
      "outputs": [
        {
          "output_type": "execute_result",
          "data": {
            "text/html": [
              "<div>\n",
              "<style scoped>\n",
              "    .dataframe tbody tr th:only-of-type {\n",
              "        vertical-align: middle;\n",
              "    }\n",
              "\n",
              "    .dataframe tbody tr th {\n",
              "        vertical-align: top;\n",
              "    }\n",
              "\n",
              "    .dataframe thead th {\n",
              "        text-align: right;\n",
              "    }\n",
              "</style>\n",
              "<table border=\"1\" class=\"dataframe\">\n",
              "  <thead>\n",
              "    <tr style=\"text-align: right;\">\n",
              "      <th></th>\n",
              "      <th>business_id</th>\n",
              "      <th>full_address</th>\n",
              "      <th>hours</th>\n",
              "      <th>open</th>\n",
              "      <th>categories</th>\n",
              "      <th>city</th>\n",
              "      <th>review_count</th>\n",
              "      <th>name</th>\n",
              "      <th>neighborhoods</th>\n",
              "      <th>longitude</th>\n",
              "      <th>state</th>\n",
              "      <th>stars</th>\n",
              "      <th>latitude</th>\n",
              "      <th>attributes</th>\n",
              "      <th>type</th>\n",
              "    </tr>\n",
              "  </thead>\n",
              "  <tbody>\n",
              "    <tr>\n",
              "      <th>0</th>\n",
              "      <td>vcNAWiLM4dR7D2nwwJ7nCA</td>\n",
              "      <td>4840 E Indian School Rd\\nSte 101\\nPhoenix, AZ ...</td>\n",
              "      <td>{'Tuesday': {'close': '17:00', 'open': '08:00'...</td>\n",
              "      <td>True</td>\n",
              "      <td>[Doctors, Health &amp; Medical]</td>\n",
              "      <td>Phoenix</td>\n",
              "      <td>7</td>\n",
              "      <td>Eric Goldberg, MD</td>\n",
              "      <td>[]</td>\n",
              "      <td>-111.983758</td>\n",
              "      <td>AZ</td>\n",
              "      <td>3.5</td>\n",
              "      <td>33.499313</td>\n",
              "      <td>{'By Appointment Only': True}</td>\n",
              "      <td>business</td>\n",
              "    </tr>\n",
              "    <tr>\n",
              "      <th>1</th>\n",
              "      <td>JwUE5GmEO-sH1FuwJgKBlQ</td>\n",
              "      <td>6162 US Highway 51\\nDe Forest, WI 53532</td>\n",
              "      <td>{}</td>\n",
              "      <td>True</td>\n",
              "      <td>[Restaurants]</td>\n",
              "      <td>De Forest</td>\n",
              "      <td>26</td>\n",
              "      <td>Pine Cone Restaurant</td>\n",
              "      <td>[]</td>\n",
              "      <td>-89.335844</td>\n",
              "      <td>WI</td>\n",
              "      <td>4.0</td>\n",
              "      <td>43.238893</td>\n",
              "      <td>{'Take-out': True, 'Good For': {'dessert': Fal...</td>\n",
              "      <td>business</td>\n",
              "    </tr>\n",
              "    <tr>\n",
              "      <th>2</th>\n",
              "      <td>uGykseHzyS5xAMWoN6YUqA</td>\n",
              "      <td>505 W North St\\nDe Forest, WI 53532</td>\n",
              "      <td>{'Monday': {'close': '22:00', 'open': '06:00'}...</td>\n",
              "      <td>True</td>\n",
              "      <td>[American (Traditional), Restaurants]</td>\n",
              "      <td>De Forest</td>\n",
              "      <td>16</td>\n",
              "      <td>Deforest Family Restaurant</td>\n",
              "      <td>[]</td>\n",
              "      <td>-89.353437</td>\n",
              "      <td>WI</td>\n",
              "      <td>4.0</td>\n",
              "      <td>43.252267</td>\n",
              "      <td>{'Take-out': True, 'Good For': {'dessert': Fal...</td>\n",
              "      <td>business</td>\n",
              "    </tr>\n",
              "  </tbody>\n",
              "</table>\n",
              "</div>"
            ],
            "text/plain": [
              "              business_id  ...      type\n",
              "0  vcNAWiLM4dR7D2nwwJ7nCA  ...  business\n",
              "1  JwUE5GmEO-sH1FuwJgKBlQ  ...  business\n",
              "2  uGykseHzyS5xAMWoN6YUqA  ...  business\n",
              "\n",
              "[3 rows x 15 columns]"
            ]
          },
          "metadata": {
            "tags": []
          },
          "execution_count": 14
        }
      ]
    },
    {
      "cell_type": "markdown",
      "metadata": {
        "id": "A1C7-mGTI8M2",
        "colab_type": "text"
      },
      "source": [
        "**Filtering the DataFrame**"
      ]
    },
    {
      "cell_type": "code",
      "metadata": {
        "id": "-8nMaDwPI1wi",
        "colab_type": "code",
        "colab": {
          "base_uri": "https://localhost:8080/",
          "height": 301
        },
        "outputId": "4f69c12c-94da-48c1-bd19-3f4d3349c1af"
      },
      "source": [
        "yelp_df[yelp_df['state']== 'WI'].count() # selects the dataframe with states  WI only"
      ],
      "execution_count": 30,
      "outputs": [
        {
          "output_type": "execute_result",
          "data": {
            "text/plain": [
              "business_id      1903\n",
              "full_address     1903\n",
              "hours            1903\n",
              "open             1903\n",
              "categories       1903\n",
              "city             1903\n",
              "review_count     1903\n",
              "name             1903\n",
              "neighborhoods    1903\n",
              "longitude        1903\n",
              "state            1903\n",
              "stars            1903\n",
              "latitude         1903\n",
              "attributes       1903\n",
              "type             1903\n",
              "dtype: int64"
            ]
          },
          "metadata": {
            "tags": []
          },
          "execution_count": 30
        }
      ]
    },
    {
      "cell_type": "code",
      "metadata": {
        "id": "7OtzdXbTJa1T",
        "colab_type": "code",
        "colab": {
          "base_uri": "https://localhost:8080/",
          "height": 357
        },
        "outputId": "fa03763a-f795-4af9-ce25-be85a5f40bd5"
      },
      "source": [
        "def get_categories(categories):\n",
        "      return 'Restaurants' in categories\n",
        "get_categories(yelp_df.categories)\n",
        "yelp_df.head(3)"
      ],
      "execution_count": 60,
      "outputs": [
        {
          "output_type": "execute_result",
          "data": {
            "text/html": [
              "<div>\n",
              "<style scoped>\n",
              "    .dataframe tbody tr th:only-of-type {\n",
              "        vertical-align: middle;\n",
              "    }\n",
              "\n",
              "    .dataframe tbody tr th {\n",
              "        vertical-align: top;\n",
              "    }\n",
              "\n",
              "    .dataframe thead th {\n",
              "        text-align: right;\n",
              "    }\n",
              "</style>\n",
              "<table border=\"1\" class=\"dataframe\">\n",
              "  <thead>\n",
              "    <tr style=\"text-align: right;\">\n",
              "      <th></th>\n",
              "      <th>business_id</th>\n",
              "      <th>full_address</th>\n",
              "      <th>hours</th>\n",
              "      <th>open</th>\n",
              "      <th>categories</th>\n",
              "      <th>city</th>\n",
              "      <th>review_count</th>\n",
              "      <th>name</th>\n",
              "      <th>neighborhoods</th>\n",
              "      <th>longitude</th>\n",
              "      <th>state</th>\n",
              "      <th>stars</th>\n",
              "      <th>latitude</th>\n",
              "      <th>attributes</th>\n",
              "      <th>type</th>\n",
              "    </tr>\n",
              "  </thead>\n",
              "  <tbody>\n",
              "    <tr>\n",
              "      <th>0</th>\n",
              "      <td>vcNAWiLM4dR7D2nwwJ7nCA</td>\n",
              "      <td>4840 E Indian School Rd\\nSte 101\\nPhoenix, AZ ...</td>\n",
              "      <td>{'Tuesday': {'close': '17:00', 'open': '08:00'...</td>\n",
              "      <td>True</td>\n",
              "      <td>[Doctors, Health &amp; Medical]</td>\n",
              "      <td>Phoenix</td>\n",
              "      <td>7</td>\n",
              "      <td>Eric Goldberg, MD</td>\n",
              "      <td>[]</td>\n",
              "      <td>-111.983758</td>\n",
              "      <td>AZ</td>\n",
              "      <td>3.5</td>\n",
              "      <td>33.499313</td>\n",
              "      <td>{'By Appointment Only': True}</td>\n",
              "      <td>business</td>\n",
              "    </tr>\n",
              "    <tr>\n",
              "      <th>1</th>\n",
              "      <td>JwUE5GmEO-sH1FuwJgKBlQ</td>\n",
              "      <td>6162 US Highway 51\\nDe Forest, WI 53532</td>\n",
              "      <td>{}</td>\n",
              "      <td>True</td>\n",
              "      <td>[Restaurants]</td>\n",
              "      <td>De Forest</td>\n",
              "      <td>26</td>\n",
              "      <td>Pine Cone Restaurant</td>\n",
              "      <td>[]</td>\n",
              "      <td>-89.335844</td>\n",
              "      <td>WI</td>\n",
              "      <td>4.0</td>\n",
              "      <td>43.238893</td>\n",
              "      <td>{'Take-out': True, 'Good For': {'dessert': Fal...</td>\n",
              "      <td>business</td>\n",
              "    </tr>\n",
              "    <tr>\n",
              "      <th>2</th>\n",
              "      <td>uGykseHzyS5xAMWoN6YUqA</td>\n",
              "      <td>505 W North St\\nDe Forest, WI 53532</td>\n",
              "      <td>{'Monday': {'close': '22:00', 'open': '06:00'}...</td>\n",
              "      <td>True</td>\n",
              "      <td>[American (Traditional), Restaurants]</td>\n",
              "      <td>De Forest</td>\n",
              "      <td>16</td>\n",
              "      <td>Deforest Family Restaurant</td>\n",
              "      <td>[]</td>\n",
              "      <td>-89.353437</td>\n",
              "      <td>WI</td>\n",
              "      <td>4.0</td>\n",
              "      <td>43.252267</td>\n",
              "      <td>{'Take-out': True, 'Good For': {'dessert': Fal...</td>\n",
              "      <td>business</td>\n",
              "    </tr>\n",
              "  </tbody>\n",
              "</table>\n",
              "</div>"
            ],
            "text/plain": [
              "              business_id  ...      type\n",
              "0  vcNAWiLM4dR7D2nwwJ7nCA  ...  business\n",
              "1  JwUE5GmEO-sH1FuwJgKBlQ  ...  business\n",
              "2  uGykseHzyS5xAMWoN6YUqA  ...  business\n",
              "\n",
              "[3 rows x 15 columns]"
            ]
          },
          "metadata": {
            "tags": []
          },
          "execution_count": 60
        }
      ]
    },
    {
      "cell_type": "code",
      "metadata": {
        "id": "dI8oD6ITJkWE",
        "colab_type": "code",
        "colab": {
          "base_uri": "https://localhost:8080/",
          "height": 357
        },
        "outputId": "8aeb0a3c-2010-45c7-ab43-9b591d0c1c64"
      },
      "source": [
        "restaurants_df = yelp_df[yelp_df['categories'].apply(lambda categories: 'Restaurants' in categories)]\n",
        "restaurants_df.head(3)"
      ],
      "execution_count": 61,
      "outputs": [
        {
          "output_type": "execute_result",
          "data": {
            "text/html": [
              "<div>\n",
              "<style scoped>\n",
              "    .dataframe tbody tr th:only-of-type {\n",
              "        vertical-align: middle;\n",
              "    }\n",
              "\n",
              "    .dataframe tbody tr th {\n",
              "        vertical-align: top;\n",
              "    }\n",
              "\n",
              "    .dataframe thead th {\n",
              "        text-align: right;\n",
              "    }\n",
              "</style>\n",
              "<table border=\"1\" class=\"dataframe\">\n",
              "  <thead>\n",
              "    <tr style=\"text-align: right;\">\n",
              "      <th></th>\n",
              "      <th>business_id</th>\n",
              "      <th>full_address</th>\n",
              "      <th>hours</th>\n",
              "      <th>open</th>\n",
              "      <th>categories</th>\n",
              "      <th>city</th>\n",
              "      <th>review_count</th>\n",
              "      <th>name</th>\n",
              "      <th>neighborhoods</th>\n",
              "      <th>longitude</th>\n",
              "      <th>state</th>\n",
              "      <th>stars</th>\n",
              "      <th>latitude</th>\n",
              "      <th>attributes</th>\n",
              "      <th>type</th>\n",
              "    </tr>\n",
              "  </thead>\n",
              "  <tbody>\n",
              "    <tr>\n",
              "      <th>1</th>\n",
              "      <td>JwUE5GmEO-sH1FuwJgKBlQ</td>\n",
              "      <td>6162 US Highway 51\\nDe Forest, WI 53532</td>\n",
              "      <td>{}</td>\n",
              "      <td>True</td>\n",
              "      <td>[Restaurants]</td>\n",
              "      <td>De Forest</td>\n",
              "      <td>26</td>\n",
              "      <td>Pine Cone Restaurant</td>\n",
              "      <td>[]</td>\n",
              "      <td>-89.335844</td>\n",
              "      <td>WI</td>\n",
              "      <td>4.0</td>\n",
              "      <td>43.238893</td>\n",
              "      <td>{'Take-out': True, 'Good For': {'dessert': Fal...</td>\n",
              "      <td>business</td>\n",
              "    </tr>\n",
              "    <tr>\n",
              "      <th>2</th>\n",
              "      <td>uGykseHzyS5xAMWoN6YUqA</td>\n",
              "      <td>505 W North St\\nDe Forest, WI 53532</td>\n",
              "      <td>{'Monday': {'close': '22:00', 'open': '06:00'}...</td>\n",
              "      <td>True</td>\n",
              "      <td>[American (Traditional), Restaurants]</td>\n",
              "      <td>De Forest</td>\n",
              "      <td>16</td>\n",
              "      <td>Deforest Family Restaurant</td>\n",
              "      <td>[]</td>\n",
              "      <td>-89.353437</td>\n",
              "      <td>WI</td>\n",
              "      <td>4.0</td>\n",
              "      <td>43.252267</td>\n",
              "      <td>{'Take-out': True, 'Good For': {'dessert': Fal...</td>\n",
              "      <td>business</td>\n",
              "    </tr>\n",
              "    <tr>\n",
              "      <th>3</th>\n",
              "      <td>LRKJF43s9-3jG9Lgx4zODg</td>\n",
              "      <td>4910 County Rd V\\nDe Forest, WI 53532</td>\n",
              "      <td>{'Monday': {'close': '22:00', 'open': '10:30'}...</td>\n",
              "      <td>True</td>\n",
              "      <td>[Food, Ice Cream &amp; Frozen Yogurt, Fast Food, R...</td>\n",
              "      <td>De Forest</td>\n",
              "      <td>7</td>\n",
              "      <td>Culver's</td>\n",
              "      <td>[]</td>\n",
              "      <td>-89.374983</td>\n",
              "      <td>WI</td>\n",
              "      <td>4.5</td>\n",
              "      <td>43.251045</td>\n",
              "      <td>{'Take-out': True, 'Wi-Fi': 'free', 'Takes Res...</td>\n",
              "      <td>business</td>\n",
              "    </tr>\n",
              "  </tbody>\n",
              "</table>\n",
              "</div>"
            ],
            "text/plain": [
              "              business_id  ...      type\n",
              "1  JwUE5GmEO-sH1FuwJgKBlQ  ...  business\n",
              "2  uGykseHzyS5xAMWoN6YUqA  ...  business\n",
              "3  LRKJF43s9-3jG9Lgx4zODg  ...  business\n",
              "\n",
              "[3 rows x 15 columns]"
            ]
          },
          "metadata": {
            "tags": []
          },
          "execution_count": 61
        }
      ]
    },
    {
      "cell_type": "code",
      "metadata": {
        "id": "DLkPnYawUHfA",
        "colab_type": "code",
        "colab": {}
      },
      "source": [
        ""
      ],
      "execution_count": null,
      "outputs": []
    },
    {
      "cell_type": "code",
      "metadata": {
        "id": "lqhO6eO3MvWj",
        "colab_type": "code",
        "colab": {}
      },
      "source": [
        "def get_delivery(attributes): # use this function to get businesses that delivers or\n",
        "     return attributes.get('Delivery')"
      ],
      "execution_count": 57,
      "outputs": []
    },
    {
      "cell_type": "code",
      "metadata": {
        "id": "HZXjPX_0QVYc",
        "colab_type": "code",
        "colab": {}
      },
      "source": [
        "delivers = restaurants_df['attributes'].apply(lambda attributes: attributes.get('Delivery')).fillna(False)\n",
        "delivers  # use lambda function to perform the same task\n",
        "restaurants_df['delivers']= delivers # this assigns the nwly created column delivers to the restaurant dataframe \n",
        "restaurants_df.delivers.mean()\n"
      ],
      "execution_count": null,
      "outputs": []
    },
    {
      "cell_type": "code",
      "metadata": {
        "id": "CKs3LZKtQ9cQ",
        "colab_type": "code",
        "colab": {
          "base_uri": "https://localhost:8080/",
          "height": 357
        },
        "outputId": "2c89c767-2083-4bb2-940d-a2feedcd7c5a"
      },
      "source": [
        "yelp_df.head(3)"
      ],
      "execution_count": 82,
      "outputs": [
        {
          "output_type": "execute_result",
          "data": {
            "text/html": [
              "<div>\n",
              "<style scoped>\n",
              "    .dataframe tbody tr th:only-of-type {\n",
              "        vertical-align: middle;\n",
              "    }\n",
              "\n",
              "    .dataframe tbody tr th {\n",
              "        vertical-align: top;\n",
              "    }\n",
              "\n",
              "    .dataframe thead th {\n",
              "        text-align: right;\n",
              "    }\n",
              "</style>\n",
              "<table border=\"1\" class=\"dataframe\">\n",
              "  <thead>\n",
              "    <tr style=\"text-align: right;\">\n",
              "      <th></th>\n",
              "      <th>business_id</th>\n",
              "      <th>full_address</th>\n",
              "      <th>hours</th>\n",
              "      <th>open</th>\n",
              "      <th>categories</th>\n",
              "      <th>city</th>\n",
              "      <th>review_count</th>\n",
              "      <th>name</th>\n",
              "      <th>neighborhoods</th>\n",
              "      <th>longitude</th>\n",
              "      <th>state</th>\n",
              "      <th>stars</th>\n",
              "      <th>latitude</th>\n",
              "      <th>attributes</th>\n",
              "      <th>type</th>\n",
              "    </tr>\n",
              "  </thead>\n",
              "  <tbody>\n",
              "    <tr>\n",
              "      <th>0</th>\n",
              "      <td>vcNAWiLM4dR7D2nwwJ7nCA</td>\n",
              "      <td>4840 E Indian School Rd\\nSte 101\\nPhoenix, AZ ...</td>\n",
              "      <td>{'Tuesday': {'close': '17:00', 'open': '08:00'...</td>\n",
              "      <td>True</td>\n",
              "      <td>[Doctors, Health &amp; Medical]</td>\n",
              "      <td>Phoenix</td>\n",
              "      <td>7</td>\n",
              "      <td>Eric Goldberg, MD</td>\n",
              "      <td>[]</td>\n",
              "      <td>-111.983758</td>\n",
              "      <td>AZ</td>\n",
              "      <td>3.5</td>\n",
              "      <td>33.499313</td>\n",
              "      <td>{'By Appointment Only': True}</td>\n",
              "      <td>business</td>\n",
              "    </tr>\n",
              "    <tr>\n",
              "      <th>1</th>\n",
              "      <td>JwUE5GmEO-sH1FuwJgKBlQ</td>\n",
              "      <td>6162 US Highway 51\\nDe Forest, WI 53532</td>\n",
              "      <td>{}</td>\n",
              "      <td>True</td>\n",
              "      <td>[Restaurants]</td>\n",
              "      <td>De Forest</td>\n",
              "      <td>26</td>\n",
              "      <td>Pine Cone Restaurant</td>\n",
              "      <td>[]</td>\n",
              "      <td>-89.335844</td>\n",
              "      <td>WI</td>\n",
              "      <td>4.0</td>\n",
              "      <td>43.238893</td>\n",
              "      <td>{'Take-out': True, 'Good For': {'dessert': Fal...</td>\n",
              "      <td>business</td>\n",
              "    </tr>\n",
              "    <tr>\n",
              "      <th>2</th>\n",
              "      <td>uGykseHzyS5xAMWoN6YUqA</td>\n",
              "      <td>505 W North St\\nDe Forest, WI 53532</td>\n",
              "      <td>{'Monday': {'close': '22:00', 'open': '06:00'}...</td>\n",
              "      <td>True</td>\n",
              "      <td>[American (Traditional), Restaurants]</td>\n",
              "      <td>De Forest</td>\n",
              "      <td>16</td>\n",
              "      <td>Deforest Family Restaurant</td>\n",
              "      <td>[]</td>\n",
              "      <td>-89.353437</td>\n",
              "      <td>WI</td>\n",
              "      <td>4.0</td>\n",
              "      <td>43.252267</td>\n",
              "      <td>{'Take-out': True, 'Good For': {'dessert': Fal...</td>\n",
              "      <td>business</td>\n",
              "    </tr>\n",
              "  </tbody>\n",
              "</table>\n",
              "</div>"
            ],
            "text/plain": [
              "              business_id  ...      type\n",
              "0  vcNAWiLM4dR7D2nwwJ7nCA  ...  business\n",
              "1  JwUE5GmEO-sH1FuwJgKBlQ  ...  business\n",
              "2  uGykseHzyS5xAMWoN6YUqA  ...  business\n",
              "\n",
              "[3 rows x 15 columns]"
            ]
          },
          "metadata": {
            "tags": []
          },
          "execution_count": 82
        }
      ]
    },
    {
      "cell_type": "code",
      "metadata": {
        "id": "1Toye1zoSOvs",
        "colab_type": "code",
        "colab": {
          "base_uri": "https://localhost:8080/",
          "height": 454
        },
        "outputId": "37baa876-b557-44f2-c39a-735d931aad86"
      },
      "source": [
        "yelp_df[(yelp_df.state == 'WI') & (yelp_df.stars> 3.6) & (yelp_df.city == 'De Forest')]\n",
        "# this code selects all the city columns with 'De Forest', that the stars column is greater than 3.6 in state WI"
      ],
      "execution_count": 87,
      "outputs": [
        {
          "output_type": "execute_result",
          "data": {
            "text/html": [
              "<div>\n",
              "<style scoped>\n",
              "    .dataframe tbody tr th:only-of-type {\n",
              "        vertical-align: middle;\n",
              "    }\n",
              "\n",
              "    .dataframe tbody tr th {\n",
              "        vertical-align: top;\n",
              "    }\n",
              "\n",
              "    .dataframe thead th {\n",
              "        text-align: right;\n",
              "    }\n",
              "</style>\n",
              "<table border=\"1\" class=\"dataframe\">\n",
              "  <thead>\n",
              "    <tr style=\"text-align: right;\">\n",
              "      <th></th>\n",
              "      <th>business_id</th>\n",
              "      <th>full_address</th>\n",
              "      <th>hours</th>\n",
              "      <th>open</th>\n",
              "      <th>categories</th>\n",
              "      <th>city</th>\n",
              "      <th>review_count</th>\n",
              "      <th>name</th>\n",
              "      <th>neighborhoods</th>\n",
              "      <th>longitude</th>\n",
              "      <th>state</th>\n",
              "      <th>stars</th>\n",
              "      <th>latitude</th>\n",
              "      <th>attributes</th>\n",
              "      <th>type</th>\n",
              "    </tr>\n",
              "  </thead>\n",
              "  <tbody>\n",
              "    <tr>\n",
              "      <th>1</th>\n",
              "      <td>JwUE5GmEO-sH1FuwJgKBlQ</td>\n",
              "      <td>6162 US Highway 51\\nDe Forest, WI 53532</td>\n",
              "      <td>{}</td>\n",
              "      <td>True</td>\n",
              "      <td>[Restaurants]</td>\n",
              "      <td>De Forest</td>\n",
              "      <td>26</td>\n",
              "      <td>Pine Cone Restaurant</td>\n",
              "      <td>[]</td>\n",
              "      <td>-89.335844</td>\n",
              "      <td>WI</td>\n",
              "      <td>4.0</td>\n",
              "      <td>43.238893</td>\n",
              "      <td>{'Take-out': True, 'Good For': {'dessert': Fal...</td>\n",
              "      <td>business</td>\n",
              "    </tr>\n",
              "    <tr>\n",
              "      <th>2</th>\n",
              "      <td>uGykseHzyS5xAMWoN6YUqA</td>\n",
              "      <td>505 W North St\\nDe Forest, WI 53532</td>\n",
              "      <td>{'Monday': {'close': '22:00', 'open': '06:00'}...</td>\n",
              "      <td>True</td>\n",
              "      <td>[American (Traditional), Restaurants]</td>\n",
              "      <td>De Forest</td>\n",
              "      <td>16</td>\n",
              "      <td>Deforest Family Restaurant</td>\n",
              "      <td>[]</td>\n",
              "      <td>-89.353437</td>\n",
              "      <td>WI</td>\n",
              "      <td>4.0</td>\n",
              "      <td>43.252267</td>\n",
              "      <td>{'Take-out': True, 'Good For': {'dessert': Fal...</td>\n",
              "      <td>business</td>\n",
              "    </tr>\n",
              "    <tr>\n",
              "      <th>3</th>\n",
              "      <td>LRKJF43s9-3jG9Lgx4zODg</td>\n",
              "      <td>4910 County Rd V\\nDe Forest, WI 53532</td>\n",
              "      <td>{'Monday': {'close': '22:00', 'open': '10:30'}...</td>\n",
              "      <td>True</td>\n",
              "      <td>[Food, Ice Cream &amp; Frozen Yogurt, Fast Food, R...</td>\n",
              "      <td>De Forest</td>\n",
              "      <td>7</td>\n",
              "      <td>Culver's</td>\n",
              "      <td>[]</td>\n",
              "      <td>-89.374983</td>\n",
              "      <td>WI</td>\n",
              "      <td>4.5</td>\n",
              "      <td>43.251045</td>\n",
              "      <td>{'Take-out': True, 'Wi-Fi': 'free', 'Takes Res...</td>\n",
              "      <td>business</td>\n",
              "    </tr>\n",
              "    <tr>\n",
              "      <th>4</th>\n",
              "      <td>RgDg-k9S5YD_BaxMckifkg</td>\n",
              "      <td>631 S Main St\\nDe Forest, WI 53532</td>\n",
              "      <td>{'Monday': {'close': '22:00', 'open': '11:00'}...</td>\n",
              "      <td>True</td>\n",
              "      <td>[Chinese, Restaurants]</td>\n",
              "      <td>De Forest</td>\n",
              "      <td>3</td>\n",
              "      <td>Chang Jiang Chinese Kitchen</td>\n",
              "      <td>[]</td>\n",
              "      <td>-89.343722</td>\n",
              "      <td>WI</td>\n",
              "      <td>4.0</td>\n",
              "      <td>43.240875</td>\n",
              "      <td>{'Take-out': True, 'Has TV': False, 'Outdoor S...</td>\n",
              "      <td>business</td>\n",
              "    </tr>\n",
              "  </tbody>\n",
              "</table>\n",
              "</div>"
            ],
            "text/plain": [
              "              business_id  ...      type\n",
              "1  JwUE5GmEO-sH1FuwJgKBlQ  ...  business\n",
              "2  uGykseHzyS5xAMWoN6YUqA  ...  business\n",
              "3  LRKJF43s9-3jG9Lgx4zODg  ...  business\n",
              "4  RgDg-k9S5YD_BaxMckifkg  ...  business\n",
              "\n",
              "[4 rows x 15 columns]"
            ]
          },
          "metadata": {
            "tags": []
          },
          "execution_count": 87
        }
      ]
    },
    {
      "cell_type": "code",
      "metadata": {
        "id": "tz2F9gqfVbVS",
        "colab_type": "code",
        "colab": {
          "base_uri": "https://localhost:8080/",
          "height": 85
        },
        "outputId": "db86f400-ad49-41d4-9e0c-970d227559a5"
      },
      "source": [
        "yelp_df_vegas = yelp_df[yelp_df.city.str.contains('Vegas')]\n",
        "yelp_df_vegas.city.unique()\n",
        "#this code selects all the Las Vegas in the city column "
      ],
      "execution_count": 98,
      "outputs": [
        {
          "output_type": "execute_result",
          "data": {
            "text/plain": [
              "array(['Las Vegas', 'North Las Vegas', 'N Las Vegas', 'N. Las Vegas',\n",
              "       'C Las Vegas', 'Las Vegas ', 'Las Vegas, NV 89147',\n",
              "       'Las Vegas East', 'North Las Vegas ', 'N E Las Vegas',\n",
              "       'N W Las Vegas', 'Lake Las Vegas', 'South Las Vegas'], dtype=object)"
            ]
          },
          "metadata": {
            "tags": []
          },
          "execution_count": 98
        }
      ]
    },
    {
      "cell_type": "code",
      "metadata": {
        "id": "ceovRllbWxMN",
        "colab_type": "code",
        "colab": {
          "base_uri": "https://localhost:8080/",
          "height": 357
        },
        "outputId": "5541d608-9351-46da-83dc-f70d6e7b79ac"
      },
      "source": [
        "yelp_df.head(3)"
      ],
      "execution_count": 100,
      "outputs": [
        {
          "output_type": "execute_result",
          "data": {
            "text/html": [
              "<div>\n",
              "<style scoped>\n",
              "    .dataframe tbody tr th:only-of-type {\n",
              "        vertical-align: middle;\n",
              "    }\n",
              "\n",
              "    .dataframe tbody tr th {\n",
              "        vertical-align: top;\n",
              "    }\n",
              "\n",
              "    .dataframe thead th {\n",
              "        text-align: right;\n",
              "    }\n",
              "</style>\n",
              "<table border=\"1\" class=\"dataframe\">\n",
              "  <thead>\n",
              "    <tr style=\"text-align: right;\">\n",
              "      <th></th>\n",
              "      <th>business_id</th>\n",
              "      <th>full_address</th>\n",
              "      <th>hours</th>\n",
              "      <th>open</th>\n",
              "      <th>categories</th>\n",
              "      <th>city</th>\n",
              "      <th>review_count</th>\n",
              "      <th>name</th>\n",
              "      <th>neighborhoods</th>\n",
              "      <th>longitude</th>\n",
              "      <th>state</th>\n",
              "      <th>stars</th>\n",
              "      <th>latitude</th>\n",
              "      <th>attributes</th>\n",
              "      <th>type</th>\n",
              "    </tr>\n",
              "  </thead>\n",
              "  <tbody>\n",
              "    <tr>\n",
              "      <th>0</th>\n",
              "      <td>vcNAWiLM4dR7D2nwwJ7nCA</td>\n",
              "      <td>4840 E Indian School Rd\\nSte 101\\nPhoenix, AZ ...</td>\n",
              "      <td>{'Tuesday': {'close': '17:00', 'open': '08:00'...</td>\n",
              "      <td>True</td>\n",
              "      <td>[Doctors, Health &amp; Medical]</td>\n",
              "      <td>Phoenix</td>\n",
              "      <td>7</td>\n",
              "      <td>Eric Goldberg, MD</td>\n",
              "      <td>[]</td>\n",
              "      <td>-111.983758</td>\n",
              "      <td>AZ</td>\n",
              "      <td>3.5</td>\n",
              "      <td>33.499313</td>\n",
              "      <td>{'By Appointment Only': True}</td>\n",
              "      <td>business</td>\n",
              "    </tr>\n",
              "    <tr>\n",
              "      <th>1</th>\n",
              "      <td>JwUE5GmEO-sH1FuwJgKBlQ</td>\n",
              "      <td>6162 US Highway 51\\nDe Forest, WI 53532</td>\n",
              "      <td>{}</td>\n",
              "      <td>True</td>\n",
              "      <td>[Restaurants]</td>\n",
              "      <td>De Forest</td>\n",
              "      <td>26</td>\n",
              "      <td>Pine Cone Restaurant</td>\n",
              "      <td>[]</td>\n",
              "      <td>-89.335844</td>\n",
              "      <td>WI</td>\n",
              "      <td>4.0</td>\n",
              "      <td>43.238893</td>\n",
              "      <td>{'Take-out': True, 'Good For': {'dessert': Fal...</td>\n",
              "      <td>business</td>\n",
              "    </tr>\n",
              "    <tr>\n",
              "      <th>2</th>\n",
              "      <td>uGykseHzyS5xAMWoN6YUqA</td>\n",
              "      <td>505 W North St\\nDe Forest, WI 53532</td>\n",
              "      <td>{'Monday': {'close': '22:00', 'open': '06:00'}...</td>\n",
              "      <td>True</td>\n",
              "      <td>[American (Traditional), Restaurants]</td>\n",
              "      <td>De Forest</td>\n",
              "      <td>16</td>\n",
              "      <td>Deforest Family Restaurant</td>\n",
              "      <td>[]</td>\n",
              "      <td>-89.353437</td>\n",
              "      <td>WI</td>\n",
              "      <td>4.0</td>\n",
              "      <td>43.252267</td>\n",
              "      <td>{'Take-out': True, 'Good For': {'dessert': Fal...</td>\n",
              "      <td>business</td>\n",
              "    </tr>\n",
              "  </tbody>\n",
              "</table>\n",
              "</div>"
            ],
            "text/plain": [
              "              business_id  ...      type\n",
              "0  vcNAWiLM4dR7D2nwwJ7nCA  ...  business\n",
              "1  JwUE5GmEO-sH1FuwJgKBlQ  ...  business\n",
              "2  uGykseHzyS5xAMWoN6YUqA  ...  business\n",
              "\n",
              "[3 rows x 15 columns]"
            ]
          },
          "metadata": {
            "tags": []
          },
          "execution_count": 100
        }
      ]
    },
    {
      "cell_type": "markdown",
      "metadata": {
        "id": "2Dzm6UDjYLqP",
        "colab_type": "text"
      },
      "source": [
        "**Group By**"
      ]
    },
    {
      "cell_type": "code",
      "metadata": {
        "id": "tsF8e71fWzIj",
        "colab_type": "code",
        "colab": {
          "base_uri": "https://localhost:8080/",
          "height": 141
        },
        "outputId": "0706d928-3187-4399-83c6-7fb499264a23"
      },
      "source": [
        "grouped_df = yelp_df.groupby('city')['stars']\n",
        "grouped_df.mean().head()\n"
      ],
      "execution_count": 120,
      "outputs": [
        {
          "output_type": "execute_result",
          "data": {
            "text/plain": [
              "city\n",
              "Ahwatukee          3.687500\n",
              "Anthem             3.781818\n",
              "Apache Junction    3.637500\n",
              "Arcadia            5.000000\n",
              "Atlanta            3.500000\n",
              "Name: stars, dtype: float64"
            ]
          },
          "metadata": {
            "tags": []
          },
          "execution_count": 120
        }
      ]
    },
    {
      "cell_type": "code",
      "metadata": {
        "id": "9NBlzxbPgb2o",
        "colab_type": "code",
        "colab": {
          "base_uri": "https://localhost:8080/",
          "height": 257
        },
        "outputId": "21d75950-487b-4ae4-c9a4-ce98836ec61f"
      },
      "source": [
        "summary_stats = yelp_df.groupby('city').agg({'stars':['mean','std'],'review_count':'sum','business_id':'count'})\n",
        "summary_stats.head()"
      ],
      "execution_count": 119,
      "outputs": [
        {
          "output_type": "execute_result",
          "data": {
            "text/html": [
              "<div>\n",
              "<style scoped>\n",
              "    .dataframe tbody tr th:only-of-type {\n",
              "        vertical-align: middle;\n",
              "    }\n",
              "\n",
              "    .dataframe tbody tr th {\n",
              "        vertical-align: top;\n",
              "    }\n",
              "\n",
              "    .dataframe thead tr th {\n",
              "        text-align: left;\n",
              "    }\n",
              "\n",
              "    .dataframe thead tr:last-of-type th {\n",
              "        text-align: right;\n",
              "    }\n",
              "</style>\n",
              "<table border=\"1\" class=\"dataframe\">\n",
              "  <thead>\n",
              "    <tr>\n",
              "      <th></th>\n",
              "      <th colspan=\"2\" halign=\"left\">stars</th>\n",
              "      <th>review_count</th>\n",
              "      <th>business_id</th>\n",
              "    </tr>\n",
              "    <tr>\n",
              "      <th></th>\n",
              "      <th>mean</th>\n",
              "      <th>std</th>\n",
              "      <th>sum</th>\n",
              "      <th>count</th>\n",
              "    </tr>\n",
              "    <tr>\n",
              "      <th>city</th>\n",
              "      <th></th>\n",
              "      <th></th>\n",
              "      <th></th>\n",
              "      <th></th>\n",
              "    </tr>\n",
              "  </thead>\n",
              "  <tbody>\n",
              "    <tr>\n",
              "      <th>Ahwatukee</th>\n",
              "      <td>3.687500</td>\n",
              "      <td>1.066955</td>\n",
              "      <td>258</td>\n",
              "      <td>8</td>\n",
              "    </tr>\n",
              "    <tr>\n",
              "      <th>Anthem</th>\n",
              "      <td>3.781818</td>\n",
              "      <td>0.756231</td>\n",
              "      <td>727</td>\n",
              "      <td>55</td>\n",
              "    </tr>\n",
              "    <tr>\n",
              "      <th>Apache Junction</th>\n",
              "      <td>3.637500</td>\n",
              "      <td>1.028010</td>\n",
              "      <td>853</td>\n",
              "      <td>80</td>\n",
              "    </tr>\n",
              "    <tr>\n",
              "      <th>Arcadia</th>\n",
              "      <td>5.000000</td>\n",
              "      <td>NaN</td>\n",
              "      <td>4</td>\n",
              "      <td>1</td>\n",
              "    </tr>\n",
              "    <tr>\n",
              "      <th>Atlanta</th>\n",
              "      <td>3.500000</td>\n",
              "      <td>NaN</td>\n",
              "      <td>16</td>\n",
              "      <td>1</td>\n",
              "    </tr>\n",
              "  </tbody>\n",
              "</table>\n",
              "</div>"
            ],
            "text/plain": [
              "                    stars           review_count business_id\n",
              "                     mean       std          sum       count\n",
              "city                                                        \n",
              "Ahwatukee        3.687500  1.066955          258           8\n",
              "Anthem           3.781818  0.756231          727          55\n",
              "Apache Junction  3.637500  1.028010          853          80\n",
              "Arcadia          5.000000       NaN            4           1\n",
              "Atlanta          3.500000       NaN           16           1"
            ]
          },
          "metadata": {
            "tags": []
          },
          "execution_count": 119
        }
      ]
    },
    {
      "cell_type": "code",
      "metadata": {
        "id": "Oryoswzxio0c",
        "colab_type": "code",
        "colab": {
          "base_uri": "https://localhost:8080/",
          "height": 436
        },
        "outputId": "9f626cbf-7ba8-42a9-919d-852fa3c55d0f"
      },
      "source": [
        "yelp_df.groupby(['city','stars']).mean()\n"
      ],
      "execution_count": 123,
      "outputs": [
        {
          "output_type": "execute_result",
          "data": {
            "text/html": [
              "<div>\n",
              "<style scoped>\n",
              "    .dataframe tbody tr th:only-of-type {\n",
              "        vertical-align: middle;\n",
              "    }\n",
              "\n",
              "    .dataframe tbody tr th {\n",
              "        vertical-align: top;\n",
              "    }\n",
              "\n",
              "    .dataframe thead th {\n",
              "        text-align: right;\n",
              "    }\n",
              "</style>\n",
              "<table border=\"1\" class=\"dataframe\">\n",
              "  <thead>\n",
              "    <tr style=\"text-align: right;\">\n",
              "      <th></th>\n",
              "      <th></th>\n",
              "      <th>open</th>\n",
              "      <th>review_count</th>\n",
              "      <th>longitude</th>\n",
              "      <th>latitude</th>\n",
              "    </tr>\n",
              "    <tr>\n",
              "      <th>city</th>\n",
              "      <th>stars</th>\n",
              "      <th></th>\n",
              "      <th></th>\n",
              "      <th></th>\n",
              "      <th></th>\n",
              "    </tr>\n",
              "  </thead>\n",
              "  <tbody>\n",
              "    <tr>\n",
              "      <th rowspan=\"5\" valign=\"top\">Ahwatukee</th>\n",
              "      <th>2.0</th>\n",
              "      <td>0.000000</td>\n",
              "      <td>7.000000</td>\n",
              "      <td>-111.975151</td>\n",
              "      <td>33.348551</td>\n",
              "    </tr>\n",
              "    <tr>\n",
              "      <th>2.5</th>\n",
              "      <td>1.000000</td>\n",
              "      <td>4.000000</td>\n",
              "      <td>-111.977310</td>\n",
              "      <td>33.320339</td>\n",
              "    </tr>\n",
              "    <tr>\n",
              "      <th>3.0</th>\n",
              "      <td>1.000000</td>\n",
              "      <td>5.000000</td>\n",
              "      <td>-111.991215</td>\n",
              "      <td>33.304874</td>\n",
              "    </tr>\n",
              "    <tr>\n",
              "      <th>4.0</th>\n",
              "      <td>1.000000</td>\n",
              "      <td>111.000000</td>\n",
              "      <td>-111.984551</td>\n",
              "      <td>33.319849</td>\n",
              "    </tr>\n",
              "    <tr>\n",
              "      <th>4.5</th>\n",
              "      <td>1.000000</td>\n",
              "      <td>8.000000</td>\n",
              "      <td>-111.992047</td>\n",
              "      <td>33.324076</td>\n",
              "    </tr>\n",
              "    <tr>\n",
              "      <th>...</th>\n",
              "      <th>...</th>\n",
              "      <td>...</td>\n",
              "      <td>...</td>\n",
              "      <td>...</td>\n",
              "      <td>...</td>\n",
              "    </tr>\n",
              "    <tr>\n",
              "      <th rowspan=\"4\" valign=\"top\">Youngtown</th>\n",
              "      <th>3.0</th>\n",
              "      <td>1.000000</td>\n",
              "      <td>7.000000</td>\n",
              "      <td>-112.301042</td>\n",
              "      <td>33.605731</td>\n",
              "    </tr>\n",
              "    <tr>\n",
              "      <th>4.0</th>\n",
              "      <td>1.000000</td>\n",
              "      <td>11.000000</td>\n",
              "      <td>-112.298765</td>\n",
              "      <td>33.592236</td>\n",
              "    </tr>\n",
              "    <tr>\n",
              "      <th>4.5</th>\n",
              "      <td>1.000000</td>\n",
              "      <td>7.000000</td>\n",
              "      <td>-112.302164</td>\n",
              "      <td>33.604810</td>\n",
              "    </tr>\n",
              "    <tr>\n",
              "      <th>5.0</th>\n",
              "      <td>0.833333</td>\n",
              "      <td>5.333333</td>\n",
              "      <td>-112.300137</td>\n",
              "      <td>33.600599</td>\n",
              "    </tr>\n",
              "    <tr>\n",
              "      <th>chandler</th>\n",
              "      <th>5.0</th>\n",
              "      <td>1.000000</td>\n",
              "      <td>3.000000</td>\n",
              "      <td>-111.915341</td>\n",
              "      <td>33.324494</td>\n",
              "    </tr>\n",
              "  </tbody>\n",
              "</table>\n",
              "<p>616 rows × 4 columns</p>\n",
              "</div>"
            ],
            "text/plain": [
              "                     open  review_count   longitude   latitude\n",
              "city      stars                                               \n",
              "Ahwatukee 2.0    0.000000      7.000000 -111.975151  33.348551\n",
              "          2.5    1.000000      4.000000 -111.977310  33.320339\n",
              "          3.0    1.000000      5.000000 -111.991215  33.304874\n",
              "          4.0    1.000000    111.000000 -111.984551  33.319849\n",
              "          4.5    1.000000      8.000000 -111.992047  33.324076\n",
              "...                   ...           ...         ...        ...\n",
              "Youngtown 3.0    1.000000      7.000000 -112.301042  33.605731\n",
              "          4.0    1.000000     11.000000 -112.298765  33.592236\n",
              "          4.5    1.000000      7.000000 -112.302164  33.604810\n",
              "          5.0    0.833333      5.333333 -112.300137  33.600599\n",
              "chandler  5.0    1.000000      3.000000 -111.915341  33.324494\n",
              "\n",
              "[616 rows x 4 columns]"
            ]
          },
          "metadata": {
            "tags": []
          },
          "execution_count": 123
        }
      ]
    },
    {
      "cell_type": "code",
      "metadata": {
        "id": "Cyg0XhTElMt4",
        "colab_type": "code",
        "colab": {
          "base_uri": "https://localhost:8080/",
          "height": 238
        },
        "outputId": "a29d932f-81d3-419e-9a95-e4fdb3232c69"
      },
      "source": [
        "def count_categories(group):\n",
        "     categories = set()\n",
        "     for row in group:\n",
        "        categories.update(row)\n",
        "     return len(categories)\n",
        "\n",
        "yelp_df.groupby('city')['categories'].apply(count_categories)"
      ],
      "execution_count": 127,
      "outputs": [
        {
          "output_type": "execute_result",
          "data": {
            "text/plain": [
              "city\n",
              "Ahwatukee          21\n",
              "Anthem             75\n",
              "Apache Junction    87\n",
              "Arcadia             5\n",
              "Atlanta             2\n",
              "                   ..\n",
              "Wickenburg         42\n",
              "Windsor            15\n",
              "Woolwich            4\n",
              "Youngtown          23\n",
              "chandler            2\n",
              "Name: categories, Length: 167, dtype: int64"
            ]
          },
          "metadata": {
            "tags": []
          },
          "execution_count": 127
        }
      ]
    },
    {
      "cell_type": "markdown",
      "metadata": {
        "id": "d_h85kR2roEq",
        "colab_type": "text"
      },
      "source": [
        "**sorting DataFrames**"
      ]
    },
    {
      "cell_type": "code",
      "metadata": {
        "id": "wYLsFyCRnLlP",
        "colab_type": "code",
        "colab": {
          "base_uri": "https://localhost:8080/",
          "height": 374
        },
        "outputId": "cff82d23-894f-4936-872e-51b1d568def9"
      },
      "source": [
        "yelp_df.sort_values('stars').head(3) # sorting the dataframe by values in stars"
      ],
      "execution_count": 129,
      "outputs": [
        {
          "output_type": "execute_result",
          "data": {
            "text/html": [
              "<div>\n",
              "<style scoped>\n",
              "    .dataframe tbody tr th:only-of-type {\n",
              "        vertical-align: middle;\n",
              "    }\n",
              "\n",
              "    .dataframe tbody tr th {\n",
              "        vertical-align: top;\n",
              "    }\n",
              "\n",
              "    .dataframe thead th {\n",
              "        text-align: right;\n",
              "    }\n",
              "</style>\n",
              "<table border=\"1\" class=\"dataframe\">\n",
              "  <thead>\n",
              "    <tr style=\"text-align: right;\">\n",
              "      <th></th>\n",
              "      <th>business_id</th>\n",
              "      <th>full_address</th>\n",
              "      <th>hours</th>\n",
              "      <th>open</th>\n",
              "      <th>categories</th>\n",
              "      <th>city</th>\n",
              "      <th>review_count</th>\n",
              "      <th>name</th>\n",
              "      <th>neighborhoods</th>\n",
              "      <th>longitude</th>\n",
              "      <th>state</th>\n",
              "      <th>stars</th>\n",
              "      <th>latitude</th>\n",
              "      <th>attributes</th>\n",
              "      <th>type</th>\n",
              "    </tr>\n",
              "  </thead>\n",
              "  <tbody>\n",
              "    <tr>\n",
              "      <th>36220</th>\n",
              "      <td>2Q2tZ0yQo25cni0PT2j0Zw</td>\n",
              "      <td>6420 Spring Mountain Rd\\nChinatown\\nLas Vegas,...</td>\n",
              "      <td>{}</td>\n",
              "      <td>True</td>\n",
              "      <td>[Real Estate Services, Property Management, Ho...</td>\n",
              "      <td>Las Vegas</td>\n",
              "      <td>3</td>\n",
              "      <td>Total Real Eatate of Nevada</td>\n",
              "      <td>[Chinatown]</td>\n",
              "      <td>-115.232316</td>\n",
              "      <td>NV</td>\n",
              "      <td>1.0</td>\n",
              "      <td>36.125870</td>\n",
              "      <td>{}</td>\n",
              "      <td>business</td>\n",
              "    </tr>\n",
              "    <tr>\n",
              "      <th>27946</th>\n",
              "      <td>cHvL85QIV-L2-YlLOcwlCw</td>\n",
              "      <td>5235 S Kyrene Rd\\nSte 106\\nTempe, AZ 85283</td>\n",
              "      <td>{'Monday': {'close': '18:00', 'open': '10:00'}...</td>\n",
              "      <td>True</td>\n",
              "      <td>[Sporting Goods, Shopping, Golf Equipment, Out...</td>\n",
              "      <td>Tempe</td>\n",
              "      <td>3</td>\n",
              "      <td>Custom Golf Center</td>\n",
              "      <td>[]</td>\n",
              "      <td>-111.945955</td>\n",
              "      <td>AZ</td>\n",
              "      <td>1.0</td>\n",
              "      <td>33.376734</td>\n",
              "      <td>{}</td>\n",
              "      <td>business</td>\n",
              "    </tr>\n",
              "    <tr>\n",
              "      <th>36332</th>\n",
              "      <td>e23Sa3FCTaIOSZzJsT8sIQ</td>\n",
              "      <td>3949 N Drinkwater Blvd\\nScottsdale, AZ 85251</td>\n",
              "      <td>{}</td>\n",
              "      <td>True</td>\n",
              "      <td>[Professional Services, Internet Service Provi...</td>\n",
              "      <td>Scottsdale</td>\n",
              "      <td>3</td>\n",
              "      <td>Cox Cable</td>\n",
              "      <td>[]</td>\n",
              "      <td>-111.921620</td>\n",
              "      <td>AZ</td>\n",
              "      <td>1.0</td>\n",
              "      <td>33.493469</td>\n",
              "      <td>{}</td>\n",
              "      <td>business</td>\n",
              "    </tr>\n",
              "  </tbody>\n",
              "</table>\n",
              "</div>"
            ],
            "text/plain": [
              "                  business_id  ...      type\n",
              "36220  2Q2tZ0yQo25cni0PT2j0Zw  ...  business\n",
              "27946  cHvL85QIV-L2-YlLOcwlCw  ...  business\n",
              "36332  e23Sa3FCTaIOSZzJsT8sIQ  ...  business\n",
              "\n",
              "[3 rows x 15 columns]"
            ]
          },
          "metadata": {
            "tags": []
          },
          "execution_count": 129
        }
      ]
    },
    {
      "cell_type": "code",
      "metadata": {
        "id": "qh3u2qS6r0M1",
        "colab_type": "code",
        "colab": {
          "base_uri": "https://localhost:8080/",
          "height": 387
        },
        "outputId": "e40fe3e7-d789-4a5a-b980-d0a658cfa826"
      },
      "source": [
        "yelp_df.set_index('business_id').sort_index().head(3)"
      ],
      "execution_count": 132,
      "outputs": [
        {
          "output_type": "execute_result",
          "data": {
            "text/html": [
              "<div>\n",
              "<style scoped>\n",
              "    .dataframe tbody tr th:only-of-type {\n",
              "        vertical-align: middle;\n",
              "    }\n",
              "\n",
              "    .dataframe tbody tr th {\n",
              "        vertical-align: top;\n",
              "    }\n",
              "\n",
              "    .dataframe thead th {\n",
              "        text-align: right;\n",
              "    }\n",
              "</style>\n",
              "<table border=\"1\" class=\"dataframe\">\n",
              "  <thead>\n",
              "    <tr style=\"text-align: right;\">\n",
              "      <th></th>\n",
              "      <th>full_address</th>\n",
              "      <th>hours</th>\n",
              "      <th>open</th>\n",
              "      <th>categories</th>\n",
              "      <th>city</th>\n",
              "      <th>review_count</th>\n",
              "      <th>name</th>\n",
              "      <th>neighborhoods</th>\n",
              "      <th>longitude</th>\n",
              "      <th>state</th>\n",
              "      <th>stars</th>\n",
              "      <th>latitude</th>\n",
              "      <th>attributes</th>\n",
              "      <th>type</th>\n",
              "    </tr>\n",
              "    <tr>\n",
              "      <th>business_id</th>\n",
              "      <th></th>\n",
              "      <th></th>\n",
              "      <th></th>\n",
              "      <th></th>\n",
              "      <th></th>\n",
              "      <th></th>\n",
              "      <th></th>\n",
              "      <th></th>\n",
              "      <th></th>\n",
              "      <th></th>\n",
              "      <th></th>\n",
              "      <th></th>\n",
              "      <th></th>\n",
              "      <th></th>\n",
              "    </tr>\n",
              "  </thead>\n",
              "  <tbody>\n",
              "    <tr>\n",
              "      <th>--1emggGHgoG6ipd_RMb-g</th>\n",
              "      <td>3280 S Decatur Blvd\\nWestside\\nLas Vegas, NV 8...</td>\n",
              "      <td>{}</td>\n",
              "      <td>True</td>\n",
              "      <td>[Food, Convenience Stores]</td>\n",
              "      <td>Las Vegas</td>\n",
              "      <td>4</td>\n",
              "      <td>Sinclair</td>\n",
              "      <td>[Westside]</td>\n",
              "      <td>-115.207238</td>\n",
              "      <td>NV</td>\n",
              "      <td>4.0</td>\n",
              "      <td>36.130531</td>\n",
              "      <td>{'Parking': {'garage': False, 'street': False,...</td>\n",
              "      <td>business</td>\n",
              "    </tr>\n",
              "    <tr>\n",
              "      <th>--4Pe8BZ6gj57VFL5mUE8g</th>\n",
              "      <td>21001 North Tatum Blvd. #24\\nPhoenix, AZ 85050</td>\n",
              "      <td>{}</td>\n",
              "      <td>True</td>\n",
              "      <td>[Shopping, Office Equipment]</td>\n",
              "      <td>Phoenix</td>\n",
              "      <td>5</td>\n",
              "      <td>Office Max</td>\n",
              "      <td>[]</td>\n",
              "      <td>-111.974607</td>\n",
              "      <td>AZ</td>\n",
              "      <td>3.0</td>\n",
              "      <td>33.678615</td>\n",
              "      <td>{'Parking': {'garage': False, 'street': False,...</td>\n",
              "      <td>business</td>\n",
              "    </tr>\n",
              "    <tr>\n",
              "      <th>--5jkZ3-nUPZxUvtcbr8Uw</th>\n",
              "      <td>1336 N Scottsdale Rd\\nScottsdale, AZ 85257</td>\n",
              "      <td>{'Monday': {'close': '21:00', 'open': '11:00'}...</td>\n",
              "      <td>True</td>\n",
              "      <td>[Greek, Restaurants]</td>\n",
              "      <td>Scottsdale</td>\n",
              "      <td>42</td>\n",
              "      <td>Mika's Greek</td>\n",
              "      <td>[]</td>\n",
              "      <td>-111.926908</td>\n",
              "      <td>AZ</td>\n",
              "      <td>4.5</td>\n",
              "      <td>33.463373</td>\n",
              "      <td>{'Take-out': True, 'Wi-Fi': 'no', 'Good For': ...</td>\n",
              "      <td>business</td>\n",
              "    </tr>\n",
              "  </tbody>\n",
              "</table>\n",
              "</div>"
            ],
            "text/plain": [
              "                                                             full_address  ...      type\n",
              "business_id                                                                ...          \n",
              "--1emggGHgoG6ipd_RMb-g  3280 S Decatur Blvd\\nWestside\\nLas Vegas, NV 8...  ...  business\n",
              "--4Pe8BZ6gj57VFL5mUE8g     21001 North Tatum Blvd. #24\\nPhoenix, AZ 85050  ...  business\n",
              "--5jkZ3-nUPZxUvtcbr8Uw         1336 N Scottsdale Rd\\nScottsdale, AZ 85257  ...  business\n",
              "\n",
              "[3 rows x 14 columns]"
            ]
          },
          "metadata": {
            "tags": []
          },
          "execution_count": 132
        }
      ]
    },
    {
      "cell_type": "markdown",
      "metadata": {
        "id": "GJcLg1cuzNkJ",
        "colab_type": "text"
      },
      "source": [
        "**joining Datasets**"
      ]
    },
    {
      "cell_type": "code",
      "metadata": {
        "id": "9i3WkiWPsm4M",
        "colab_type": "code",
        "colab": {
          "base_uri": "https://localhost:8080/",
          "height": 244
        },
        "outputId": "ff9d01d8-bac6-4d46-dff9-4687acb7ffb1"
      },
      "source": [
        "census = pd.read_csv('PEP_2016_PEPANNRES.csv', skiprows=[1])\n",
        "\n",
        "census.head(2)"
      ],
      "execution_count": 138,
      "outputs": [
        {
          "output_type": "execute_result",
          "data": {
            "text/html": [
              "<div>\n",
              "<style scoped>\n",
              "    .dataframe tbody tr th:only-of-type {\n",
              "        vertical-align: middle;\n",
              "    }\n",
              "\n",
              "    .dataframe tbody tr th {\n",
              "        vertical-align: top;\n",
              "    }\n",
              "\n",
              "    .dataframe thead th {\n",
              "        text-align: right;\n",
              "    }\n",
              "</style>\n",
              "<table border=\"1\" class=\"dataframe\">\n",
              "  <thead>\n",
              "    <tr style=\"text-align: right;\">\n",
              "      <th></th>\n",
              "      <th>GEO.id</th>\n",
              "      <th>GEO.id2</th>\n",
              "      <th>GEO.display-label</th>\n",
              "      <th>rescen42010</th>\n",
              "      <th>resbase42010</th>\n",
              "      <th>respop72010</th>\n",
              "      <th>respop72011</th>\n",
              "      <th>respop72012</th>\n",
              "      <th>respop72013</th>\n",
              "      <th>respop72014</th>\n",
              "      <th>respop72015</th>\n",
              "      <th>respop72016</th>\n",
              "    </tr>\n",
              "  </thead>\n",
              "  <tbody>\n",
              "    <tr>\n",
              "      <th>0</th>\n",
              "      <td>0610000US0900104720</td>\n",
              "      <td>900104720</td>\n",
              "      <td>Bethel town, Fairfield County, Connecticut</td>\n",
              "      <td>18584.0</td>\n",
              "      <td>18584</td>\n",
              "      <td>18642</td>\n",
              "      <td>18942</td>\n",
              "      <td>19150</td>\n",
              "      <td>19267</td>\n",
              "      <td>19316</td>\n",
              "      <td>19463</td>\n",
              "      <td>19627</td>\n",
              "    </tr>\n",
              "    <tr>\n",
              "      <th>1</th>\n",
              "      <td>0610000US0900108070</td>\n",
              "      <td>900108070</td>\n",
              "      <td>Bridgeport town, Fairfield County, Connecticut</td>\n",
              "      <td>144229.0</td>\n",
              "      <td>144236</td>\n",
              "      <td>144912</td>\n",
              "      <td>146226</td>\n",
              "      <td>146962</td>\n",
              "      <td>147666</td>\n",
              "      <td>147560</td>\n",
              "      <td>147090</td>\n",
              "      <td>145936</td>\n",
              "    </tr>\n",
              "  </tbody>\n",
              "</table>\n",
              "</div>"
            ],
            "text/plain": [
              "                GEO.id    GEO.id2  ... respop72015  respop72016\n",
              "0  0610000US0900104720  900104720  ...       19463        19627\n",
              "1  0610000US0900108070  900108070  ...      147090       145936\n",
              "\n",
              "[2 rows x 12 columns]"
            ]
          },
          "metadata": {
            "tags": []
          },
          "execution_count": 138
        }
      ]
    },
    {
      "cell_type": "code",
      "metadata": {
        "id": "ExOVct85zSJT",
        "colab_type": "code",
        "colab": {}
      },
      "source": [
        "census['city'] = census['GEO.display-label'].apply(lambda x: x.split(', ')[0])\n",
        "census['state'] = census['GEO.display-label'].apply(lambda x: x.split(', ')[2])"
      ],
      "execution_count": 139,
      "outputs": []
    },
    {
      "cell_type": "code",
      "metadata": {
        "id": "IZxIUmMq0o9h",
        "colab_type": "code",
        "colab": {
          "base_uri": "https://localhost:8080/",
          "height": 70
        },
        "outputId": "7cc54d79-122d-491d-d40a-75b76966f9fa"
      },
      "source": [
        "census.city.unique()"
      ],
      "execution_count": 144,
      "outputs": [
        {
          "output_type": "execute_result",
          "data": {
            "text/plain": [
              "array(['Bethel town', 'Bridgeport town', 'Brookfield town', ...,\n",
              "       'Sherry town', 'Vesper village', 'Wisconsin Rapids city'],\n",
              "      dtype=object)"
            ]
          },
          "metadata": {
            "tags": []
          },
          "execution_count": 144
        }
      ]
    },
    {
      "cell_type": "code",
      "metadata": {
        "id": "hZfFCSGD0skH",
        "colab_type": "code",
        "colab": {}
      },
      "source": [
        "state_abbr = dict(zip(census.state.unique(),['CT', 'IL', 'IN', 'KS', 'ME', 'MA', 'MI', 'MN', 'MO', 'NE', 'NH', 'NJ', 'NY', 'ND', 'OH', 'PA', 'RI', 'SD', 'VT', 'WI']))\n",
        "state_abbr"
      ],
      "execution_count": null,
      "outputs": []
    },
    {
      "cell_type": "code",
      "metadata": {
        "id": "2F7PtxZN1zqz",
        "colab_type": "code",
        "colab": {}
      },
      "source": [
        "census.state = census['state'].replace(state_abbr)"
      ],
      "execution_count": 148,
      "outputs": []
    },
    {
      "cell_type": "code",
      "metadata": {
        "id": "n0wTcJ0i2LNJ",
        "colab_type": "code",
        "colab": {}
      },
      "source": [
        "# remove last word (e.g. 'city', 'town', township', 'borough', 'village') from city names\n",
        "\n",
        "census['city'] = census['city'].apply(lambda x: ' '.join(x.split(' ')[:-1]))"
      ],
      "execution_count": 150,
      "outputs": []
    },
    {
      "cell_type": "code",
      "metadata": {
        "id": "eh-nLf2Q2XzJ",
        "colab_type": "code",
        "colab": {
          "base_uri": "https://localhost:8080/",
          "height": 424
        },
        "outputId": "2baa8932-0216-49dc-c2ca-dc93ca01b37e"
      },
      "source": [
        "merged_df = yelp_df.merge(census, on = ['city', 'state'], how = 'inner')\n",
        "merged_df.head(3)\n"
      ],
      "execution_count": 158,
      "outputs": [
        {
          "output_type": "execute_result",
          "data": {
            "text/html": [
              "<div>\n",
              "<style scoped>\n",
              "    .dataframe tbody tr th:only-of-type {\n",
              "        vertical-align: middle;\n",
              "    }\n",
              "\n",
              "    .dataframe tbody tr th {\n",
              "        vertical-align: top;\n",
              "    }\n",
              "\n",
              "    .dataframe thead th {\n",
              "        text-align: right;\n",
              "    }\n",
              "</style>\n",
              "<table border=\"1\" class=\"dataframe\">\n",
              "  <thead>\n",
              "    <tr style=\"text-align: right;\">\n",
              "      <th></th>\n",
              "      <th>business_id</th>\n",
              "      <th>full_address</th>\n",
              "      <th>hours</th>\n",
              "      <th>open</th>\n",
              "      <th>categories</th>\n",
              "      <th>city</th>\n",
              "      <th>review_count</th>\n",
              "      <th>name</th>\n",
              "      <th>neighborhoods</th>\n",
              "      <th>longitude</th>\n",
              "      <th>state</th>\n",
              "      <th>stars</th>\n",
              "      <th>latitude</th>\n",
              "      <th>attributes</th>\n",
              "      <th>type</th>\n",
              "      <th>GEO.id</th>\n",
              "      <th>GEO.id2</th>\n",
              "      <th>GEO.display-label</th>\n",
              "      <th>rescen42010</th>\n",
              "      <th>resbase42010</th>\n",
              "      <th>respop72010</th>\n",
              "      <th>respop72011</th>\n",
              "      <th>respop72012</th>\n",
              "      <th>respop72013</th>\n",
              "      <th>respop72014</th>\n",
              "      <th>respop72015</th>\n",
              "      <th>respop72016</th>\n",
              "    </tr>\n",
              "  </thead>\n",
              "  <tbody>\n",
              "    <tr>\n",
              "      <th>0</th>\n",
              "      <td>HxPpZSY6Q1eARuiahhra6A</td>\n",
              "      <td>6401 University Ave\\nMiddleton, WI 53562</td>\n",
              "      <td>{}</td>\n",
              "      <td>False</td>\n",
              "      <td>[Event Planning &amp; Services, Party &amp; Event Plan...</td>\n",
              "      <td>Middleton</td>\n",
              "      <td>5</td>\n",
              "      <td>Crandalls Carryout &amp; Catering</td>\n",
              "      <td>[]</td>\n",
              "      <td>-89.491800</td>\n",
              "      <td>WI</td>\n",
              "      <td>4.0</td>\n",
              "      <td>43.093265</td>\n",
              "      <td>{'Take-out': True, 'Caters': True, 'Attire': '...</td>\n",
              "      <td>business</td>\n",
              "      <td>0610000US5502551575</td>\n",
              "      <td>5502551575</td>\n",
              "      <td>Middleton city, Dane County, Wisconsin</td>\n",
              "      <td>17442.0</td>\n",
              "      <td>17558</td>\n",
              "      <td>17622</td>\n",
              "      <td>17903</td>\n",
              "      <td>18271</td>\n",
              "      <td>18522</td>\n",
              "      <td>18694</td>\n",
              "      <td>18955</td>\n",
              "      <td>19109</td>\n",
              "    </tr>\n",
              "    <tr>\n",
              "      <th>1</th>\n",
              "      <td>HxPpZSY6Q1eARuiahhra6A</td>\n",
              "      <td>6401 University Ave\\nMiddleton, WI 53562</td>\n",
              "      <td>{}</td>\n",
              "      <td>False</td>\n",
              "      <td>[Event Planning &amp; Services, Party &amp; Event Plan...</td>\n",
              "      <td>Middleton</td>\n",
              "      <td>5</td>\n",
              "      <td>Crandalls Carryout &amp; Catering</td>\n",
              "      <td>[]</td>\n",
              "      <td>-89.491800</td>\n",
              "      <td>WI</td>\n",
              "      <td>4.0</td>\n",
              "      <td>43.093265</td>\n",
              "      <td>{'Take-out': True, 'Caters': True, 'Attire': '...</td>\n",
              "      <td>business</td>\n",
              "      <td>0610000US5502551600</td>\n",
              "      <td>5502551600</td>\n",
              "      <td>Middleton town, Dane County, Wisconsin</td>\n",
              "      <td>5877.0</td>\n",
              "      <td>5831</td>\n",
              "      <td>5845</td>\n",
              "      <td>5943</td>\n",
              "      <td>6030</td>\n",
              "      <td>6086</td>\n",
              "      <td>6140</td>\n",
              "      <td>6179</td>\n",
              "      <td>6257</td>\n",
              "    </tr>\n",
              "    <tr>\n",
              "      <th>2</th>\n",
              "      <td>SKLw05kEIlZcpTD5pqma8Q</td>\n",
              "      <td>2039 Allen Blvd\\nMiddleton, WI 53562</td>\n",
              "      <td>{'Monday': {'close': '14:00', 'open': '11:00'}...</td>\n",
              "      <td>True</td>\n",
              "      <td>[Party &amp; Event Planning, Asian Fusion, Event P...</td>\n",
              "      <td>Middleton</td>\n",
              "      <td>41</td>\n",
              "      <td>Imperial Garden Chinese Restaurant</td>\n",
              "      <td>[]</td>\n",
              "      <td>-89.485169</td>\n",
              "      <td>WI</td>\n",
              "      <td>3.0</td>\n",
              "      <td>43.090642</td>\n",
              "      <td>{'Take-out': True, 'Good For': {'dessert': Fal...</td>\n",
              "      <td>business</td>\n",
              "      <td>0610000US5502551575</td>\n",
              "      <td>5502551575</td>\n",
              "      <td>Middleton city, Dane County, Wisconsin</td>\n",
              "      <td>17442.0</td>\n",
              "      <td>17558</td>\n",
              "      <td>17622</td>\n",
              "      <td>17903</td>\n",
              "      <td>18271</td>\n",
              "      <td>18522</td>\n",
              "      <td>18694</td>\n",
              "      <td>18955</td>\n",
              "      <td>19109</td>\n",
              "    </tr>\n",
              "  </tbody>\n",
              "</table>\n",
              "</div>"
            ],
            "text/plain": [
              "              business_id  ... respop72016\n",
              "0  HxPpZSY6Q1eARuiahhra6A  ...       19109\n",
              "1  HxPpZSY6Q1eARuiahhra6A  ...        6257\n",
              "2  SKLw05kEIlZcpTD5pqma8Q  ...       19109\n",
              "\n",
              "[3 rows x 27 columns]"
            ]
          },
          "metadata": {
            "tags": []
          },
          "execution_count": 158
        }
      ]
    },
    {
      "cell_type": "code",
      "metadata": {
        "id": "E4d8P_wV2vwo",
        "colab_type": "code",
        "colab": {
          "base_uri": "https://localhost:8080/",
          "height": 141
        },
        "outputId": "82bd3aeb-b413-491d-9655-df9916a83b10"
      },
      "source": [
        "city_counts = yelp_df.groupby('city')['business_id'].count().rename('city_counts')\n",
        "city_counts.head()"
      ],
      "execution_count": 159,
      "outputs": [
        {
          "output_type": "execute_result",
          "data": {
            "text/plain": [
              "city\n",
              "Ahwatukee           8\n",
              "Anthem             55\n",
              "Apache Junction    80\n",
              "Arcadia             1\n",
              "Atlanta             1\n",
              "Name: city_counts, dtype: int64"
            ]
          },
          "metadata": {
            "tags": []
          },
          "execution_count": 159
        }
      ]
    },
    {
      "cell_type": "code",
      "metadata": {
        "id": "JUeb5QRZ56CT",
        "colab_type": "code",
        "colab": {
          "base_uri": "https://localhost:8080/",
          "height": 357
        },
        "outputId": "6aede598-a885-4778-b742-92c263d81341"
      },
      "source": [
        "pd.concat([yelp_df.set_index('city'), city_counts], axis=1, join='inner').reset_index().head(3)"
      ],
      "execution_count": 161,
      "outputs": [
        {
          "output_type": "execute_result",
          "data": {
            "text/html": [
              "<div>\n",
              "<style scoped>\n",
              "    .dataframe tbody tr th:only-of-type {\n",
              "        vertical-align: middle;\n",
              "    }\n",
              "\n",
              "    .dataframe tbody tr th {\n",
              "        vertical-align: top;\n",
              "    }\n",
              "\n",
              "    .dataframe thead th {\n",
              "        text-align: right;\n",
              "    }\n",
              "</style>\n",
              "<table border=\"1\" class=\"dataframe\">\n",
              "  <thead>\n",
              "    <tr style=\"text-align: right;\">\n",
              "      <th></th>\n",
              "      <th>city</th>\n",
              "      <th>business_id</th>\n",
              "      <th>full_address</th>\n",
              "      <th>hours</th>\n",
              "      <th>open</th>\n",
              "      <th>categories</th>\n",
              "      <th>review_count</th>\n",
              "      <th>name</th>\n",
              "      <th>neighborhoods</th>\n",
              "      <th>longitude</th>\n",
              "      <th>state</th>\n",
              "      <th>stars</th>\n",
              "      <th>latitude</th>\n",
              "      <th>attributes</th>\n",
              "      <th>type</th>\n",
              "      <th>city_counts</th>\n",
              "    </tr>\n",
              "  </thead>\n",
              "  <tbody>\n",
              "    <tr>\n",
              "      <th>0</th>\n",
              "      <td>Phoenix</td>\n",
              "      <td>vcNAWiLM4dR7D2nwwJ7nCA</td>\n",
              "      <td>4840 E Indian School Rd\\nSte 101\\nPhoenix, AZ ...</td>\n",
              "      <td>{'Tuesday': {'close': '17:00', 'open': '08:00'...</td>\n",
              "      <td>True</td>\n",
              "      <td>[Doctors, Health &amp; Medical]</td>\n",
              "      <td>7</td>\n",
              "      <td>Eric Goldberg, MD</td>\n",
              "      <td>[]</td>\n",
              "      <td>-111.983758</td>\n",
              "      <td>AZ</td>\n",
              "      <td>3.5</td>\n",
              "      <td>33.499313</td>\n",
              "      <td>{'By Appointment Only': True}</td>\n",
              "      <td>business</td>\n",
              "      <td>6715</td>\n",
              "    </tr>\n",
              "    <tr>\n",
              "      <th>1</th>\n",
              "      <td>De Forest</td>\n",
              "      <td>JwUE5GmEO-sH1FuwJgKBlQ</td>\n",
              "      <td>6162 US Highway 51\\nDe Forest, WI 53532</td>\n",
              "      <td>{}</td>\n",
              "      <td>True</td>\n",
              "      <td>[Restaurants]</td>\n",
              "      <td>26</td>\n",
              "      <td>Pine Cone Restaurant</td>\n",
              "      <td>[]</td>\n",
              "      <td>-89.335844</td>\n",
              "      <td>WI</td>\n",
              "      <td>4.0</td>\n",
              "      <td>43.238893</td>\n",
              "      <td>{'Take-out': True, 'Good For': {'dessert': Fal...</td>\n",
              "      <td>business</td>\n",
              "      <td>6</td>\n",
              "    </tr>\n",
              "    <tr>\n",
              "      <th>2</th>\n",
              "      <td>De Forest</td>\n",
              "      <td>uGykseHzyS5xAMWoN6YUqA</td>\n",
              "      <td>505 W North St\\nDe Forest, WI 53532</td>\n",
              "      <td>{'Monday': {'close': '22:00', 'open': '06:00'}...</td>\n",
              "      <td>True</td>\n",
              "      <td>[American (Traditional), Restaurants]</td>\n",
              "      <td>16</td>\n",
              "      <td>Deforest Family Restaurant</td>\n",
              "      <td>[]</td>\n",
              "      <td>-89.353437</td>\n",
              "      <td>WI</td>\n",
              "      <td>4.0</td>\n",
              "      <td>43.252267</td>\n",
              "      <td>{'Take-out': True, 'Good For': {'dessert': Fal...</td>\n",
              "      <td>business</td>\n",
              "      <td>6</td>\n",
              "    </tr>\n",
              "  </tbody>\n",
              "</table>\n",
              "</div>"
            ],
            "text/plain": [
              "        city             business_id  ...      type city_counts\n",
              "0    Phoenix  vcNAWiLM4dR7D2nwwJ7nCA  ...  business        6715\n",
              "1  De Forest  JwUE5GmEO-sH1FuwJgKBlQ  ...  business           6\n",
              "2  De Forest  uGykseHzyS5xAMWoN6YUqA  ...  business           6\n",
              "\n",
              "[3 rows x 16 columns]"
            ]
          },
          "metadata": {
            "tags": []
          },
          "execution_count": 161
        }
      ]
    },
    {
      "cell_type": "markdown",
      "metadata": {
        "id": "oYegyiUg9YiT",
        "colab_type": "text"
      },
      "source": [
        "**ploting with pandas**"
      ]
    },
    {
      "cell_type": "code",
      "metadata": {
        "id": "FYXzwi9t59Jj",
        "colab_type": "code",
        "colab": {
          "base_uri": "https://localhost:8080/",
          "height": 286
        },
        "outputId": "8c458fe4-b4f3-4f80-a4e9-f6a48dfef4a2"
      },
      "source": [
        "yelp_df['review_count'].apply(np.log).hist(bins=30)"
      ],
      "execution_count": 162,
      "outputs": [
        {
          "output_type": "execute_result",
          "data": {
            "text/plain": [
              "<matplotlib.axes._subplots.AxesSubplot at 0x7f5481e6acf8>"
            ]
          },
          "metadata": {
            "tags": []
          },
          "execution_count": 162
        },
        {
          "output_type": "display_data",
          "data": {
            "image/png": "[encoded data removed]",
            "text/plain": [
              "<Figure size 432x288 with 1 Axes>"
            ]
          },
          "metadata": {
            "tags": [],
            "needs_background": "light"
          }
        }
      ]
    },
    {
      "cell_type": "code",
      "metadata": {
        "id": "gMg9N1J59jDS",
        "colab_type": "code",
        "colab": {
          "base_uri": "https://localhost:8080/",
          "height": 197
        },
        "outputId": "e871a7dc-4061-448f-8f2b-e5c56cac496e"
      },
      "source": [
        "pop_growth = pd.read_html('https://web.archive.org/web/20170127165708/https://www.census.gov/population/international/data/worldpop/table_population.php', attrs={'class': 'query_table'}, parse_dates=[0])[0]\n",
        "pop_growth.dropna(inplace=True)\n",
        "pop_growth.head()"
      ],
      "execution_count": 164,
      "outputs": [
        {
          "output_type": "execute_result",
          "data": {
            "text/html": [
              "<div>\n",
              "<style scoped>\n",
              "    .dataframe tbody tr th:only-of-type {\n",
              "        vertical-align: middle;\n",
              "    }\n",
              "\n",
              "    .dataframe tbody tr th {\n",
              "        vertical-align: top;\n",
              "    }\n",
              "\n",
              "    .dataframe thead th {\n",
              "        text-align: right;\n",
              "    }\n",
              "</style>\n",
              "<table border=\"1\" class=\"dataframe\">\n",
              "  <thead>\n",
              "    <tr style=\"text-align: right;\">\n",
              "      <th></th>\n",
              "      <th>Year</th>\n",
              "      <th>Population</th>\n",
              "      <th>Annual Growth Rate (%)</th>\n",
              "      <th>Annual Population Change</th>\n",
              "    </tr>\n",
              "  </thead>\n",
              "  <tbody>\n",
              "    <tr>\n",
              "      <th>0</th>\n",
              "      <td>1950-01-01</td>\n",
              "      <td>2.557629e+09</td>\n",
              "      <td>1.459</td>\n",
              "      <td>37311223.0</td>\n",
              "    </tr>\n",
              "    <tr>\n",
              "      <th>1</th>\n",
              "      <td>1951-01-01</td>\n",
              "      <td>2.594940e+09</td>\n",
              "      <td>1.612</td>\n",
              "      <td>41832429.0</td>\n",
              "    </tr>\n",
              "    <tr>\n",
              "      <th>2</th>\n",
              "      <td>1952-01-01</td>\n",
              "      <td>2.636772e+09</td>\n",
              "      <td>1.717</td>\n",
              "      <td>45281083.0</td>\n",
              "    </tr>\n",
              "    <tr>\n",
              "      <th>3</th>\n",
              "      <td>1953-01-01</td>\n",
              "      <td>2.682053e+09</td>\n",
              "      <td>1.796</td>\n",
              "      <td>48174715.0</td>\n",
              "    </tr>\n",
              "    <tr>\n",
              "      <th>4</th>\n",
              "      <td>1954-01-01</td>\n",
              "      <td>2.730228e+09</td>\n",
              "      <td>1.900</td>\n",
              "      <td>51870839.0</td>\n",
              "    </tr>\n",
              "  </tbody>\n",
              "</table>\n",
              "</div>"
            ],
            "text/plain": [
              "        Year    Population  Annual Growth Rate (%)  Annual Population Change\n",
              "0 1950-01-01  2.557629e+09                   1.459                37311223.0\n",
              "1 1951-01-01  2.594940e+09                   1.612                41832429.0\n",
              "2 1952-01-01  2.636772e+09                   1.717                45281083.0\n",
              "3 1953-01-01  2.682053e+09                   1.796                48174715.0\n",
              "4 1954-01-01  2.730228e+09                   1.900                51870839.0"
            ]
          },
          "metadata": {
            "tags": []
          },
          "execution_count": 164
        }
      ]
    },
    {
      "cell_type": "code",
      "metadata": {
        "id": "TuCYVF789f1V",
        "colab_type": "code",
        "colab": {
          "base_uri": "https://localhost:8080/",
          "height": 282
        },
        "outputId": "6c827a94-bde2-47ac-d6c7-dbce552f599b"
      },
      "source": [
        "pop_growth['Annual Growth Rate (%)'].plot()"
      ],
      "execution_count": 165,
      "outputs": [
        {
          "output_type": "execute_result",
          "data": {
            "text/plain": [
              "<matplotlib.axes._subplots.AxesSubplot at 0x7f5481671860>"
            ]
          },
          "metadata": {
            "tags": []
          },
          "execution_count": 165
        },
        {
          "output_type": "display_data",
          "data": {
            "image/png": "[encoded data removed]",
            "text/plain": [
              "<Figure size 432x288 with 1 Axes>"
            ]
          },
          "metadata": {
            "tags": [],
            "needs_background": "light"
          }
        }
      ]
    },
    {
      "cell_type": "code",
      "metadata": {
        "id": "w5aNf1mS9xpO",
        "colab_type": "code",
        "colab": {}
      },
      "source": [
        ""
      ],
      "execution_count": null,
      "outputs": []
    }
  ]
}